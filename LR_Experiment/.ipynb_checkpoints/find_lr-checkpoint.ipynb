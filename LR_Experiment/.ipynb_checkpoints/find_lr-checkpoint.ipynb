{
 "cells": [
  {
   "cell_type": "code",
   "execution_count": 1,
   "metadata": {},
   "outputs": [],
   "source": [
    "import sys\n",
    "sys.path.append(\"src/\")\n",
    "\n",
    "import pandas as pd\n",
    "import numpy as np\n",
    "import tensorflow as tf\n",
    "\n",
    "import os \n",
    "\n",
    "cwd = os.getcwd()\n",
    "os.chdir(\"../src\")\n",
    "import tensorflow_utils as tf_utils\n",
    "import utils as utils\n",
    "from dataset_manager import DataSetManager\n",
    "\n",
    "os.chdir(cwd)\n"
   ]
  },
  {
   "cell_type": "raw",
   "metadata": {},
   "source": [
    "config = tf.ConfigProto(\n",
    "        device_count = {'GPU': 0}\n",
    "    )\n",
    "\n",
    "sess = tf.Session(config=config)"
   ]
  },
  {
   "cell_type": "raw",
   "metadata": {},
   "source": [
    "a = tf.constant(2)\n",
    "b = tf.constant(3)\n",
    "\n",
    "c = sess.run(a+b)\n",
    "print(c)\n",
    "sess.close()"
   ]
  },
  {
   "cell_type": "code",
   "execution_count": 2,
   "metadata": {},
   "outputs": [
    {
     "name": "stdout",
     "output_type": "stream",
     "text": [
      "WARNING:tensorflow:From /home/acevedo/anaconda3/lib/python3.7/site-packages/tensorflow/python/framework/op_def_library.py:263: colocate_with (from tensorflow.python.framework.ops) is deprecated and will be removed in a future version.\n",
      "Instructions for updating:\n",
      "Colocations handled automatically by placer.\n",
      "gen/fc-1/add   [512, 512]\n",
      "gen/fc-2/add   [512, 512]\n",
      "gen/fc-3/add   [512, 512]\n",
      "gen/fc-4/add   [512, 100]\n",
      "is_reuse: False\n",
      "disc/fc-1/add   [None, 512]\n",
      "disc/fc-2/add   [None, 512]\n",
      "disc/fc-3/add   [None, 512]\n",
      "disc/fc-4/add   [None, 1]\n",
      "is_reuse: True\n",
      "disc_1/fc-1/add   [512, 512]\n",
      "disc_1/fc-2/add   [512, 512]\n",
      "disc_1/fc-3/add   [512, 512]\n",
      "disc_1/fc-4/add   [512, 1]\n",
      "is_reuse: True\n",
      "disc_2/fc-1/add   [512, 512]\n",
      "disc_2/fc-2/add   [512, 512]\n",
      "disc_2/fc-3/add   [512, 512]\n",
      "disc_2/fc-4/add   [512, 1]\n"
     ]
    }
   ],
   "source": [
    "\n",
    "DIM = 512  # model dimensionality\n",
    "GEN_DIM = 100  # output dimension of the generator\n",
    "DIS_DIM = 1  # outptu dimension fo the discriminator\n",
    "FIXED_GENERATOR = False  # wheter to hold the generator fixed at ral data plus Gaussian noise, as in the plots in the paper\n",
    "LAMBDA = .1  # smaller lambda makes things faster for toy tasks, but isn't necessary if you increase CRITIC_ITERS enough\n",
    "BATCH_SIZE = 256*2   # batch size\n",
    "ITERS = 10000 #100000 # how many generator iterations to train for\n",
    "FREQ = 250  # sample frequency\n",
    "\n",
    "\n",
    "\n",
    "\n",
    "CRITIC_ITERS = 5  # homw many critic iteractions per generator iteration\n",
    "\n",
    "\n",
    "def Generator_Softmax(n_samples,  name='gen'):\n",
    "\n",
    "    with tf.variable_scope(name):\n",
    "        noise = tf.random_normal([n_samples, GEN_DIM])\n",
    "        output01 = tf_utils.linear(noise, DIM, name='fc-1')\n",
    "        output01 = tf_utils.relu(output01, name='relu-1')\n",
    "        \n",
    "        output02 = tf_utils.linear(output01, DIM, name='fc-2')\n",
    "        output02 = tf_utils.relu(output02, name='relu-2')\n",
    "        \n",
    "        output03 = tf_utils.linear(output02, DIM, name='fc-3')\n",
    "        output03 = tf_utils.relu(output03, name='relu-3')\n",
    "        \n",
    "        output04 = tf_utils.linear(output03, GEN_DIM, name='fc-4')\n",
    "\n",
    "        # Reminder: a logit can be modeled as a linear function of the predictors\n",
    "        output05 = tf.nn.softmax(output04, name = 'softmax-1')\n",
    "\n",
    "        \n",
    "        return output05\n",
    "        \n",
    "\n",
    "def Discriminator(inputs, is_reuse=True, name='disc'):\n",
    "    with tf.variable_scope(name, reuse=is_reuse):\n",
    "        print('is_reuse: {}'.format(is_reuse))\n",
    "        output01 = tf_utils.linear(inputs, DIM, name='fc-1')\n",
    "        output01 = tf_utils.relu(output01, name='relu-1')\n",
    "\n",
    "        output02 = tf_utils.linear(output01, DIM, name='fc-2')\n",
    "        output02 = tf_utils.relu(output02, name='relu-2')\n",
    "\n",
    "        output03 = tf_utils.linear(output02, DIM, name='fc-3')\n",
    "        output03 = tf_utils.relu(output03, name='relu-3')\n",
    "\n",
    "        output04 = tf_utils.linear(output03, DIS_DIM, name='fc-4')\n",
    "        \n",
    "        return output04\n",
    "    \n",
    "real_data = tf.placeholder(tf.float32, shape=[None, GEN_DIM])\n",
    "fake_data = Generator_Softmax(BATCH_SIZE)\n",
    "\n",
    "disc_real = Discriminator(real_data, is_reuse=False)\n",
    "disc_fake = Discriminator(fake_data)\n",
    "\n",
    "disc_cost = tf.reduce_mean(disc_fake) - tf.reduce_mean(disc_real)\n",
    "gen_cost = - tf.reduce_mean(disc_fake)\n",
    "\n",
    "# WGAN gradient penalty parameters\n",
    "\n",
    "alpha = tf.random_uniform(shape=[BATCH_SIZE, 1], minval=0., maxval=1.)\n",
    "interpolates = alpha*real_data + (1.-alpha) * fake_data\n",
    "disc_interpolates = Discriminator(interpolates)\n",
    "gradients = tf.gradients(disc_interpolates, [interpolates][0])\n",
    "slopes = tf.sqrt(tf.reduce_sum(tf.square(gradients), reduction_indices=[1]))\n",
    "gradient_penalty = tf.reduce_mean((slopes - 1)**2)\n",
    "\n",
    "disc_cost += LAMBDA * gradient_penalty\n",
    "    \n",
    "disc_vars = tf.get_collection(tf.GraphKeys.TRAINABLE_VARIABLES, scope='disc')\n",
    "gen_vars = tf.get_collection(tf.GraphKeys.TRAINABLE_VARIABLES, scope='gen')\n"
   ]
  },
  {
   "cell_type": "markdown",
   "metadata": {},
   "source": [
    "# Traning Operations"
   ]
  },
  {
   "cell_type": "code",
   "execution_count": 3,
   "metadata": {},
   "outputs": [
    {
     "name": "stdout",
     "output_type": "stream",
     "text": [
      "WARNING:tensorflow:From /home/acevedo/anaconda3/lib/python3.7/site-packages/tensorflow/python/ops/math_ops.py:3066: to_int32 (from tensorflow.python.ops.math_ops) is deprecated and will be removed in a future version.\n",
      "Instructions for updating:\n",
      "Use tf.cast instead.\n"
     ]
    }
   ],
   "source": [
    "\n",
    "# Use place holders for the learning rate\n",
    "#WGAN Training operations\n",
    "\n",
    "disc_lr = tf.placeholder(tf.float32, shape=()) # 1e-4\n",
    "gen_lr = tf.placeholder(tf.float32, shape=()) # 1e-4\n",
    "\n",
    "disc_train_op = tf.train.AdamOptimizer(learning_rate=disc_lr, beta1=0.5, beta2=0.9).minimize(disc_cost, var_list=disc_vars)\n",
    "\n",
    "if len(gen_vars) > 0:\n",
    "    gen_train_op = tf.train.AdamOptimizer(learning_rate=gen_lr, beta1=0.5, beta2=0.9).minimize(gen_cost, var_list=gen_vars)\n",
    "else:\n",
    "    gen_train_op = tf.no_op()\n"
   ]
  },
  {
   "cell_type": "code",
   "execution_count": null,
   "metadata": {},
   "outputs": [],
   "source": []
  },
  {
   "cell_type": "markdown",
   "metadata": {},
   "source": [
    "# Triangualr CLR"
   ]
  },
  {
   "cell_type": "code",
   "execution_count": null,
   "metadata": {},
   "outputs": [],
   "source": [
    "cycle = np.floor(1+iterations/(2*step_size))\n",
    "x = np.abs(iterations/step_size - 2*cycle + 1)\n",
    "lr = base_lr + (max_lr-base_lr)*np.maximum(0, (1-x))"
   ]
  },
  {
   "cell_type": "code",
   "execution_count": null,
   "metadata": {},
   "outputs": [],
   "source": [
    "%load_ext autoreload\n",
    "%autoreload 2"
   ]
  },
  {
   "cell_type": "code",
   "execution_count": null,
   "metadata": {},
   "outputs": [],
   "source": [
    "%matplotlib inline\n",
    "import matplotlib.pyplot as plt"
   ]
  },
  {
   "cell_type": "code",
   "execution_count": null,
   "metadata": {},
   "outputs": [],
   "source": [
    "from clr import CyclicLR\n",
    "import numpy as np"
   ]
  },
  {
   "cell_type": "code",
   "execution_count": null,
   "metadata": {},
   "outputs": [],
   "source": [
    "pasos = 20000\n",
    "\n",
    "magic_lr = CyclicLR(base_lr=10**-3.8, max_lr=10**-3.72, step_size=pasos)"
   ]
  },
  {
   "cell_type": "code",
   "execution_count": null,
   "metadata": {},
   "outputs": [],
   "source": [
    "def train_step(clr_object):\n",
    "    current_lr = clr_object.clr()\n",
    "    # Sess run training operation\n",
    "    clr_object.on_batch_end()\n",
    "    return current_lr"
   ]
  },
  {
   "cell_type": "code",
   "execution_count": null,
   "metadata": {},
   "outputs": [],
   "source": [
    "record_lr = np.array([ train_step(magic_lr) for k in range(2*pasos)])"
   ]
  },
  {
   "cell_type": "code",
   "execution_count": null,
   "metadata": {},
   "outputs": [],
   "source": [
    "%matplotlib inline\n",
    "import matplotlib.pyplot as plt\n",
    "plt.plot(record_lr)"
   ]
  },
  {
   "cell_type": "markdown",
   "metadata": {},
   "source": [
    "# GAN Trainin Loop"
   ]
  },
  {
   "cell_type": "code",
   "execution_count": 4,
   "metadata": {},
   "outputs": [],
   "source": [
    "from clr import CyclicLR\n",
    "import numpy as np"
   ]
  },
  {
   "cell_type": "code",
   "execution_count": 5,
   "metadata": {},
   "outputs": [
    {
     "name": "stdout",
     "output_type": "stream",
     "text": [
      "401912995\n"
     ]
    }
   ],
   "source": [
    "partiton_n = pd.read_csv('random_amounts.csv', header=None).values.flatten()\n",
    "train_set =  pd.read_csv('../data/k3_dir/k3_train_set.csv', header=None).values\n",
    "\n",
    "np.random.seed(42)\n",
    "indices = np.random.randint(0,train_set.shape[0], size=partiton_n[0]).tolist()\n",
    "print(np.sum(indices))\n",
    "\n",
    "\n",
    "my_ds = DataSetManager(train_set[indices])\n"
   ]
  },
  {
   "cell_type": "code",
   "execution_count": 6,
   "metadata": {},
   "outputs": [
    {
     "name": "stdout",
     "output_type": "stream",
     "text": [
      "31627.0\n"
     ]
    }
   ],
   "source": [
    "desired_epochs = 1000\n",
    "\n",
    "iters_per_epoch = my_ds.num_examples/BATCH_SIZE\n",
    "total_iters = np.ceil(desired_epochs*iters_per_epoch)\n",
    "\n",
    "print(total_iters)\n",
    "\n",
    "critic_iters = np.round((5/6)*total_iters)\n",
    "gen_iters = np.round((1/6)*total_iters)"
   ]
  },
  {
   "cell_type": "code",
   "execution_count": null,
   "metadata": {},
   "outputs": [],
   "source": [
    "ITERS = total_iters\n",
    "#magic_lr2 = CyclicLR(base_lr=0.01, max_lr=0.05, step_size=pasos)\n",
    "\n",
    "ITERS = int(total_iters)\n",
    "# Train loop\n",
    "with tf.Session() as sess:\n",
    "    sess.run(tf.global_variables_initializer())\n",
    "\n",
    "    #\n",
    "    # DUCT TAPE SOLUTION\n",
    "    # iter_ = 0\n",
    "\n",
    "    \"\"\"\n",
    "    while my_ds.epochs_completed < desired_epochs:\n",
    "        iter_ +=1    \n",
    "    \"\"\"\n",
    "    gen_lr_ = CyclicLR(base_lr=10**-3.8, max_lr=10**-3.72, step_size=gen_iters)\n",
    "    disc_lr_ = CyclicLR(base_lr=10**-3.8, max_lr=10**-3.72, step_size=critic_iters)\n",
    "    for iter_ in range(ITERS):\n",
    "        \n",
    "        #print(str(100*(iter_/ITERS)))\n",
    "         \n",
    "        batch_data, disc_cost_ = None, None\n",
    "\n",
    "        previous_epoch =  my_ds.epochs_completed \n",
    "\n",
    "        # train critic\n",
    "        for i_ in range(CRITIC_ITERS):\n",
    "            batch_data =  my_ds.next_batch(BATCH_SIZE) # data_gen.__next__()\n",
    "            disc_cost_, _ = sess.run([disc_cost, disc_train_op], feed_dict={real_data: batch_data, disc_lr:disc_lr_.clr() })\n",
    "            disc_lr_.on_batch_end()\n",
    "\n",
    "        # train generator\n",
    "        sess.run(gen_train_op, feed_dict={gen_lr : gen_lr_.clr()})   \n",
    "        gen_lr_.on_batch_end()\n",
    "\n",
    "        gen_cost2 = sess.run(gen_cost)   \n",
    "\n",
    "        current_epoch =  my_ds.epochs_completed \n",
    "\n",
    "        condition2 = current_epoch % 5 == 0\n",
    "\n",
    "          \n",
    "\n",
    "\n",
    "    if iter_ == ITERS:\n",
    "        print(\"Current iter \"+str(iter))\n",
    "        #session_saver.save(sess, model_path)"
   ]
  },
  {
   "cell_type": "markdown",
   "metadata": {},
   "source": [
    "# LR Finder function"
   ]
  },
  {
   "cell_type": "code",
   "execution_count": 7,
   "metadata": {},
   "outputs": [],
   "source": [
    "def find_lr(session, cost_operation, optimize_operation, ds_man, net_type:str, init_value = 1e-8, final_value=10., beta = 0.98):\n",
    "    num = len(trn_loader)-1\n",
    "    mult = (final_value / init_value) ** (1/num)\n",
    "    lr = init_value\n",
    "    \n",
    "    avg_loss = 0.\n",
    "    best_loss = 0.\n",
    "    batch_num = 0\n",
    "    losses = []\n",
    "    log_lrs = []\n",
    "    for data in trn_loader:\n",
    "        batch_num += 1\n",
    "        #As before, get the loss for this mini-batch of inputs/outputs\n",
    "        \n",
    "        if net_type == 'GEN':\n",
    "            loss = sess.run(cost_operation)\n",
    "        else:\n",
    "            batch_data = ds_man.next_batch(BATCH_SIZE)\n",
    "            loss = sess.run(cost_operation, feed_dict={real_data: batch_data} )\n",
    "                \n",
    "        #Compute the smoothed loss\n",
    "        avg_loss = beta * avg_loss + (1-beta) *loss.data[0]\n",
    "        smoothed_loss = avg_loss / (1 - beta**batch_num)\n",
    "        #Stop if the loss is exploding\n",
    "        if batch_num > 1 and smoothed_loss > 4 * best_loss:\n",
    "            return log_lrs, losses\n",
    "        #Record the best loss\n",
    "        if smoothed_loss < best_loss or batch_num==1:\n",
    "            best_loss = smoothed_loss\n",
    "        #Store the values\n",
    "        losses.append(smoothed_loss)\n",
    "        log_lrs.append(math.log10(lr))\n",
    "        \n",
    "        #Do one optimization step\n",
    "        \n",
    "        if net_type == 'GEN':\n",
    "            sess.run(optimize_operation,  feed_dict={gen_lr: lr} )\n",
    "        else:\n",
    "            \n",
    "            sess.run(optimize_operation,  feed_dict={disc_lr: lr} )\n",
    "            \n",
    "        #Update the lr for the next step\n",
    "        lr *= mult\n",
    "        \n",
    "    return log_lrs, losses"
   ]
  },
  {
   "cell_type": "code",
   "execution_count": null,
   "metadata": {},
   "outputs": [],
   "source": []
  },
  {
   "cell_type": "code",
   "execution_count": 8,
   "metadata": {},
   "outputs": [],
   "source": [
    "import math\n",
    "\n",
    "def log_keeping(avg_loss,beta,loss,best_loss, batch_num,losses, log_lrs, lr ):\n",
    "    #Compute the smoothed loss\n",
    "    avg_loss = beta * avg_loss + (1-beta) *loss\n",
    "    smoothed_loss = avg_loss / (1 - beta**batch_num)\n",
    "    #Stop if the loss is exploding\n",
    "    if batch_num > 1 and smoothed_loss > 4 * best_loss:\n",
    "        return log_lrs, losses\n",
    "    #Record the best loss\n",
    "    if smoothed_loss < best_loss or batch_num==1:\n",
    "        best_loss = smoothed_loss\n",
    "    #Store the values\n",
    "    losses.append(smoothed_loss)\n",
    "    log_lrs.append(math.log10(lr))\n",
    "    \n",
    "\n",
    "def find_gan_lr( ds_man, init_value = 1e-8, final_value=10., beta = 0.98):\n",
    "    #  cost_operation, optimize_operation\n",
    "\n",
    "\n",
    "    num = np.round(ds_man.num_examples/BATCH_SIZE) # Iters for an epoch\n",
    "    mult = (final_value / init_value) ** (1/num)\n",
    "    lr_disc = init_value\n",
    "    lr_gen = init_value\n",
    "\n",
    "    batch_num = 0\n",
    "\n",
    "    gen_avg_loss = 0.\n",
    "    gen_best_loss = 0.\n",
    "    gen_losses = []\n",
    "    gen_log_lrs = []\n",
    "\n",
    "    disc_avg_loss = 0.\n",
    "    disc_best_loss = 0.\n",
    "    disc_losses = []\n",
    "    disc_log_lrs = []\n",
    "        \n",
    "    with tf.Session() as sess:\n",
    "        \n",
    "        sess.run(tf.global_variables_initializer())\n",
    "\n",
    "        for data in range(int(num)):\n",
    "            if data%100==0:\n",
    "                print(\"Iter \"+str(data))\n",
    "            batch_num += 1\n",
    "            #As before, get the loss for this mini-batch of inputs/outputs\n",
    "            \n",
    "\n",
    "            gen_loss = sess.run(gen_cost)\n",
    "\n",
    "            batch_data = ds_man.next_batch(BATCH_SIZE)\n",
    "            disc_loss = sess.run(disc_cost, feed_dict={real_data: batch_data} )\n",
    "            \n",
    "            # DISC\n",
    "            log_keeping(disc_avg_loss, beta, disc_loss, disc_best_loss, batch_num, disc_losses, disc_log_lrs, lr_disc )\n",
    "            # GEN \n",
    "            log_keeping(gen_avg_loss,beta, gen_loss,gen_best_loss, batch_num, gen_losses, gen_log_lrs, lr_gen )\n",
    "            \n",
    "            #Do one optimization step\n",
    "\n",
    "            # train critic\n",
    "            for i_ in range(5):\n",
    "                batch_data = ds_man.next_batch(BATCH_SIZE)\n",
    "                disc_cost_ = sess.run( disc_train_op, feed_dict={real_data: batch_data,disc_lr: lr_disc} )\n",
    "\n",
    "            sess.run(gen_train_op,  feed_dict={gen_lr: lr_gen} )\n",
    "        \n",
    "            #Update the lr for the next step\n",
    "            lr_disc *= mult\n",
    "            lr_gen *= mult\n",
    "            \n",
    "        return gen_log_lrs, gen_losses, disc_log_lrs, disc_losses"
   ]
  },
  {
   "cell_type": "code",
   "execution_count": 9,
   "metadata": {},
   "outputs": [
    {
     "name": "stdout",
     "output_type": "stream",
     "text": [
      "Iter 0\n"
     ]
    }
   ],
   "source": [
    "gen_log_lrs, gen_losses, disc_log_lrs, disc_losses = find_gan_lr(my_ds)"
   ]
  },
  {
   "cell_type": "code",
   "execution_count": 10,
   "metadata": {},
   "outputs": [],
   "source": [
    "#%matplotlib inline\n",
    "import matplotlib.pyplot as plt"
   ]
  },
  {
   "cell_type": "code",
   "execution_count": 11,
   "metadata": {},
   "outputs": [
    {
     "data": {
      "text/plain": [
       "13"
      ]
     },
     "execution_count": 11,
     "metadata": {},
     "output_type": "execute_result"
    }
   ],
   "source": [
    "len(gen_log_lrs)\n"
   ]
  },
  {
   "cell_type": "code",
   "execution_count": null,
   "metadata": {},
   "outputs": [],
   "source": []
  },
  {
   "cell_type": "code",
   "execution_count": 16,
   "metadata": {},
   "outputs": [
    {
     "data": {
      "text/plain": [
       "[<matplotlib.lines.Line2D at 0x7f11c7538390>]"
      ]
     },
     "execution_count": 16,
     "metadata": {},
     "output_type": "execute_result"
    },
    {
     "data": {
      "image/png": "[encoded data removed]",
      "text/plain": [
       "<Figure size 432x288 with 1 Axes>"
      ]
     },
     "metadata": {
      "needs_background": "light"
     },
     "output_type": "display_data"
    }
   ],
   "source": [
    "#%matplotlib widget\n",
    "%matplotlib inline\n",
    "plt.plot(gen_log_lrs, np.multiply(-1,gen_losses))"
   ]
  },
  {
   "cell_type": "code",
   "execution_count": 17,
   "metadata": {},
   "outputs": [
    {
     "data": {
      "text/plain": [
       "[<matplotlib.lines.Line2D at 0x7f11c75211d0>]"
      ]
     },
     "execution_count": 17,
     "metadata": {},
     "output_type": "execute_result"
    },
    {
     "data": {
      "image/png": "[encoded data removed]",
      "text/plain": [
       "<Figure size 432x288 with 1 Axes>"
      ]
     },
     "metadata": {
      "needs_background": "light"
     },
     "output_type": "display_data"
    }
   ],
   "source": [
    "\n",
    "%matplotlib inline\n",
    "plt.plot(disc_log_lrs[3:10], disc_losses[3:10])"
   ]
  },
  {
   "cell_type": "code",
   "execution_count": null,
   "metadata": {},
   "outputs": [],
   "source": [
    "len(disc_log_lrs)"
   ]
  },
  {
   "cell_type": "code",
   "execution_count": null,
   "metadata": {},
   "outputs": [],
   "source": []
  }
 ],
 "metadata": {
  "kernelspec": {
   "display_name": "Python 3",
   "language": "python",
   "name": "python3"
  },
  "language_info": {
   "codemirror_mode": {
    "name": "ipython",
    "version": 3
   },
   "file_extension": ".py",
   "mimetype": "text/x-python",
   "name": "python",
   "nbconvert_exporter": "python",
   "pygments_lexer": "ipython3",
   "version": "3.7.3"
  }
 },
 "nbformat": 4,
 "nbformat_minor": 2
}
