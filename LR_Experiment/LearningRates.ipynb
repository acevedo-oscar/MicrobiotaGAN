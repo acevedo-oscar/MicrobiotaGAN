{
 "cells": [
  {
   "cell_type": "code",
   "execution_count": 44,
   "metadata": {},
   "outputs": [
    {
     "name": "stderr",
     "output_type": "stream",
     "text": [
      "/home/acevedo/Desktop/Current_GAN/MicrobiotaGAN/src/utils.py:10: UserWarning: \n",
      "This call to matplotlib.use() has no effect because the backend has already\n",
      "been chosen; matplotlib.use() must be called *before* pylab, matplotlib.pyplot,\n",
      "or matplotlib.backends is imported for the first time.\n",
      "\n",
      "The backend was *originally* set to 'module://ipykernel.pylab.backend_inline' by the following code:\n",
      "  File \"/home/acevedo/anaconda3/lib/python3.6/runpy.py\", line 193, in _run_module_as_main\n",
      "    \"__main__\", mod_spec)\n",
      "  File \"/home/acevedo/anaconda3/lib/python3.6/runpy.py\", line 85, in _run_code\n",
      "    exec(code, run_globals)\n",
      "  File \"/home/acevedo/anaconda3/lib/python3.6/site-packages/ipykernel_launcher.py\", line 16, in <module>\n",
      "    app.launch_new_instance()\n",
      "  File \"/home/acevedo/anaconda3/lib/python3.6/site-packages/traitlets/config/application.py\", line 658, in launch_instance\n",
      "    app.start()\n",
      "  File \"/home/acevedo/anaconda3/lib/python3.6/site-packages/ipykernel/kernelapp.py\", line 505, in start\n",
      "    self.io_loop.start()\n",
      "  File \"/home/acevedo/anaconda3/lib/python3.6/site-packages/zmq/eventloop/ioloop.py\", line 177, in start\n",
      "    super(ZMQIOLoop, self).start()\n",
      "  File \"/home/acevedo/anaconda3/lib/python3.6/site-packages/tornado/ioloop.py\", line 832, in start\n",
      "    self._run_callback(self._callbacks.popleft())\n",
      "  File \"/home/acevedo/anaconda3/lib/python3.6/site-packages/tornado/ioloop.py\", line 605, in _run_callback\n",
      "    ret = callback()\n",
      "  File \"/home/acevedo/anaconda3/lib/python3.6/site-packages/tornado/stack_context.py\", line 277, in null_wrapper\n",
      "    return fn(*args, **kwargs)\n",
      "  File \"/home/acevedo/anaconda3/lib/python3.6/site-packages/tornado/gen.py\", line 1152, in inner\n",
      "    self.run()\n",
      "  File \"/home/acevedo/anaconda3/lib/python3.6/site-packages/tornado/gen.py\", line 1069, in run\n",
      "    yielded = self.gen.send(value)\n",
      "  File \"/home/acevedo/anaconda3/lib/python3.6/site-packages/ipykernel/kernelbase.py\", line 357, in process_one\n",
      "    yield gen.maybe_future(dispatch(*args))\n",
      "  File \"/home/acevedo/anaconda3/lib/python3.6/site-packages/tornado/gen.py\", line 307, in wrapper\n",
      "    yielded = next(result)\n",
      "  File \"/home/acevedo/anaconda3/lib/python3.6/site-packages/ipykernel/kernelbase.py\", line 267, in dispatch_shell\n",
      "    yield gen.maybe_future(handler(stream, idents, msg))\n",
      "  File \"/home/acevedo/anaconda3/lib/python3.6/site-packages/tornado/gen.py\", line 307, in wrapper\n",
      "    yielded = next(result)\n",
      "  File \"/home/acevedo/anaconda3/lib/python3.6/site-packages/ipykernel/kernelbase.py\", line 534, in execute_request\n",
      "    user_expressions, allow_stdin,\n",
      "  File \"/home/acevedo/anaconda3/lib/python3.6/site-packages/tornado/gen.py\", line 307, in wrapper\n",
      "    yielded = next(result)\n",
      "  File \"/home/acevedo/anaconda3/lib/python3.6/site-packages/ipykernel/ipkernel.py\", line 294, in do_execute\n",
      "    res = shell.run_cell(code, store_history=store_history, silent=silent)\n",
      "  File \"/home/acevedo/anaconda3/lib/python3.6/site-packages/ipykernel/zmqshell.py\", line 536, in run_cell\n",
      "    return super(ZMQInteractiveShell, self).run_cell(*args, **kwargs)\n",
      "  File \"/home/acevedo/anaconda3/lib/python3.6/site-packages/IPython/core/interactiveshell.py\", line 2662, in run_cell\n",
      "    raw_cell, store_history, silent, shell_futures)\n",
      "  File \"/home/acevedo/anaconda3/lib/python3.6/site-packages/IPython/core/interactiveshell.py\", line 2785, in _run_cell\n",
      "    interactivity=interactivity, compiler=compiler, result=result)\n",
      "  File \"/home/acevedo/anaconda3/lib/python3.6/site-packages/IPython/core/interactiveshell.py\", line 2903, in run_ast_nodes\n",
      "    if self.run_code(code, result):\n",
      "  File \"/home/acevedo/anaconda3/lib/python3.6/site-packages/IPython/core/interactiveshell.py\", line 2963, in run_code\n",
      "    exec(code_obj, self.user_global_ns, self.user_ns)\n",
      "  File \"<ipython-input-32-033ff7115bce>\", line 1, in <module>\n",
      "    get_ipython().run_line_magic('matplotlib', 'inline')\n",
      "  File \"/home/acevedo/anaconda3/lib/python3.6/site-packages/IPython/core/interactiveshell.py\", line 2131, in run_line_magic\n",
      "    result = fn(*args,**kwargs)\n",
      "  File \"<decorator-gen-107>\", line 2, in matplotlib\n",
      "  File \"/home/acevedo/anaconda3/lib/python3.6/site-packages/IPython/core/magic.py\", line 187, in <lambda>\n",
      "    call = lambda f, *a, **k: f(*a, **k)\n",
      "  File \"/home/acevedo/anaconda3/lib/python3.6/site-packages/IPython/core/magics/pylab.py\", line 99, in matplotlib\n",
      "    gui, backend = self.shell.enable_matplotlib(args.gui)\n",
      "  File \"/home/acevedo/anaconda3/lib/python3.6/site-packages/IPython/core/interactiveshell.py\", line 3051, in enable_matplotlib\n",
      "    pt.activate_matplotlib(backend)\n",
      "  File \"/home/acevedo/anaconda3/lib/python3.6/site-packages/IPython/core/pylabtools.py\", line 311, in activate_matplotlib\n",
      "    matplotlib.pyplot.switch_backend(backend)\n",
      "  File \"/home/acevedo/anaconda3/lib/python3.6/site-packages/matplotlib/pyplot.py\", line 231, in switch_backend\n",
      "    matplotlib.use(newbackend, warn=False, force=True)\n",
      "  File \"/home/acevedo/anaconda3/lib/python3.6/site-packages/matplotlib/__init__.py\", line 1410, in use\n",
      "    reload(sys.modules['matplotlib.backends'])\n",
      "  File \"/home/acevedo/anaconda3/lib/python3.6/importlib/__init__.py\", line 166, in reload\n",
      "    _bootstrap._exec(spec, module)\n",
      "  File \"/home/acevedo/anaconda3/lib/python3.6/site-packages/matplotlib/backends/__init__.py\", line 16, in <module>\n",
      "    line for line in traceback.format_stack()\n",
      "\n",
      "\n",
      "  matplotlib.use('Agg')\n"
     ]
    }
   ],
   "source": [
    "import sys\n",
    "sys.path.append(\"src/\")\n",
    "\n",
    "import pandas as pd\n",
    "import numpy as np\n",
    "import tensorflow as tf\n",
    "\n",
    "import os \n",
    "\n",
    "cwd = os.getcwd()\n",
    "os.chdir(\"../src\")\n",
    "import tensorflow_utils as tf_utils\n",
    "import utils as utils\n",
    "from dataset_manager import DataSetManager\n",
    "\n",
    "os.chdir(cwd)\n"
   ]
  },
  {
   "cell_type": "code",
   "execution_count": 45,
   "metadata": {},
   "outputs": [],
   "source": [
    "config = tf.ConfigProto(\n",
    "        device_count = {'GPU': 0}\n",
    "    )\n",
    "\n",
    "sess = tf.Session(config=config)"
   ]
  },
  {
   "cell_type": "code",
   "execution_count": 46,
   "metadata": {},
   "outputs": [
    {
     "name": "stdout",
     "output_type": "stream",
     "text": [
      "5\n"
     ]
    }
   ],
   "source": [
    "a = tf.constant(2)\n",
    "b = tf.constant(3)\n",
    "\n",
    "c = sess.run(a+b)\n",
    "print(c)\n",
    "sess.close()"
   ]
  },
  {
   "cell_type": "code",
   "execution_count": 47,
   "metadata": {},
   "outputs": [
    {
     "name": "stdout",
     "output_type": "stream",
     "text": [
      "gen/fc-1/add   [256, 512]\n",
      "gen/fc-2/add   [256, 512]\n",
      "gen/fc-3/add   [256, 512]\n",
      "gen/fc-4/add   [256, 100]\n",
      "is_reuse: False\n",
      "disc/fc-1/add   [None, 512]\n",
      "disc/fc-2/add   [None, 512]\n",
      "disc/fc-3/add   [None, 512]\n",
      "disc/fc-4/add   [None, 1]\n",
      "is_reuse: True\n",
      "disc_1/fc-1/add   [256, 512]\n",
      "disc_1/fc-2/add   [256, 512]\n",
      "disc_1/fc-3/add   [256, 512]\n",
      "disc_1/fc-4/add   [256, 1]\n",
      "is_reuse: True\n",
      "disc_2/fc-1/add   [256, 512]\n",
      "disc_2/fc-2/add   [256, 512]\n",
      "disc_2/fc-3/add   [256, 512]\n",
      "disc_2/fc-4/add   [256, 1]\n"
     ]
    }
   ],
   "source": [
    "\n",
    "DIM = 512  # model dimensionality\n",
    "GEN_DIM = 100  # output dimension of the generator\n",
    "DIS_DIM = 1  # outptu dimension fo the discriminator\n",
    "FIXED_GENERATOR = False  # wheter to hold the generator fixed at ral data plus Gaussian noise, as in the plots in the paper\n",
    "LAMBDA = .1  # smaller lambda makes things faster for toy tasks, but isn't necessary if you increase CRITIC_ITERS enough\n",
    "BATCH_SIZE = 256   # batch size\n",
    "ITERS = 10000 #100000 # how many generator iterations to train for\n",
    "FREQ = 250  # sample frequency\n",
    "\n",
    "\n",
    "\n",
    "\n",
    "CRITIC_ITERS = 5  # homw many critic iteractions per generator iteration\n",
    "\n",
    "\n",
    "def Generator_Softmax(n_samples,  name='gen'):\n",
    "\n",
    "    with tf.variable_scope(name):\n",
    "        noise = tf.random_normal([n_samples, GEN_DIM])\n",
    "        output01 = tf_utils.linear(noise, DIM, name='fc-1')\n",
    "        output01 = tf_utils.relu(output01, name='relu-1')\n",
    "        \n",
    "        output02 = tf_utils.linear(output01, DIM, name='fc-2')\n",
    "        output02 = tf_utils.relu(output02, name='relu-2')\n",
    "        \n",
    "        output03 = tf_utils.linear(output02, DIM, name='fc-3')\n",
    "        output03 = tf_utils.relu(output03, name='relu-3')\n",
    "        \n",
    "        output04 = tf_utils.linear(output03, GEN_DIM, name='fc-4')\n",
    "\n",
    "        # Reminder: a logit can be modeled as a linear function of the predictors\n",
    "        output05 = tf.nn.softmax(output04, name = 'softmax-1')\n",
    "\n",
    "        \n",
    "        return output05\n",
    "        \n",
    "\n",
    "def Discriminator(inputs, is_reuse=True, name='disc'):\n",
    "    with tf.variable_scope(name, reuse=is_reuse):\n",
    "        print('is_reuse: {}'.format(is_reuse))\n",
    "        output01 = tf_utils.linear(inputs, DIM, name='fc-1')\n",
    "        output01 = tf_utils.relu(output01, name='relu-1')\n",
    "\n",
    "        output02 = tf_utils.linear(output01, DIM, name='fc-2')\n",
    "        output02 = tf_utils.relu(output02, name='relu-2')\n",
    "\n",
    "        output03 = tf_utils.linear(output02, DIM, name='fc-3')\n",
    "        output03 = tf_utils.relu(output03, name='relu-3')\n",
    "\n",
    "        output04 = tf_utils.linear(output03, DIS_DIM, name='fc-4')\n",
    "        \n",
    "        return output04\n",
    "    \n",
    "real_data = tf.placeholder(tf.float32, shape=[None, GEN_DIM])\n",
    "fake_data = Generator_Softmax(BATCH_SIZE)\n",
    "\n",
    "disc_real = Discriminator(real_data, is_reuse=False)\n",
    "disc_fake = Discriminator(fake_data)\n",
    "\n",
    "disc_cost = tf.reduce_mean(disc_fake) - tf.reduce_mean(disc_real)\n",
    "gen_cost = - tf.reduce_mean(disc_fake)\n",
    "\n",
    "# WGAN gradient penalty parameters\n",
    "\n",
    "alpha = tf.random_uniform(shape=[BATCH_SIZE, 1], minval=0., maxval=1.)\n",
    "interpolates = alpha*real_data + (1.-alpha) * fake_data\n",
    "disc_interpolates = Discriminator(interpolates)\n",
    "gradients = tf.gradients(disc_interpolates, [interpolates][0])\n",
    "slopes = tf.sqrt(tf.reduce_sum(tf.square(gradients), reduction_indices=[1]))\n",
    "gradient_penalty = tf.reduce_mean((slopes - 1)**2)\n",
    "\n",
    "disc_cost += LAMBDA * gradient_penalty\n",
    "    \n",
    "disc_vars = tf.get_collection(tf.GraphKeys.TRAINABLE_VARIABLES, scope='disc')\n",
    "gen_vars = tf.get_collection(tf.GraphKeys.TRAINABLE_VARIABLES, scope='gen')\n"
   ]
  },
  {
   "cell_type": "markdown",
   "metadata": {},
   "source": [
    "# Traning Operations"
   ]
  },
  {
   "cell_type": "code",
   "execution_count": 49,
   "metadata": {},
   "outputs": [],
   "source": [
    "\n",
    "# Use place holders for the learning rate\n",
    "#WGAN Training operations\n",
    "\n",
    "lr_value = tf.placeholder(tf.float32, shape=()) # 1e-4\n",
    "\n",
    "disc_train_op = tf.train.AdamOptimizer(learning_rate=gan_lr, beta1=0.5, beta2=0.9).minimize(disc_cost, var_list=disc_vars)\n",
    "\n",
    "if len(gen_vars) > 0:\n",
    "    gen_train_op = tf.train.AdamOptimizer(learning_rate=gan_lr, beta1=0.5, beta2=0.9).minimize(gen_cost, var_list=gen_vars)\n",
    "else:\n",
    "    gen_train_op = tf.no_op()\n"
   ]
  },
  {
   "cell_type": "code",
   "execution_count": 50,
   "metadata": {},
   "outputs": [
    {
     "name": "stdout",
     "output_type": "stream",
     "text": [
      "556624454\n"
     ]
    }
   ],
   "source": [
    "partiton_n = pd.read_csv('random_amounts.csv', header=None).values.flatten()\n",
    "train_set =  pd.read_csv('../data/experiment_march_21/train_set.csv', header=None).values\n",
    "\n",
    "np.random.seed(42)\n",
    "indices = np.random.randint(0,train_set.shape[0], size=partiton_n[0]).tolist()\n",
    "print(np.sum(indices))\n",
    "\n",
    "\n",
    "my_ds = DataSetManager(train_set[indices])\n"
   ]
  },
  {
   "cell_type": "markdown",
   "metadata": {},
   "source": [
    "# Triangualr CLR"
   ]
  },
  {
   "cell_type": "code",
   "execution_count": null,
   "metadata": {},
   "outputs": [],
   "source": [
    "cycle = np.floor(1+iterations/(2*step_size))\n",
    "x = np.abs(iterations/step_size - 2*cycle + 1)\n",
    "lr = base_lr + (max_lr-base_lr)*np.maximum(0, (1-x))"
   ]
  },
  {
   "cell_type": "code",
   "execution_count": 1,
   "metadata": {},
   "outputs": [],
   "source": [
    "%load_ext autoreload\n",
    "%autoreload 2"
   ]
  },
  {
   "cell_type": "code",
   "execution_count": 32,
   "metadata": {},
   "outputs": [],
   "source": [
    "%matplotlib inline\n",
    "import matplotlib.pyplot as plt"
   ]
  },
  {
   "cell_type": "code",
   "execution_count": 2,
   "metadata": {},
   "outputs": [
    {
     "name": "stderr",
     "output_type": "stream",
     "text": [
      "/home/acevedo/anaconda3/lib/python3.6/importlib/_bootstrap.py:219: RuntimeWarning: numpy.ufunc size changed, may indicate binary incompatibility. Expected 216, got 192\n",
      "  return f(*args, **kwds)\n"
     ]
    }
   ],
   "source": [
    "from clr import CyclicLR\n",
    "import numpy as np"
   ]
  },
  {
   "cell_type": "code",
   "execution_count": 36,
   "metadata": {},
   "outputs": [],
   "source": [
    "pasos = 20000\n",
    "\n",
    "magic_lr = CyclicLR(base_lr=0.01, max_lr=0.05, step_size=pasos)"
   ]
  },
  {
   "cell_type": "code",
   "execution_count": 37,
   "metadata": {},
   "outputs": [],
   "source": [
    "def train_step(clr_object):\n",
    "    current_lr = clr_object.clr()\n",
    "    # Sess run training operation\n",
    "    clr_object.on_batch_end()\n",
    "    return current_lr"
   ]
  },
  {
   "cell_type": "code",
   "execution_count": 65,
   "metadata": {},
   "outputs": [],
   "source": [
    "record_lr = np.array([ train_step(magic_lr) for k in range(4*pasos)])"
   ]
  },
  {
   "cell_type": "code",
   "execution_count": 66,
   "metadata": {},
   "outputs": [
    {
     "data": {
      "text/plain": [
       "[<matplotlib.lines.Line2D at 0x7fc5a84d7be0>]"
      ]
     },
     "execution_count": 66,
     "metadata": {},
     "output_type": "execute_result"
    },
    {
     "data": {
      "image/png": "[encoded data removed]",
      "text/plain": [
       "<Figure size 432x288 with 1 Axes>"
      ]
     },
     "metadata": {
      "needs_background": "light"
     },
     "output_type": "display_data"
    }
   ],
   "source": [
    "plt.plot(record_lr)"
   ]
  },
  {
   "cell_type": "markdown",
   "metadata": {},
   "source": [
    "# GAN Trainin Loop"
   ]
  },
  {
   "cell_type": "code",
   "execution_count": 62,
   "metadata": {},
   "outputs": [
    {
     "name": "stdout",
     "output_type": "stream",
     "text": [
      "63254.0\n"
     ]
    }
   ],
   "source": [
    "desired_epochs = 1000\n",
    "\n",
    "iters_per_epoch = my_ds.num_examples/BATCH_SIZE\n",
    "total_iters = np.ceil(desired_epochs*iters_per_epoch)\n",
    "\n",
    "print(total_iters)"
   ]
  },
  {
   "cell_type": "code",
   "execution_count": null,
   "metadata": {},
   "outputs": [],
   "source": [
    "ITERS = total_iters\n",
    "magic_lr2 = CyclicLR(base_lr=0.01, max_lr=0.05, step_size=pasos)\n",
    "# Train loop\n",
    "with tf.Session() as sess:\n",
    "\n",
    "    #\n",
    "    # DUCT TAPE SOLUTION\n",
    "    # iter_ = 0\n",
    "\n",
    "    \"\"\"\n",
    "    while my_ds.epochs_completed < desired_epochs:\n",
    "        iter_ +=1    \n",
    "    \"\"\"\n",
    "    for iter_ in range(ITERS):\n",
    "        current_lr = magic_lr2.clr()\n",
    "        \n",
    "        batch_data, disc_cost_ = None, None\n",
    "\n",
    "        previous_epoch =  my_ds.epochs_completed \n",
    "\n",
    "        # train critic\n",
    "        for i_ in range(CRITIC_ITERS):\n",
    "            batch_data =  my_ds.next_batch(BATCH_SIZE) # data_gen.__next__()\n",
    "            disc_cost_, _ = sess.run([disc_cost, disc_train_op], feed_dict={real_data: batch_data})\n",
    "\n",
    "        # train generator\n",
    "        sess.run(gen_train_op)   \n",
    "\n",
    "        gen_cost2 = sess.run(gen_cost)   \n",
    "\n",
    "        current_epoch =  my_ds.epochs_completed \n",
    "\n",
    "        condition2 = current_epoch % 5 == 0\n",
    "        if current_epoch > previous_epoch and condition2:\n",
    "            disc_loss_record.append(disc_cost_)\n",
    "            gen_loss_record.append(gen_cost2)\n",
    "            epoch_record.append(my_ds.epochs_completed ) \n",
    "            # print(\"Diff \"+str(current_epoch - previous_epoch))\n",
    "\n",
    "        if (np.mod(iter_, FREQ) == 0) or (iter_+1 == ITERS):\n",
    "\n",
    "            \"\"\"\n",
    "            print(\"===> Debugging\")\n",
    "            print(disc_loss_record)\n",
    "            print(gen_loss_record)\n",
    "            \"\"\"\n",
    "\n",
    "            bot.loss_hist.append(disc_cost_)\n",
    "\n",
    "            fake_samples = sess.run(fake_data) # , feed_dict={real_data: batch_data}\n",
    "            # print(\"\\n==> Sum-Simplex condition: \" +str(np.sum(fake_samples, axis=1))) \n",
    "            send_bot_message(bot,my_ds, iter_, ITERS, identifier)\n",
    "\n",
    "            session_saver.save(sess, model_path)\n",
    "            save_history(storing_path, gen_loss_record,disc_loss_record,epoch_record, my_ds,iter_, epochs, global_iters )\n",
    "\n",
    "            k = my_ds.epochs_completed\n",
    "            # save_gen_samples(fake_data, disc_fake ,sess, storing_path, k) # fake_data = Generator_Softmax(BATCH_SIZE)\n",
    "\n",
    "\n",
    "        utils.tick()  #  _iter[0] += 1\n",
    "\n",
    "    if iter_ == ITERS:\n",
    "        session_saver.save(sess, model_path)"
   ]
  },
  {
   "cell_type": "markdown",
   "metadata": {},
   "source": [
    "# LR Finder function"
   ]
  },
  {
   "cell_type": "code",
   "execution_count": null,
   "metadata": {},
   "outputs": [],
   "source": [
    "def find_lr(session, cost_operation, optimize_operation, init_value = 1e-8, final_value=10., beta = 0.98):\n",
    "    num = len(trn_loader)-1\n",
    "    mult = (final_value / init_value) ** (1/num)\n",
    "    lr = init_value\n",
    "    optimizer.param_groups[0]['lr'] = lr\n",
    "    avg_loss = 0.\n",
    "    best_loss = 0.\n",
    "    batch_num = 0\n",
    "    losses = []\n",
    "    log_lrs = []\n",
    "    for data in trn_loader:\n",
    "        batch_num += 1\n",
    "        #As before, get the loss for this mini-batch of inputs/outputs\n",
    "        inputs,labels = data\n",
    "        inputs, labels = Variable(inputs), Variable(labels)\n",
    "        optimizer.zero_grad()\n",
    "        outputs = net(inputs)\n",
    "        loss = criterion(outputs, labels)\n",
    "        #Compute the smoothed loss\n",
    "        avg_loss = beta * avg_loss + (1-beta) *loss.data[0]\n",
    "        smoothed_loss = avg_loss / (1 - beta**batch_num)\n",
    "        #Stop if the loss is exploding\n",
    "        if batch_num > 1 and smoothed_loss > 4 * best_loss:\n",
    "            return log_lrs, losses\n",
    "        #Record the best loss\n",
    "        if smoothed_loss < best_loss or batch_num==1:\n",
    "            best_loss = smoothed_loss\n",
    "        #Store the values\n",
    "        losses.append(smoothed_loss)\n",
    "        log_lrs.append(math.log10(lr))\n",
    "        #Do the SGD step\n",
    "        loss.backward()\n",
    "        optimizer.step()\n",
    "        #Update the lr for the next step\n",
    "        lr *= mult\n",
    "        optimizer.param_groups[0]['lr'] = lr\n",
    "    return log_lrs, losses"
   ]
  },
  {
   "cell_type": "code",
   "execution_count": null,
   "metadata": {},
   "outputs": [],
   "source": []
  }
 ],
 "metadata": {
  "kernelspec": {
   "display_name": "Python 3",
   "language": "python",
   "name": "python3"
  },
  "language_info": {
   "codemirror_mode": {
    "name": "ipython",
    "version": 3
   },
   "file_extension": ".py",
   "mimetype": "text/x-python",
   "name": "python",
   "nbconvert_exporter": "python",
   "pygments_lexer": "ipython3",
   "version": "3.6.6"
  }
 },
 "nbformat": 4,
 "nbformat_minor": 2
}
