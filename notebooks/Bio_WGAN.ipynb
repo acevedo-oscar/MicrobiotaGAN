{
  "nbformat": 4,
  "nbformat_minor": 0,
  "metadata": {
    "colab": {
      "name": "Bio_WGAN.ipynb",
      "version": "0.3.2",
      "provenance": [],
      "collapsed_sections": [],
      "toc_visible": true
    },
    "kernelspec": {
      "name": "python3",
      "display_name": "Python 3"
    },
    "accelerator": "TPU"
  },
  "cells": [
    {
      "metadata": {
        "id": "SjqOCJMZvqTv",
        "colab_type": "code",
        "colab": {}
      },
      "cell_type": "code",
      "source": [
        "!rm -r *\n",
        "\n",
        "\n",
        "#!head MicrobiotaGAN/discriminator.py\n",
        "\n",
        "from google.colab import files\n"
      ],
      "execution_count": 0,
      "outputs": []
    },
    {
      "metadata": {
        "id": "_sTiTI6nTEb-",
        "colab_type": "code",
        "outputId": "b907424a-6e33-4e2a-8bfa-1ddf24c892e5",
        "colab": {
          "base_uri": "https://localhost:8080/",
          "height": 8588
        }
      },
      "cell_type": "code",
      "source": [
        "!wget https://www.dropbox.com/s/c94s64a00k7m39y/MicrobiotaGAN.zip   # https://www.dropbox.com/s/0r8hjgj72h1tfmb/MicrobiotaGAN.zip;\n",
        "!unzip MicrobiotaGAN.zip;\n",
        "\n",
        "# !wget https://www.dropbox.com/s/yqw6vqbvt8m1g5g/images_1000_dataset.pickle \n",
        "\n",
        "!wget https://www.dropbox.com/s/8c42zghpjwfuwdy/second_dataset.zip;\n",
        "    \n",
        "!unzip second_dataset.zip;\n",
        "    \n",
        "% ls"
      ],
      "execution_count": 0,
      "outputs": [
        {
          "output_type": "stream",
          "text": [
            "--2018-11-30 02:39:36--  https://www.dropbox.com/s/c94s64a00k7m39y/MicrobiotaGAN.zip\n",
            "Resolving www.dropbox.com (www.dropbox.com)... 162.125.65.1, 2620:100:6021:1::a27d:4101\n",
            "Connecting to www.dropbox.com (www.dropbox.com)|162.125.65.1|:443... connected.\n",
            "HTTP request sent, awaiting response... 301 Moved Permanently\n",
            "Location: /s/raw/c94s64a00k7m39y/MicrobiotaGAN.zip [following]\n",
            "--2018-11-30 02:39:37--  https://www.dropbox.com/s/raw/c94s64a00k7m39y/MicrobiotaGAN.zip\n",
            "Reusing existing connection to www.dropbox.com:443.\n",
            "HTTP request sent, awaiting response... 302 Found\n",
            "Location: https://uceacec4a95305f63bd6e20a859b.dl.dropboxusercontent.com/cd/0/inline/AWjAoOn4rFkf0flAe44kB2s4981hxHrK7MDPN1NxZ1leFaUZwcP016QeY3sLjRpXcqWmV16hBdW12l_strcealsMvHt7nI2seZGhv1yOrQ6r24vFXY5CFPqlLd9ssnBc3nx-aye9R-RrBKENOWWOQK32dwJmxEWuR8y8wCa--UX8oMdKZ3nEUx3p5p84ShkD6u0/file [following]\n",
            "--2018-11-30 02:39:37--  https://uceacec4a95305f63bd6e20a859b.dl.dropboxusercontent.com/cd/0/inline/AWjAoOn4rFkf0flAe44kB2s4981hxHrK7MDPN1NxZ1leFaUZwcP016QeY3sLjRpXcqWmV16hBdW12l_strcealsMvHt7nI2seZGhv1yOrQ6r24vFXY5CFPqlLd9ssnBc3nx-aye9R-RrBKENOWWOQK32dwJmxEWuR8y8wCa--UX8oMdKZ3nEUx3p5p84ShkD6u0/file\n",
            "Resolving uceacec4a95305f63bd6e20a859b.dl.dropboxusercontent.com (uceacec4a95305f63bd6e20a859b.dl.dropboxusercontent.com)... 162.125.65.6, 2620:100:6021:6::a27d:4106\n",
            "Connecting to uceacec4a95305f63bd6e20a859b.dl.dropboxusercontent.com (uceacec4a95305f63bd6e20a859b.dl.dropboxusercontent.com)|162.125.65.6|:443... connected.\n",
            "HTTP request sent, awaiting response... 302 FOUND\n",
            "Location: /cd/0/inline2/AWhyZAo5PCbiVkGYq6feRGRMT45DQzMA9KmxukTPa6qAWcKuvn4heBZRC62-63ZaX6P7eUQ_dY_qJjAa2yAqPxmbXHPsVihLoJmN5XkNwhhXfMyItB6wZIbTI-H7COw34G6pY1LU9KyFS4kg4TWs6YvdWmft00TazIZIMZBo9esTs4Zb4CHqBksjzyuFbc4DmorwSzKfnToabn04-x6OreAhBXiEj8BPwqZUZf3CMV3yyepEcYfdc9KKeck61CRdUdM_XaXi0tlQekJBTWED-GL59ZLbBXJ4Phr6KsLT8K8cPWbfn7aL_5lSrrd36Ir62BpdkXK7gap7G4Y7hh96-ugOwkFd_C24iqOHIAZDpwSOyQaZC8yj6a_tS8boMpjR3jp_K8mMgrF0Wz8EG6dwjKTMlZA0FHDPtot6YxynYdn8jlY8EnG_CuT3VaeQCMkz0Wk/file [following]\n",
            "--2018-11-30 02:39:37--  https://uceacec4a95305f63bd6e20a859b.dl.dropboxusercontent.com/cd/0/inline2/AWhyZAo5PCbiVkGYq6feRGRMT45DQzMA9KmxukTPa6qAWcKuvn4heBZRC62-63ZaX6P7eUQ_dY_qJjAa2yAqPxmbXHPsVihLoJmN5XkNwhhXfMyItB6wZIbTI-H7COw34G6pY1LU9KyFS4kg4TWs6YvdWmft00TazIZIMZBo9esTs4Zb4CHqBksjzyuFbc4DmorwSzKfnToabn04-x6OreAhBXiEj8BPwqZUZf3CMV3yyepEcYfdc9KKeck61CRdUdM_XaXi0tlQekJBTWED-GL59ZLbBXJ4Phr6KsLT8K8cPWbfn7aL_5lSrrd36Ir62BpdkXK7gap7G4Y7hh96-ugOwkFd_C24iqOHIAZDpwSOyQaZC8yj6a_tS8boMpjR3jp_K8mMgrF0Wz8EG6dwjKTMlZA0FHDPtot6YxynYdn8jlY8EnG_CuT3VaeQCMkz0Wk/file\n",
            "Reusing existing connection to uceacec4a95305f63bd6e20a859b.dl.dropboxusercontent.com:443.\n",
            "HTTP request sent, awaiting response... 200 OK\n",
            "Length: 653559 (638K) [application/zip]\n",
            "Saving to: ‘MicrobiotaGAN.zip’\n",
            "\n",
            "MicrobiotaGAN.zip   100%[===================>] 638.24K  --.-KB/s    in 0.06s   \n",
            "\n",
            "2018-11-30 02:39:38 (10.7 MB/s) - ‘MicrobiotaGAN.zip’ saved [653559/653559]\n",
            "\n",
            "Archive:  MicrobiotaGAN.zip\n",
            "   creating: MicrobiotaGAN/\n",
            "  inflating: MicrobiotaGAN/dataset_manager.py  \n",
            "  inflating: MicrobiotaGAN/discriminator.py  \n",
            "  inflating: MicrobiotaGAN/generator.py  \n",
            "  inflating: MicrobiotaGAN/display_microbiota.py  \n",
            "  inflating: MicrobiotaGAN/vanilla_cost.py  \n",
            "  inflating: MicrobiotaGAN/cost.py   \n",
            "  inflating: MicrobiotaGAN/xavier_initialization.py  \n",
            " extracting: MicrobiotaGAN/__init__.py  \n",
            "  inflating: MicrobiotaGAN/batch_discriminator.py  \n",
            "  inflating: MicrobiotaGAN/batch_generator.py  \n",
            "  inflating: MicrobiotaGAN/utilities.py  \n",
            "  inflating: MicrobiotaGAN/glv_loss.py  \n",
            "  inflating: MicrobiotaGAN/input_noise_sample.py  \n",
            "   creating: MicrobiotaGAN/__pycache__/\n",
            "  inflating: MicrobiotaGAN/__pycache__/dataset_manager.cpython-36.pyc  \n",
            "  inflating: MicrobiotaGAN/__pycache__/input_noise_sample.cpython-36.pyc  \n",
            "  inflating: MicrobiotaGAN/__pycache__/display_microbiota.cpython-36.pyc  \n",
            "  inflating: MicrobiotaGAN/__pycache__/discriminator.cpython-36.pyc  \n",
            "  inflating: MicrobiotaGAN/__pycache__/cost.cpython-36.pyc  \n",
            "  inflating: MicrobiotaGAN/__pycache__/__init__.cpython-36.pyc  \n",
            "  inflating: MicrobiotaGAN/__pycache__/xavier_initialization.cpython-36.pyc  \n",
            "  inflating: MicrobiotaGAN/__pycache__/generator.cpython-36.pyc  \n",
            "   creating: MicrobiotaGAN/.idea/\n",
            "  inflating: MicrobiotaGAN/.idea/vcs.xml  \n",
            "   creating: MicrobiotaGAN/.mypy_cache/\n",
            "   creating: MicrobiotaGAN/.git/\n",
            " extracting: MicrobiotaGAN/.git/ORIG_HEAD  \n",
            "  inflating: MicrobiotaGAN/.git/index  \n",
            " extracting: MicrobiotaGAN/.git/HEAD  \n",
            "  inflating: MicrobiotaGAN/.git/config  \n",
            "  inflating: MicrobiotaGAN/.git/FETCH_HEAD  \n",
            "  inflating: MicrobiotaGAN/.git/description  \n",
            " extracting: MicrobiotaGAN/.git/COMMIT_EDITMSG  \n",
            "   creating: MicrobiotaGAN/.idea/codeStyles/\n",
            "  inflating: MicrobiotaGAN/.idea/codeStyles/codeStyleConfig.xml  \n",
            "   creating: MicrobiotaGAN/.mypy_cache/3.6/\n",
            "  inflating: MicrobiotaGAN/.mypy_cache/3.6/_importlib_modulespec.meta.json  \n",
            "  inflating: MicrobiotaGAN/.mypy_cache/3.6/_importlib_modulespec.data.json  \n",
            "  inflating: MicrobiotaGAN/.mypy_cache/3.6/mypy_extensions.meta.json  \n",
            "  inflating: MicrobiotaGAN/.mypy_cache/3.6/mypy_extensions.data.json  \n",
            "  inflating: MicrobiotaGAN/.mypy_cache/3.6/utilities.meta.json  \n",
            "  inflating: MicrobiotaGAN/.mypy_cache/3.6/utilities.data.json  \n",
            "  inflating: MicrobiotaGAN/.mypy_cache/3.6/builtins.meta.json  \n",
            "  inflating: MicrobiotaGAN/.mypy_cache/3.6/builtins.data.json  \n",
            "  inflating: MicrobiotaGAN/.mypy_cache/3.6/typing.meta.json  \n",
            "  inflating: MicrobiotaGAN/.mypy_cache/3.6/typing.data.json  \n",
            "  inflating: MicrobiotaGAN/.mypy_cache/3.6/types.meta.json  \n",
            "  inflating: MicrobiotaGAN/.mypy_cache/3.6/types.data.json  \n",
            "  inflating: MicrobiotaGAN/.mypy_cache/3.6/sys.meta.json  \n",
            "  inflating: MicrobiotaGAN/.mypy_cache/3.6/abc.meta.json  \n",
            "  inflating: MicrobiotaGAN/.mypy_cache/3.6/sys.data.json  \n",
            "  inflating: MicrobiotaGAN/.mypy_cache/3.6/abc.data.json  \n",
            "   creating: MicrobiotaGAN/.mypy_cache/3.7/\n",
            "  inflating: MicrobiotaGAN/.mypy_cache/3.7/types.data.json  \n",
            "  inflating: MicrobiotaGAN/.mypy_cache/3.7/posix.meta.json  \n",
            "  inflating: MicrobiotaGAN/.mypy_cache/3.7/posix.data.json  \n",
            "  inflating: MicrobiotaGAN/.mypy_cache/3.7/mmap.meta.json  \n",
            "  inflating: MicrobiotaGAN/.mypy_cache/3.7/mmap.data.json  \n",
            "  inflating: MicrobiotaGAN/.mypy_cache/3.7/abc.meta.json  \n",
            "  inflating: MicrobiotaGAN/.mypy_cache/3.7/abc.data.json  \n",
            "  inflating: MicrobiotaGAN/.mypy_cache/3.7/sys.meta.json  \n",
            "  inflating: MicrobiotaGAN/.mypy_cache/3.7/sys.data.json  \n",
            "  inflating: MicrobiotaGAN/.mypy_cache/3.7/io.meta.json  \n",
            "  inflating: MicrobiotaGAN/.mypy_cache/3.7/io.data.json  \n",
            "  inflating: MicrobiotaGAN/.mypy_cache/3.7/_importlib_modulespec.meta.json  \n",
            "  inflating: MicrobiotaGAN/.mypy_cache/3.7/_importlib_modulespec.data.json  \n",
            "  inflating: MicrobiotaGAN/.mypy_cache/3.7/discriminator.meta.json  \n",
            "  inflating: MicrobiotaGAN/.mypy_cache/3.7/discriminator.data.json  \n",
            "  inflating: MicrobiotaGAN/.mypy_cache/3.7/generator.meta.json  \n",
            "  inflating: MicrobiotaGAN/.mypy_cache/3.7/generator.data.json  \n",
            "  inflating: MicrobiotaGAN/.mypy_cache/3.7/builtins.meta.json  \n",
            "  inflating: MicrobiotaGAN/.mypy_cache/3.7/builtins.data.json  \n",
            "  inflating: MicrobiotaGAN/.mypy_cache/3.7/typing.meta.json  \n",
            "  inflating: MicrobiotaGAN/.mypy_cache/3.7/typing.data.json  \n",
            "  inflating: MicrobiotaGAN/.mypy_cache/3.7/codecs.meta.json  \n",
            "  inflating: MicrobiotaGAN/.mypy_cache/3.7/codecs.data.json  \n",
            "  inflating: MicrobiotaGAN/.mypy_cache/3.7/types.meta.json  \n",
            "   creating: MicrobiotaGAN/.git/logs/\n",
            "  inflating: MicrobiotaGAN/.git/logs/HEAD  \n",
            "   creating: MicrobiotaGAN/.git/objects/\n",
            "   creating: MicrobiotaGAN/.git/refs/\n",
            "   creating: MicrobiotaGAN/.git/hooks/\n",
            "  inflating: MicrobiotaGAN/.git/hooks/pre-commit.sample  \n",
            "  inflating: MicrobiotaGAN/.git/hooks/commit-msg.sample  \n",
            "  inflating: MicrobiotaGAN/.git/hooks/pre-applypatch.sample  \n",
            "  inflating: MicrobiotaGAN/.git/hooks/post-update.sample  \n",
            "  inflating: MicrobiotaGAN/.git/hooks/applypatch-msg.sample  \n",
            "  inflating: MicrobiotaGAN/.git/hooks/pre-receive.sample  \n",
            "  inflating: MicrobiotaGAN/.git/hooks/pre-rebase.sample  \n",
            "  inflating: MicrobiotaGAN/.git/hooks/prepare-commit-msg.sample  \n",
            "  inflating: MicrobiotaGAN/.git/hooks/pre-push.sample  \n",
            "  inflating: MicrobiotaGAN/.git/hooks/update.sample  \n",
            "  inflating: MicrobiotaGAN/.git/hooks/fsmonitor-watchman.sample  \n",
            "   creating: MicrobiotaGAN/.git/info/\n",
            "  inflating: MicrobiotaGAN/.git/info/exclude  \n",
            "   creating: MicrobiotaGAN/.git/branches/\n",
            "   creating: MicrobiotaGAN/.mypy_cache/3.6/collections/\n",
            "  inflating: MicrobiotaGAN/.mypy_cache/3.6/collections/__init__.meta.json  \n",
            "  inflating: MicrobiotaGAN/.mypy_cache/3.6/collections/__init__.data.json  \n",
            "  inflating: MicrobiotaGAN/.mypy_cache/3.6/collections/abc.meta.json  \n",
            "  inflating: MicrobiotaGAN/.mypy_cache/3.6/collections/abc.data.json  \n",
            "   creating: MicrobiotaGAN/.mypy_cache/3.7/collections/\n",
            "  inflating: MicrobiotaGAN/.mypy_cache/3.7/collections/__init__.meta.json  \n",
            "  inflating: MicrobiotaGAN/.mypy_cache/3.7/collections/__init__.data.json  \n",
            "  inflating: MicrobiotaGAN/.mypy_cache/3.7/collections/abc.meta.json  \n",
            "  inflating: MicrobiotaGAN/.mypy_cache/3.7/collections/abc.data.json  \n",
            "   creating: MicrobiotaGAN/.mypy_cache/3.7/importlib/\n",
            "  inflating: MicrobiotaGAN/.mypy_cache/3.7/importlib/machinery.meta.json  \n",
            "  inflating: MicrobiotaGAN/.mypy_cache/3.7/importlib/machinery.data.json  \n",
            "  inflating: MicrobiotaGAN/.mypy_cache/3.7/importlib/__init__.meta.json  \n",
            "  inflating: MicrobiotaGAN/.mypy_cache/3.7/importlib/__init__.data.json  \n",
            "  inflating: MicrobiotaGAN/.mypy_cache/3.7/importlib/util.meta.json  \n",
            "  inflating: MicrobiotaGAN/.mypy_cache/3.7/importlib/util.data.json  \n",
            "  inflating: MicrobiotaGAN/.mypy_cache/3.7/importlib/abc.meta.json  \n",
            "  inflating: MicrobiotaGAN/.mypy_cache/3.7/importlib/abc.data.json  \n",
            "   creating: MicrobiotaGAN/.mypy_cache/3.7/os/\n",
            "  inflating: MicrobiotaGAN/.mypy_cache/3.7/os/__init__.meta.json  \n",
            "  inflating: MicrobiotaGAN/.mypy_cache/3.7/os/__init__.data.json  \n",
            "  inflating: MicrobiotaGAN/.mypy_cache/3.7/os/path.meta.json  \n",
            "  inflating: MicrobiotaGAN/.mypy_cache/3.7/os/path.data.json  \n",
            "   creating: MicrobiotaGAN/.git/logs/refs/\n",
            "   creating: MicrobiotaGAN/.git/objects/19/\n",
            " extracting: MicrobiotaGAN/.git/objects/19/b847ca27270940d36d25fb08103a1871c0efa2  \n",
            "   creating: MicrobiotaGAN/.git/objects/54/\n",
            " extracting: MicrobiotaGAN/.git/objects/54/eb38377e6ca8dc03aaacc6aa16e10d32be5465  \n",
            "   creating: MicrobiotaGAN/.git/objects/fc/\n",
            " extracting: MicrobiotaGAN/.git/objects/fc/5e5b4f09cf2b9db043e4a5c4fb0af6361c76ce  \n",
            " extracting: MicrobiotaGAN/.git/objects/fc/d4a240e11966bed1d3ec67c4b75545356eff5e  \n",
            "   creating: MicrobiotaGAN/.git/objects/99/\n",
            " extracting: MicrobiotaGAN/.git/objects/99/676a249d84bbba8431f328e9203e74715c9c5c  \n",
            " extracting: MicrobiotaGAN/.git/objects/99/a156da4ca1af3d2c04e8e2d60afc83fdd97f64  \n",
            "   creating: MicrobiotaGAN/.git/objects/b5/\n",
            " extracting: MicrobiotaGAN/.git/objects/b5/995f8261238aa418a676096f213ec96e135f53  \n",
            " extracting: MicrobiotaGAN/.git/objects/b5/b64f0363868e7cdfaa6b132a350430d6d8c050  \n",
            "   creating: MicrobiotaGAN/.git/objects/51/\n",
            " extracting: MicrobiotaGAN/.git/objects/51/660013757cbd90a9d28ce6c858130301656333  \n",
            "   creating: MicrobiotaGAN/.git/objects/c4/\n",
            " extracting: MicrobiotaGAN/.git/objects/c4/f2153defe37bff6a724e56ca69c0e62849b608  \n",
            "   creating: MicrobiotaGAN/.git/objects/3f/\n",
            " extracting: MicrobiotaGAN/.git/objects/3f/529f90d86f7a107ee5142d885693d43af19654  \n",
            " extracting: MicrobiotaGAN/.git/objects/3f/67f340bdfad27d23f43196e42b48cff4c555c6  \n",
            "   creating: MicrobiotaGAN/.git/objects/36/\n",
            " extracting: MicrobiotaGAN/.git/objects/36/7b31090d7614fbb4afd14cd171bcc66983eaa4  \n",
            "   creating: MicrobiotaGAN/.git/objects/b7/\n",
            " extracting: MicrobiotaGAN/.git/objects/b7/dc3123bd22d982c2ab8ca37a4aa8bff62f11e8  \n",
            " extracting: MicrobiotaGAN/.git/objects/b7/45e5014bcee0685755223f582c9df2c8dcb9ef  \n",
            "   creating: MicrobiotaGAN/.git/objects/fe/\n",
            " extracting: MicrobiotaGAN/.git/objects/fe/5617e722094bc43a8511edd1fa96ee985e32fd  \n",
            " extracting: MicrobiotaGAN/.git/objects/fe/bc1fb781729f7206e9f0acc913246aa464acac  \n",
            "   creating: MicrobiotaGAN/.git/objects/41/\n",
            " extracting: MicrobiotaGAN/.git/objects/41/c522ee568e3f3a1556c1321ee5b09cfb87b6f7  \n",
            " extracting: MicrobiotaGAN/.git/objects/41/207a9a8d476336d34e2810d361f740ef07206e  \n",
            " extracting: MicrobiotaGAN/.git/objects/41/21aee49f42f617dace03f8d71a01ac2190b907  \n",
            "   creating: MicrobiotaGAN/.git/objects/f6/\n",
            " extracting: MicrobiotaGAN/.git/objects/f6/c2319e87da8b26736f42963a694cbe4b23e3c2  \n",
            "   creating: MicrobiotaGAN/.git/objects/a9/\n",
            " extracting: MicrobiotaGAN/.git/objects/a9/cc3c178fe6a29b32bcc233f04ed48f81010569  \n",
            "   creating: MicrobiotaGAN/.git/objects/66/\n",
            " extracting: MicrobiotaGAN/.git/objects/66/caeca554eb2363186d3eb8f9a01a64692a7103  \n",
            " extracting: MicrobiotaGAN/.git/objects/66/85baef448dcbd4a9ee958b5f75b89194cc5045  \n",
            "   creating: MicrobiotaGAN/.git/objects/a7/\n",
            " extracting: MicrobiotaGAN/.git/objects/a7/8c00e94486f879c44ec1acda94faefa42cbce5  \n",
            "   creating: MicrobiotaGAN/.git/objects/4d/\n",
            " extracting: MicrobiotaGAN/.git/objects/4d/e7d638dacc47f64b5ce2bc8b8ab7df2ee7f60f  \n",
            "   creating: MicrobiotaGAN/.git/objects/52/\n",
            " extracting: MicrobiotaGAN/.git/objects/52/daf07f8caaa52723c57105d6c2e624e5cee610  \n",
            " extracting: MicrobiotaGAN/.git/objects/52/b84c653a3954483c36db2bef0f43a1d48458f6  \n",
            " extracting: MicrobiotaGAN/.git/objects/52/b9f52b7ed221f6c4886f7e42e77806cc12b4ae  \n",
            "   creating: MicrobiotaGAN/.git/objects/a2/\n",
            " extracting: MicrobiotaGAN/.git/objects/a2/1ca75974372c56f4dbd98f56974372c94a8d5b  \n",
            "   creating: MicrobiotaGAN/.git/objects/ad/\n",
            " extracting: MicrobiotaGAN/.git/objects/ad/028afd9214f6460e5aa46b585ef476f747a65f  \n",
            "   creating: MicrobiotaGAN/.git/objects/b2/\n",
            " extracting: MicrobiotaGAN/.git/objects/b2/22cfd5f614e8645b8e186c6de8ec03f1a87243  \n",
            "   creating: MicrobiotaGAN/.git/objects/ae/\n",
            " extracting: MicrobiotaGAN/.git/objects/ae/080b38925e546dd46b6799cc3e48d8f2cdc911  \n",
            " extracting: MicrobiotaGAN/.git/objects/ae/783d2b9945bc66e245e21b05d67e3fbc6bce27  \n",
            "   creating: MicrobiotaGAN/.git/objects/4c/\n",
            " extracting: MicrobiotaGAN/.git/objects/4c/96d3fedd0e870e37b6fbd9fdbbcf2e7643692c  \n",
            "   creating: MicrobiotaGAN/.git/objects/1f/\n",
            " extracting: MicrobiotaGAN/.git/objects/1f/54c1847c953a6130b98952ee70bd1fa2d1dbbb  \n",
            " extracting: MicrobiotaGAN/.git/objects/1f/259aeaffd4cb746a20dfd7715520bfc40eca96  \n",
            "   creating: MicrobiotaGAN/.git/objects/a4/\n",
            " extracting: MicrobiotaGAN/.git/objects/a4/12c40b82597c2ed114bced4f4d60ea12557232  \n",
            " extracting: MicrobiotaGAN/.git/objects/a4/47baac85c1e9087e69ab73a9cfa8e3f395caf9  \n",
            " extracting: MicrobiotaGAN/.git/objects/a4/faaa08241c330d9ecf87496df4fb23f297d3ce  \n",
            "   creating: MicrobiotaGAN/.git/objects/25/\n",
            " extracting: MicrobiotaGAN/.git/objects/25/0b0940e5f6e21445af12b18189552aead0cff0  \n",
            "   creating: MicrobiotaGAN/.git/objects/bb/\n",
            " extracting: MicrobiotaGAN/.git/objects/bb/a0c24bfeda9f55123ad9ea9e78e6db8fee7623  \n",
            " extracting: MicrobiotaGAN/.git/objects/bb/61abd3e6279dde97d7ec0fe8c7188d168a813a  \n",
            " extracting: MicrobiotaGAN/.git/objects/bb/8bde2031f1360a0a2c8a69fe0cbfe4f96e1fb3  \n",
            "   creating: MicrobiotaGAN/.git/objects/70/\n",
            " extracting: MicrobiotaGAN/.git/objects/70/4ae1132ee3f841ae32c25bedabe73be911493d  \n",
            " extracting: MicrobiotaGAN/.git/objects/70/43ea0e09766437cd9dec084218265b2be712d1  \n",
            "   creating: MicrobiotaGAN/.git/objects/2b/\n",
            " extracting: MicrobiotaGAN/.git/objects/2b/f5f7638f61bb93f2dbea5a8f6d68b06a57f603  \n",
            "   creating: MicrobiotaGAN/.git/objects/37/\n",
            " extracting: MicrobiotaGAN/.git/objects/37/b393fead9b9972c0a9cc711b3dd1cbf1e48c41  \n",
            " extracting: MicrobiotaGAN/.git/objects/37/a67765c11b021a63c8d90004068360ea8130f3  \n",
            "   creating: MicrobiotaGAN/.git/objects/84/\n",
            " extracting: MicrobiotaGAN/.git/objects/84/ed934a73f9273b18ae36ecee34d4392dc962da  \n",
            "   creating: MicrobiotaGAN/.git/objects/2e/\n",
            " extracting: MicrobiotaGAN/.git/objects/2e/0fc9c5b24ae85ad731f1946f79105d778403b4  \n",
            "   creating: MicrobiotaGAN/.git/objects/6a/\n",
            " extracting: MicrobiotaGAN/.git/objects/6a/cf0b2606342caa03440f2ed0394ba0d5cf61ff  \n",
            "   creating: MicrobiotaGAN/.git/objects/1b/\n",
            " extracting: MicrobiotaGAN/.git/objects/1b/69475bce6f10325ff9837ad4539592e7167790  \n",
            "   creating: MicrobiotaGAN/.git/objects/27/\n",
            " extracting: MicrobiotaGAN/.git/objects/27/3e82829a14757635f82ee34c4ea163de3719f5  \n",
            "   creating: MicrobiotaGAN/.git/objects/88/\n",
            " extracting: MicrobiotaGAN/.git/objects/88/a8b478fcc49c7b07ad5c79606602a29b549ce9  \n",
            "   creating: MicrobiotaGAN/.git/objects/c5/\n",
            " extracting: MicrobiotaGAN/.git/objects/c5/47ae55cb49d082d31f800484de118a007d50d4  \n",
            " extracting: MicrobiotaGAN/.git/objects/c5/f8ca2e5217bcfe17b3211fe15ef4ba45a816af  \n",
            " extracting: MicrobiotaGAN/.git/objects/c5/c15524b66b185df04d18c964ce6d736c6de3c7  \n",
            "   creating: MicrobiotaGAN/.git/objects/cf/\n",
            " extracting: MicrobiotaGAN/.git/objects/cf/c4742c74eca475f5b54f01e4010e6322c869d7  \n",
            "   creating: MicrobiotaGAN/.git/objects/17/\n",
            " extracting: MicrobiotaGAN/.git/objects/17/50acd11ad40dd53faee05728167db1507f365e  \n",
            "   creating: MicrobiotaGAN/.git/objects/ce/\n",
            " extracting: MicrobiotaGAN/.git/objects/ce/de47e5d3d311b6312185ba11851a37b3a01340  \n",
            "   creating: MicrobiotaGAN/.git/objects/60/\n",
            " extracting: MicrobiotaGAN/.git/objects/60/a95ecad8537cbcc6352205d549d8390ec58d57  \n",
            "   creating: MicrobiotaGAN/.git/objects/f9/\n",
            " extracting: MicrobiotaGAN/.git/objects/f9/ffd8809083229f1daefec061ef287f73eb8f53  \n",
            "   creating: MicrobiotaGAN/.git/objects/6d/\n",
            " extracting: MicrobiotaGAN/.git/objects/6d/19dde34273a10215f1ab514ae0bcd7cbb3e93c  \n",
            " extracting: MicrobiotaGAN/.git/objects/6d/0281947890d4290ac07220d9c1dd96273d9482  \n",
            "   creating: MicrobiotaGAN/.git/objects/15/\n",
            " extracting: MicrobiotaGAN/.git/objects/15/0733121425871e83102a9ea0873ea6e4a8fccd  \n",
            "   creating: MicrobiotaGAN/.git/objects/cb/\n",
            " extracting: MicrobiotaGAN/.git/objects/cb/c69b7d97e6621e14c9ed127b40a32a613a4340  \n",
            "   creating: MicrobiotaGAN/.git/objects/3c/\n",
            " extracting: MicrobiotaGAN/.git/objects/3c/6616529da622d78dc620c0a5fb98b07f19887a  \n",
            "   creating: MicrobiotaGAN/.git/objects/28/\n",
            " extracting: MicrobiotaGAN/.git/objects/28/4a7ddb4b14adad3b4ba4cd523fb68d132c6e0b  \n",
            "   creating: MicrobiotaGAN/.git/objects/89/\n",
            " extracting: MicrobiotaGAN/.git/objects/89/ac3d21056cad37b60727948fa4a7b6732c9dd0  \n",
            "   creating: MicrobiotaGAN/.git/objects/a5/\n",
            " extracting: MicrobiotaGAN/.git/objects/a5/5e7a179bde3e4e772c29c0c85e53354aa54618  \n",
            "   creating: MicrobiotaGAN/.git/objects/b6/\n",
            " extracting: MicrobiotaGAN/.git/objects/b6/60a3d8169f8fbe1dbf7c0b2034d56d251d9269  \n",
            "   creating: MicrobiotaGAN/.git/objects/64/\n",
            " extracting: MicrobiotaGAN/.git/objects/64/5f94ae2c23c04066412b3bbdc237dcb137aa35  \n",
            " extracting: MicrobiotaGAN/.git/objects/64/90c2e18ea59ed5332158f1771bc37c2cdcfec4  \n",
            "   creating: MicrobiotaGAN/.git/objects/26/\n",
            " extracting: MicrobiotaGAN/.git/objects/26/042ed8258c1ea8cb7d1c9961a44d0979272e87  \n",
            "   creating: MicrobiotaGAN/.git/objects/78/\n",
            " extracting: MicrobiotaGAN/.git/objects/78/6c4c900701852fef1cb7861c5e8afef34b7df4  \n",
            "   creating: MicrobiotaGAN/.git/objects/ab/\n",
            " extracting: MicrobiotaGAN/.git/objects/ab/cc3eb84076b74029d34ad8a67ce394d00de912  \n",
            " extracting: MicrobiotaGAN/.git/objects/ab/d7412239aa2fd8377a35fa11eb9eb55eddafa5  \n",
            "   creating: MicrobiotaGAN/.git/objects/90/\n",
            " extracting: MicrobiotaGAN/.git/objects/90/b8e4c41709830a2805dedbfc2805650a9bb4f5  \n",
            "   creating: MicrobiotaGAN/.git/objects/58/\n",
            " extracting: MicrobiotaGAN/.git/objects/58/2013069d105641a1b4420a358c0fb5a26f5f8d  \n",
            "   creating: MicrobiotaGAN/.git/objects/03/\n",
            " extracting: MicrobiotaGAN/.git/objects/03/004e0855ad382aaceb2dda58f7bfb722b29db5  \n",
            "   creating: MicrobiotaGAN/.git/objects/87/\n",
            " extracting: MicrobiotaGAN/.git/objects/87/1ac1167693effdf799d1b0432c4ad5d7713e36  \n",
            "   creating: MicrobiotaGAN/.git/objects/3d/\n",
            " extracting: MicrobiotaGAN/.git/objects/3d/a62a3772dd1bd34fa893b4480bf6a17bd393dc  \n",
            "   creating: MicrobiotaGAN/.git/objects/24/\n",
            " extracting: MicrobiotaGAN/.git/objects/24/ff1e82ddbfd19abbfff912aa8a601fc4ce8c9e  \n",
            "   creating: MicrobiotaGAN/.git/objects/16/\n",
            " extracting: MicrobiotaGAN/.git/objects/16/74a48956d97434a2d2efdb2bbae6fda5e0f76c  \n",
            "   creating: MicrobiotaGAN/.git/objects/f4/\n",
            " extracting: MicrobiotaGAN/.git/objects/f4/e56c3f5f5497f9de0f5f52235c33cd52e60c28  \n",
            "   creating: MicrobiotaGAN/.git/objects/82/\n",
            " extracting: MicrobiotaGAN/.git/objects/82/6287ffbd05578a6b0ef8795012dbbc58c080c7  \n",
            "   creating: MicrobiotaGAN/.git/objects/7d/\n",
            " extracting: MicrobiotaGAN/.git/objects/7d/bbfff9fbe7b8d2f4a319574c29f20e0ead9bd3  \n",
            " extracting: MicrobiotaGAN/.git/objects/7d/6f3265655346c70633e548bf33470c051c1b99  \n",
            "   creating: MicrobiotaGAN/.git/objects/55/\n",
            " extracting: MicrobiotaGAN/.git/objects/55/f2c1b340b8b8dda0c1482c0c0766c20ffbf712  \n",
            "   creating: MicrobiotaGAN/.git/objects/35/\n",
            " extracting: MicrobiotaGAN/.git/objects/35/0700eba85f1c5a6ad69bacc4e1a79c51b3d452  \n",
            " extracting: MicrobiotaGAN/.git/objects/35/785d4e08928b87fbd7f1afd3556d109aab67b2  \n",
            "   creating: MicrobiotaGAN/.git/objects/04/\n",
            " extracting: MicrobiotaGAN/.git/objects/04/1d9f4fed80b7fccda693e746881bf781bc17c9  \n",
            "   creating: MicrobiotaGAN/.git/objects/fb/\n",
            " extracting: MicrobiotaGAN/.git/objects/fb/26a142dfec2c6869f6ee705e7953e949850388  \n",
            "   creating: MicrobiotaGAN/.git/objects/fa/\n",
            " extracting: MicrobiotaGAN/.git/objects/fa/f881b98362a9e820ce95fd21ec1d349326cfa2  \n",
            "   creating: MicrobiotaGAN/.git/objects/f7/\n",
            " extracting: MicrobiotaGAN/.git/objects/f7/07281b7ef7d38c606478466e3d290513be4371  \n",
            "   creating: MicrobiotaGAN/.git/objects/eb/\n",
            " extracting: MicrobiotaGAN/.git/objects/eb/4d80c535f869e4be457c7f76a7aed4e21f5096  \n",
            "   creating: MicrobiotaGAN/.git/objects/e8/\n",
            " extracting: MicrobiotaGAN/.git/objects/e8/acb96fb5d4f10a7044cb5d69984f8e5bfb5bf9  \n",
            "   creating: MicrobiotaGAN/.git/objects/e5/\n",
            " extracting: MicrobiotaGAN/.git/objects/e5/623063fce1d5d0460eff0ac68b1c0592e1fcc9  \n",
            "   creating: MicrobiotaGAN/.git/objects/e4/\n",
            "  inflating: MicrobiotaGAN/.git/objects/e4/e9ce2c35a231dc4c5e33f09f77b8b834c1a8d1  \n",
            "   creating: MicrobiotaGAN/.git/objects/de/\n",
            " extracting: MicrobiotaGAN/.git/objects/de/c6d8dde22eb054055479a6425e1c21179d8ce7  \n",
            "   creating: MicrobiotaGAN/.git/objects/dd/\n",
            " extracting: MicrobiotaGAN/.git/objects/dd/c22eec732f8d0559d02566d0ebfb037f5d4219  \n",
            " extracting: MicrobiotaGAN/.git/objects/dd/082e83690400213592bdfca6e40ac98fabcb8a  \n",
            "   creating: MicrobiotaGAN/.git/objects/da/\n",
            "  inflating: MicrobiotaGAN/.git/objects/da/39436e7203df97ccdef8a51257ff2a9b327d50  \n",
            "   creating: MicrobiotaGAN/.git/objects/d7/\n",
            " extracting: MicrobiotaGAN/.git/objects/d7/dc21ae032c7dfdbaba239bac41649590279834  \n",
            "   creating: MicrobiotaGAN/.git/objects/d2/\n",
            " extracting: MicrobiotaGAN/.git/objects/d2/077303c6b629d56afe79cb5ade67a449096962  \n",
            "   creating: MicrobiotaGAN/.git/objects/c7/\n",
            " extracting: MicrobiotaGAN/.git/objects/c7/7a74847afd5dc8f4f0983a3d3046182fe8da5a  \n",
            "   creating: MicrobiotaGAN/.git/objects/c6/\n",
            " extracting: MicrobiotaGAN/.git/objects/c6/40418f6d09a9f9984de48498ed762ff98e2b9f  \n",
            "   creating: MicrobiotaGAN/.git/objects/c0/\n",
            " extracting: MicrobiotaGAN/.git/objects/c0/44302e016b5eb984515c485ac8123da252a50d  \n",
            " extracting: MicrobiotaGAN/.git/objects/c0/3fb656c2a1ec9fc02759e0219ac73b4f464911  \n",
            "   creating: MicrobiotaGAN/.git/objects/a0/\n",
            " extracting: MicrobiotaGAN/.git/objects/a0/cb19b242332495f113171f674d3dd6000ca8de  \n",
            "   creating: MicrobiotaGAN/.git/objects/9c/\n",
            " extracting: MicrobiotaGAN/.git/objects/9c/97ccdb5dc2fefe6d551d1f8f10f91f0e651ecb  \n",
            "   creating: MicrobiotaGAN/.git/objects/96/\n",
            " extracting: MicrobiotaGAN/.git/objects/96/99120a646a886214798f28dd4ec84bc0263a91  \n",
            "   creating: MicrobiotaGAN/.git/objects/7b/\n",
            " extracting: MicrobiotaGAN/.git/objects/7b/a91e8aa38b6d83013aa7bfd75e8b145eac6e91  \n",
            " extracting: MicrobiotaGAN/.git/objects/7b/45af14e7eddc6824acf2b770084948a032fbc0  \n",
            "   creating: MicrobiotaGAN/.git/objects/7a/\n",
            " extracting: MicrobiotaGAN/.git/objects/7a/a4bca95daeeeb6a3cb4b8203437d91a88765c0  \n",
            "   creating: MicrobiotaGAN/.git/objects/79/\n",
            " extracting: MicrobiotaGAN/.git/objects/79/1133ffe56cf8f1bdaa0b99c1ef88e7bc6305b3  \n",
            "   creating: MicrobiotaGAN/.git/objects/77/\n",
            " extracting: MicrobiotaGAN/.git/objects/77/e44199fbcd7aeeef19b09a59c66ca9e6dc7066  \n",
            "   creating: MicrobiotaGAN/.git/objects/74/\n",
            " extracting: MicrobiotaGAN/.git/objects/74/90140975616a62a8e0ef2ce144b027817228da  \n",
            "   creating: MicrobiotaGAN/.git/objects/69/\n",
            " extracting: MicrobiotaGAN/.git/objects/69/c020d86b85d3c8e0c10dbecd019823c83bf485  \n",
            "   creating: MicrobiotaGAN/.git/objects/65/\n",
            " extracting: MicrobiotaGAN/.git/objects/65/bccb81cc702e57f807c2850e1f105d633724d2  \n",
            "   creating: MicrobiotaGAN/.git/objects/62/\n",
            "  inflating: MicrobiotaGAN/.git/objects/62/a7eae724e6825c3f5a35735ba0ca01ff21e94a  \n",
            "   creating: MicrobiotaGAN/.git/objects/5d/\n",
            " extracting: MicrobiotaGAN/.git/objects/5d/7b0c9ae295a31dcc3d366488b088f5454da818  \n",
            " extracting: MicrobiotaGAN/.git/objects/5d/11433cc97c4a6a828691194b90fae672baf14f  \n",
            "   creating: MicrobiotaGAN/.git/objects/5a/\n",
            " extracting: MicrobiotaGAN/.git/objects/5a/93556c480481f4657aa32f13d6e1e1595f8118  \n",
            "   creating: MicrobiotaGAN/.git/objects/57/\n",
            " extracting: MicrobiotaGAN/.git/objects/57/e6be65c71bdb8bd372819d10937030e5744cfc  \n",
            "   creating: MicrobiotaGAN/.git/objects/56/\n",
            " extracting: MicrobiotaGAN/.git/objects/56/e7a374d38a3086b55ea2702b31f1faba2a4a9f  \n",
            " extracting: MicrobiotaGAN/.git/objects/56/9f5154cdd7ebd261cfcde0f6d964b56a49de18  \n",
            "   creating: MicrobiotaGAN/.git/objects/4f/\n",
            " extracting: MicrobiotaGAN/.git/objects/4f/18393c71eac0d8ec92feb629f3c88e76094eda  \n",
            "   creating: MicrobiotaGAN/.git/objects/48/\n",
            " extracting: MicrobiotaGAN/.git/objects/48/59df19956c1579edc070dc2dbe4069ed478c01  \n",
            "   creating: MicrobiotaGAN/.git/objects/45/\n",
            " extracting: MicrobiotaGAN/.git/objects/45/0d1d175c783b01a3341ce7c45069f6a2cfa87e  \n",
            "   creating: MicrobiotaGAN/.git/objects/44/\n",
            " extracting: MicrobiotaGAN/.git/objects/44/2f5e4961cb58263f6c2e889f4ccf2742ebdd3b  \n",
            "   creating: MicrobiotaGAN/.git/objects/3b/\n",
            " extracting: MicrobiotaGAN/.git/objects/3b/329f0a27541dee51e460ab44ab952a70858260  \n",
            "   creating: MicrobiotaGAN/.git/objects/34/\n",
            " extracting: MicrobiotaGAN/.git/objects/34/8a011eae2eafd7a4bfb92ec41c424bb9c4f83f  \n",
            "   creating: MicrobiotaGAN/.git/objects/31/\n",
            " extracting: MicrobiotaGAN/.git/objects/31/b4f71d66e2d0558ee5889cd6a5493403ab2113  \n",
            " extracting: MicrobiotaGAN/.git/objects/31/2f1056f782736e24f380dd1b21ceac29362fe4  \n",
            "   creating: MicrobiotaGAN/.git/objects/2d/\n",
            " extracting: MicrobiotaGAN/.git/objects/2d/45d77e38ad8eedf81d4df841bf22acb7419972  \n",
            " extracting: MicrobiotaGAN/.git/objects/2d/0d207e404c3df605213979a3441026467457aa  \n",
            "   creating: MicrobiotaGAN/.git/objects/5e/\n",
            " extracting: MicrobiotaGAN/.git/objects/5e/fff57eeae2289695f55abd4abad6130de2d22d  \n",
            " extracting: MicrobiotaGAN/.git/objects/5e/ba84f72f8be48230f58eca98655a08c3916fb7  \n",
            "   creating: MicrobiotaGAN/.git/objects/38/\n",
            " extracting: MicrobiotaGAN/.git/objects/38/9b3063c2dd2476ccb75331d449bc4d4b52b60b  \n",
            "   creating: MicrobiotaGAN/.git/objects/f3/\n",
            " extracting: MicrobiotaGAN/.git/objects/f3/039e5eee582fd3a9d6f38748af7534e40606b1  \n",
            " extracting: MicrobiotaGAN/.git/objects/f3/6b4e2236ec317c5d96f0270ba16e3bde274ba5  \n",
            " extracting: MicrobiotaGAN/.git/objects/f3/9f39bac3571283c9ac68fa5c0fafe167286515  \n",
            "   creating: MicrobiotaGAN/.git/objects/f2/\n",
            " extracting: MicrobiotaGAN/.git/objects/f2/221d1c882945db64ca7da6f5f8f1914aa5cfb2  \n",
            "   creating: MicrobiotaGAN/.git/objects/ca/\n",
            " extracting: MicrobiotaGAN/.git/objects/ca/7474a806137bf21a69708728ea0eeafe802e96  \n",
            "   creating: MicrobiotaGAN/.git/objects/c3/\n",
            " extracting: MicrobiotaGAN/.git/objects/c3/1e11c41327e717103f2057caa8b34e5ce08837  \n",
            " extracting: MicrobiotaGAN/.git/objects/c3/a9af7ed83bd353ffb7eb161b7379f2a8086bce  \n",
            "   creating: MicrobiotaGAN/.git/objects/1c/\n",
            " extracting: MicrobiotaGAN/.git/objects/1c/ec95cfd4b7c7a2d381c3414d75f5e070c0d066  \n",
            "   creating: MicrobiotaGAN/.git/objects/18/\n",
            " extracting: MicrobiotaGAN/.git/objects/18/dee3d028db644a416eb4c777097a3bf66b5e4b  \n",
            "   creating: MicrobiotaGAN/.git/objects/09/\n",
            " extracting: MicrobiotaGAN/.git/objects/09/337d48c17f5c0e698fa550218f2d78dab4b3f6  \n",
            " extracting: MicrobiotaGAN/.git/objects/09/8ebfd1d3ad011f51bfdca3d24249991b620934  \n",
            "   creating: MicrobiotaGAN/.git/objects/1a/\n",
            " extracting: MicrobiotaGAN/.git/objects/1a/4b352ce987b304bfb685b51316e93a6f380bd1  \n",
            "   creating: MicrobiotaGAN/.git/objects/11/\n",
            " extracting: MicrobiotaGAN/.git/objects/11/2f6f3e03515f69ad0870c6d1617a9e8fcf5d06  \n",
            "   creating: MicrobiotaGAN/.git/objects/0e/\n",
            " extracting: MicrobiotaGAN/.git/objects/0e/7975e08573cf87e66c93fd9ea73efdde9d39a2  \n",
            "   creating: MicrobiotaGAN/.git/objects/0a/\n",
            " extracting: MicrobiotaGAN/.git/objects/0a/e5386aec7008246aaca357c9d00790e35f0456  \n",
            "   creating: MicrobiotaGAN/.git/objects/e7/\n",
            " extracting: MicrobiotaGAN/.git/objects/e7/19377205f4a58efbff294050f00c5cfcb09dfb  \n",
            " extracting: MicrobiotaGAN/.git/objects/e7/5abe746866cc014e4e1f9e446d98f4c9851453  \n",
            " extracting: MicrobiotaGAN/.git/objects/e7/7e0bcabf38a9f0c8550cbfca4c6634904fc10e  \n",
            " extracting: MicrobiotaGAN/.git/objects/e7/6b621f848ff8c6281cbf4b3646815fe6226d61  \n",
            "   creating: MicrobiotaGAN/.git/objects/06/\n",
            " extracting: MicrobiotaGAN/.git/objects/06/dceb8cff41370987fad2ec25a86b4ce22132ef  \n",
            "   creating: MicrobiotaGAN/.git/objects/ba/\n",
            " extracting: MicrobiotaGAN/.git/objects/ba/8efc9ed8ace0d04585cd6f95aeff6e08e5e7b7  \n",
            "   creating: MicrobiotaGAN/.git/objects/7c/\n",
            " extracting: MicrobiotaGAN/.git/objects/7c/19953ef9b9106323b2cebe55a905023d4fcf66  \n",
            " extracting: MicrobiotaGAN/.git/objects/7c/8ac0fd61576feddc8f2c97c507e41cc2d5079c  \n",
            "   creating: MicrobiotaGAN/.git/objects/5c/\n",
            " extracting: MicrobiotaGAN/.git/objects/5c/c72bf48ed2dc2cabe9a28427359be52ac78c82  \n",
            " extracting: MicrobiotaGAN/.git/objects/5c/8fa09d149c1dca2142f0831f06230ba3cba83e  \n",
            "   creating: MicrobiotaGAN/.git/objects/9b/\n",
            " extracting: MicrobiotaGAN/.git/objects/9b/2164f9269a0d88d7cadbc81a24dd6b09d23b9f  \n",
            "   creating: MicrobiotaGAN/.git/objects/b4/\n",
            " extracting: MicrobiotaGAN/.git/objects/b4/5415cb847fc52c1e8cf569a892096a6e08ab51  \n",
            " extracting: MicrobiotaGAN/.git/objects/b4/2fcac7c5fe7d8c6bd4ea32d60441cb04ac6eed  \n",
            "   creating: MicrobiotaGAN/.git/objects/e6/\n",
            " extracting: MicrobiotaGAN/.git/objects/e6/9de29bb2d1d6434b8b29ae775ad8c2e48c5391  \n",
            "   creating: MicrobiotaGAN/.git/objects/info/\n",
            "   creating: MicrobiotaGAN/.git/objects/pack/\n",
            "   creating: MicrobiotaGAN/.git/objects/e2/\n",
            " extracting: MicrobiotaGAN/.git/objects/e2/de5d5ea060e80d3ed801aa20f59e10280699b1  \n",
            " extracting: MicrobiotaGAN/.git/objects/e2/b4608741ddcc1ff5fc975c9744cdea05ce77a6  \n",
            "   creating: MicrobiotaGAN/.git/objects/6c/\n",
            " extracting: MicrobiotaGAN/.git/objects/6c/5ac065abc42b3e6f18554fc43cd978205f740b  \n",
            "   creating: MicrobiotaGAN/.git/objects/23/\n",
            " extracting: MicrobiotaGAN/.git/objects/23/6933fe45dc12b3a133653b1923c5c0746f9b71  \n",
            " extracting: MicrobiotaGAN/.git/objects/23/a87956d29b01fdd44e32384fd2a913903fc8cf  \n",
            " extracting: MicrobiotaGAN/.git/objects/23/fb6e92354ef46d2aa06731148c0894be328a21  \n",
            "   creating: MicrobiotaGAN/.git/objects/49/\n",
            " extracting: MicrobiotaGAN/.git/objects/49/b0192e7a48a393ae25d73f99ad4ffbbd9824ef  \n",
            "   creating: MicrobiotaGAN/.git/objects/94/\n",
            " extracting: MicrobiotaGAN/.git/objects/94/a25f7f4cb416c083d265558da75d457237d671  \n",
            " extracting: MicrobiotaGAN/.git/objects/94/b3e3d90315ecc67ac9a13cec66a8b71286f1ef  \n",
            "   creating: MicrobiotaGAN/.git/refs/remotes/\n",
            "   creating: MicrobiotaGAN/.git/refs/tags/\n",
            "   creating: MicrobiotaGAN/.git/refs/heads/\n",
            " extracting: MicrobiotaGAN/.git/refs/heads/development  \n",
            " extracting: MicrobiotaGAN/.git/refs/heads/master  \n",
            "   creating: MicrobiotaGAN/.git/logs/refs/remotes/\n",
            "   creating: MicrobiotaGAN/.git/logs/refs/heads/\n",
            "  inflating: MicrobiotaGAN/.git/logs/refs/heads/development  \n",
            "  inflating: MicrobiotaGAN/.git/logs/refs/heads/master  \n",
            "   creating: MicrobiotaGAN/.git/refs/remotes/origin/\n",
            " extracting: MicrobiotaGAN/.git/refs/remotes/origin/development  \n",
            " extracting: MicrobiotaGAN/.git/refs/remotes/origin/master  \n",
            "   creating: MicrobiotaGAN/.git/logs/refs/remotes/origin/\n",
            "  inflating: MicrobiotaGAN/.git/logs/refs/remotes/origin/development  \n",
            "  inflating: MicrobiotaGAN/.git/logs/refs/remotes/origin/master  \n",
            "--2018-11-30 02:39:42--  https://www.dropbox.com/s/8c42zghpjwfuwdy/second_dataset.zip\n",
            "Resolving www.dropbox.com (www.dropbox.com)... 162.125.65.1, 2620:100:6021:1::a27d:4101\n",
            "Connecting to www.dropbox.com (www.dropbox.com)|162.125.65.1|:443... connected.\n",
            "HTTP request sent, awaiting response... 301 Moved Permanently\n",
            "Location: /s/raw/8c42zghpjwfuwdy/second_dataset.zip [following]\n",
            "--2018-11-30 02:39:42--  https://www.dropbox.com/s/raw/8c42zghpjwfuwdy/second_dataset.zip\n",
            "Reusing existing connection to www.dropbox.com:443.\n",
            "HTTP request sent, awaiting response... 302 Found\n",
            "Location: https://uc81554253eeb31ebeb185e2aed2.dl.dropboxusercontent.com/cd/0/inline/AWhthm_D_ONJ2O5fFPM0QQeHWMWF1rFIjCwxb9YutEaifGQFIhuPauIk-bp2c7D21UpXvfT2xqnLFT7-PCaWY-MIQ-t8w6PM2T7KPJX3fvAk__vt4rNjmxQ1AcEdI45fJXYwsoSunNqIRgHQ4U23jW8wLJTferujW7e7dTYooda62M9cRmhUAaDW-O-8ogxY5bg/file [following]\n",
            "--2018-11-30 02:39:42--  https://uc81554253eeb31ebeb185e2aed2.dl.dropboxusercontent.com/cd/0/inline/AWhthm_D_ONJ2O5fFPM0QQeHWMWF1rFIjCwxb9YutEaifGQFIhuPauIk-bp2c7D21UpXvfT2xqnLFT7-PCaWY-MIQ-t8w6PM2T7KPJX3fvAk__vt4rNjmxQ1AcEdI45fJXYwsoSunNqIRgHQ4U23jW8wLJTferujW7e7dTYooda62M9cRmhUAaDW-O-8ogxY5bg/file\n",
            "Resolving uc81554253eeb31ebeb185e2aed2.dl.dropboxusercontent.com (uc81554253eeb31ebeb185e2aed2.dl.dropboxusercontent.com)... 162.125.65.6, 2620:100:6021:6::a27d:4106\n",
            "Connecting to uc81554253eeb31ebeb185e2aed2.dl.dropboxusercontent.com (uc81554253eeb31ebeb185e2aed2.dl.dropboxusercontent.com)|162.125.65.6|:443... connected.\n",
            "HTTP request sent, awaiting response... 302 FOUND\n",
            "Location: /cd/0/inline2/AWjOISCyow0N2AeYTWzZiaV7Tjfu81xnS9bu_6XAsZ7Nz6Y5X8pPVNcrkWWLSnL75HdQCOfKR9gdwYJjtpPe0ddrqSYLLUGRFp8KKnW8e1sJ6egbNHgWQNUa1OuKeMMqhV46uglvtzXtOnpxQOg0vL11x_yf6ceIHRyWhDyJsG4en8WtNsh5LsMSZanG-eUqpS1KgEjlTbcXqYjJJxPmIOfUoEq71brXo9N48nM_eyGQoZm7qa8eFV2PSlhARDQIQfg2p5q5VG4Cc_Mog4izuKa5LzZg7FPZ1lZ-sWhlxms5NoPCiM0iKbI2siX07jiNKcKPzG708Ru8ye86DMmd6G2jo-vCJHqADQ0q6YeBEwdX7zLALFsF5btivPf8L8q7fFHi3lpxgT4IhAzvgR3TOVUB7nuURc8poMdhHNyt-Ltjr17U0onkx9uwb9zwiQVUAXw/file [following]\n",
            "--2018-11-30 02:39:43--  https://uc81554253eeb31ebeb185e2aed2.dl.dropboxusercontent.com/cd/0/inline2/AWjOISCyow0N2AeYTWzZiaV7Tjfu81xnS9bu_6XAsZ7Nz6Y5X8pPVNcrkWWLSnL75HdQCOfKR9gdwYJjtpPe0ddrqSYLLUGRFp8KKnW8e1sJ6egbNHgWQNUa1OuKeMMqhV46uglvtzXtOnpxQOg0vL11x_yf6ceIHRyWhDyJsG4en8WtNsh5LsMSZanG-eUqpS1KgEjlTbcXqYjJJxPmIOfUoEq71brXo9N48nM_eyGQoZm7qa8eFV2PSlhARDQIQfg2p5q5VG4Cc_Mog4izuKa5LzZg7FPZ1lZ-sWhlxms5NoPCiM0iKbI2siX07jiNKcKPzG708Ru8ye86DMmd6G2jo-vCJHqADQ0q6YeBEwdX7zLALFsF5btivPf8L8q7fFHi3lpxgT4IhAzvgR3TOVUB7nuURc8poMdhHNyt-Ltjr17U0onkx9uwb9zwiQVUAXw/file\n",
            "Reusing existing connection to uc81554253eeb31ebeb185e2aed2.dl.dropboxusercontent.com:443.\n",
            "HTTP request sent, awaiting response... 200 OK\n",
            "Length: 5259029 (5.0M) [application/zip]\n",
            "Saving to: ‘second_dataset.zip’\n",
            "\n",
            "second_dataset.zip  100%[===================>]   5.01M  --.-KB/s    in 0.06s   \n",
            "\n",
            "2018-11-30 02:39:44 (87.4 MB/s) - ‘second_dataset.zip’ saved [5259029/5259029]\n",
            "\n",
            "Archive:  second_dataset.zip\n",
            "  inflating: abundances.csv          \n",
            "  inflating: image_dynamics_param.pickle  \n",
            "abundances.csv               \u001b[0m\u001b[01;34mMicrobiotaGAN\u001b[0m/     second_dataset.zip\n",
            "image_dynamics_param.pickle  MicrobiotaGAN.zip\n"
          ],
          "name": "stdout"
        }
      ]
    },
    {
      "metadata": {
        "id": "ctDJSqGeDwcE",
        "colab_type": "code",
        "colab": {}
      },
      "cell_type": "code",
      "source": [
        "import tensorflow as tf \n",
        " \n",
        "\n",
        "from MicrobiotaGAN.generator import Generator\n",
        "from MicrobiotaGAN.discriminator import Discriminator\n",
        "\n",
        "from MicrobiotaGAN.cost import wasserstein_generator_cost\n",
        "from MicrobiotaGAN.cost import wasserstein_discriminator_cost\n",
        "\n",
        "from MicrobiotaGAN.xavier_initialization import xavier_init\n",
        "from MicrobiotaGAN.input_noise_sample import input_noise_sample\n",
        "\n",
        "from MicrobiotaGAN.dataset_manager import DataSetManager\n",
        "from MicrobiotaGAN.display_microbiota import display_microbiota\n",
        "\n",
        "from MicrobiotaGAN.glv_loss import GLV_Model\n",
        "\n",
        "\n",
        "from MicrobiotaGAN.utilities import *"
      ],
      "execution_count": 0,
      "outputs": []
    },
    {
      "metadata": {
        "id": "MjxuHDiOzSos",
        "colab_type": "code",
        "colab": {}
      },
      "cell_type": "code",
      "source": [
        "import numpy as np\n",
        "import pandas as pd\n",
        "\n",
        "\n",
        "from tensorflow.examples.tutorials.mnist import input_data\n",
        "import matplotlib.pyplot as plt\n",
        "import matplotlib.gridspec as gridspec\n",
        "\n",
        "import pickle\n",
        "import os\n",
        "\n",
        "import seaborn as sns\n",
        "\n",
        "sns.set()\n",
        "from timeit import default_timer as timer\n"
      ],
      "execution_count": 0,
      "outputs": []
    },
    {
      "metadata": {
        "id": "3ITP_Ru3mUQR",
        "colab_type": "code",
        "colab": {}
      },
      "cell_type": "code",
      "source": [
        "\n",
        "\n",
        "microbiota_table = pd.read_csv('abundances.csv',header=None  ).values\n",
        "\n",
        " \n",
        "    \n",
        "param_path = 'image_dynamics_param.pickle' \n",
        "\n",
        "with open(param_path, 'rb') as pickleFile:\n",
        "    microbiota_parameters = pickle.load(pickleFile)"
      ],
      "execution_count": 0,
      "outputs": []
    },
    {
      "metadata": {
        "id": "jdbt1KNvPWSZ",
        "colab_type": "text"
      },
      "cell_type": "markdown",
      "source": [
        "# Splitting data into training set and test set"
      ]
    },
    {
      "metadata": {
        "id": "-E1a3zuVDuk8",
        "colab_type": "code",
        "outputId": "0713e61b-7952-40e1-e433-3fcf21107a08",
        "colab": {
          "base_uri": "https://localhost:8080/",
          "height": 51
        }
      },
      "cell_type": "code",
      "source": [
        "# Load Data to the data mangaer\n",
        "\n",
        "np.random.shuffle(microbiota_table)\n",
        "\n",
        "training_percent = 0.9\n",
        "\n",
        "lim = int(np.ceil(microbiota_table.shape[0]*training_percent))\n",
        "train_set = microbiota_table[0:lim,:]\n",
        "test_set = microbiota_table[lim:,:]\n",
        "print(\"Test set\" +str(test_set.shape))\n",
        "print(\"Train set: \"+str(train_set.shape))\n",
        "\n",
        "\n",
        "microbiota_test_set =  DataSetManager(test_set, norm=True)\n",
        "microbiota_train_set=  DataSetManager(train_set, norm=True)\n",
        "\n",
        "\n",
        "#Unrolls again\n",
        "mbio_dict = ds_statistic_summary_dict(microbiota_table)\n",
        " "
      ],
      "execution_count": 0,
      "outputs": [
        {
          "output_type": "stream",
          "text": [
            "Test set(10000, 50)\n",
            "Train set: (90000, 50)\n"
          ],
          "name": "stdout"
        }
      ]
    },
    {
      "metadata": {
        "id": "Um1NYiQCGGkT",
        "colab_type": "code",
        "outputId": "c2fb0f70-b660-4887-a01c-6d76e48acd43",
        "colab": {
          "base_uri": "https://localhost:8080/",
          "height": 34
        }
      },
      "cell_type": "code",
      "source": [
        "np.std(mbio_dict[\"max_vec\"], ddof=1)  "
      ],
      "execution_count": 0,
      "outputs": [
        {
          "output_type": "execute_result",
          "data": {
            "text/plain": [
              "58.89077366191364"
            ]
          },
          "metadata": {
            "tags": []
          },
          "execution_count": 7
        }
      ]
    },
    {
      "metadata": {
        "id": "ijsQ9Coq1BmH",
        "colab_type": "code",
        "outputId": "866a67c7-e279-463a-8591-fb034426b103",
        "colab": {
          "base_uri": "https://localhost:8080/",
          "height": 34
        }
      },
      "cell_type": "code",
      "source": [
        "microbiota_parameters.keys()"
      ],
      "execution_count": 0,
      "outputs": [
        {
          "output_type": "execute_result",
          "data": {
            "text/plain": [
              "dict_keys(['N', 'rho', 'sigma', 'mu', 'T_f', 'A', 'r'])"
            ]
          },
          "metadata": {
            "tags": []
          },
          "execution_count": 8
        }
      ]
    },
    {
      "metadata": {
        "id": "ycVfLbhzJYRD",
        "colab_type": "text"
      },
      "cell_type": "markdown",
      "source": [
        "# Dataset exploration "
      ]
    },
    {
      "metadata": {
        "id": "PVoMy1tuw6x3",
        "colab_type": "code",
        "outputId": "7752267a-0d53-4f1e-8fee-c900f197792d",
        "colab": {
          "base_uri": "https://localhost:8080/",
          "height": 420
        }
      },
      "cell_type": "code",
      "source": [
        "m_sigma = microbiota_parameters['sigma']\n",
        "m_rho = microbiota_parameters['rho']\n",
        "print(\"Sigma: \"+str(m_sigma))\n",
        "print(\"Rho: \"+str(m_rho))\n",
        "\n",
        "m_A = microbiota_parameters['A']\n",
        "\n",
        "m_r = microbiota_parameters['r']\n",
        "\n",
        "plt.axis(xmax=1, ymax=1)\n",
        "plt.plot(m_sigma, m_rho,'ro')\n",
        " \n",
        "plt.xlabel(r'Interspecies interaction [$\\sigma$]') \n",
        "plt.ylabel(r'Interspecies probability [$\\rho$]')\n",
        "\n",
        "print(\"Distance from origin: \"+ str(np.sqrt(m_rho**2 + m_sigma**2)))"
      ],
      "execution_count": 0,
      "outputs": [
        {
          "output_type": "stream",
          "text": [
            "Sigma: 0.6\n",
            "Rho: 0.1\n",
            "Distance from origin: 0.6082762530298219\n"
          ],
          "name": "stdout"
        },
        {
          "output_type": "display_data",
          "data": {
            "image/png": "[encoded data removed]",
            "text/plain": [
              "<matplotlib.figure.Figure at 0x7f23484e8c50>"
            ]
          },
          "metadata": {
            "tags": []
          }
        }
      ]
    },
    {
      "metadata": {
        "id": "SchkL5cj3WEp",
        "colab_type": "code",
        "outputId": "fb8d654e-6fec-4db8-b5ce-b17234580c36",
        "colab": {
          "base_uri": "https://localhost:8080/",
          "height": 379
        }
      },
      "cell_type": "code",
      "source": [
        "plt.imshow(microbiota_parameters['A'], cmap=\"gray_r\")\n",
        "plt.title(\"A Matrix\")"
      ],
      "execution_count": 0,
      "outputs": [
        {
          "output_type": "execute_result",
          "data": {
            "text/plain": [
              "Text(0.5,1,'A Matrix')"
            ]
          },
          "metadata": {
            "tags": []
          },
          "execution_count": 10
        },
        {
          "output_type": "display_data",
          "data": {
            "image/png": "[encoded data removed]",
            "text/plain": [
              "<matplotlib.figure.Figure at 0x7f2348539f28>"
            ]
          },
          "metadata": {
            "tags": []
          }
        }
      ]
    },
    {
      "metadata": {
        "id": "CTRQ5tMk3029",
        "colab_type": "code",
        "outputId": "c7cd9393-f998-48a4-9a11-1dcffa767eed",
        "colab": {
          "base_uri": "https://localhost:8080/",
          "height": 719
        }
      },
      "cell_type": "code",
      "source": [
        "# Micorbiota abundance pseudo histogram\n",
        "print(list(range(1,m_A.shape[0])))\n",
        "\n",
        "sns.barplot(x = list(range(1,m_A.shape[0]+1)) ,y= np.sum(normalize_ds(microbiota_table), axis=0))\n",
        "plt.title(\"Dataset Community Normalized Species Abundance\")\n",
        "plt.xlabel(\"Species\")\n",
        "plt.ylabel(\"Abundance\")\n",
        "\n",
        "fig = plt.gcf()\n",
        "fig.set_size_inches(18.5, 10.5)"
      ],
      "execution_count": 0,
      "outputs": [
        {
          "output_type": "stream",
          "text": [
            "[1, 2, 3, 4, 5, 6, 7, 8, 9, 10, 11, 12, 13, 14, 15, 16, 17, 18, 19, 20, 21, 22, 23, 24, 25, 26, 27, 28, 29, 30, 31, 32, 33, 34, 35, 36, 37, 38, 39, 40, 41, 42, 43, 44, 45, 46, 47, 48, 49]\n"
          ],
          "name": "stdout"
        },
        {
          "output_type": "stream",
          "text": [
            "/usr/local/lib/python3.6/dist-packages/seaborn/categorical.py:1428: FutureWarning: remove_na is deprecated and is a private function. Do not use.\n",
            "  stat_data = remove_na(group_data)\n"
          ],
          "name": "stderr"
        },
        {
          "output_type": "display_data",
          "data": {
            "image/png": "[encoded data removed]",
            "text/plain": [
              "<matplotlib.figure.Figure at 0x7f2345bb6b00>"
            ]
          },
          "metadata": {
            "tags": []
          }
        }
      ]
    },
    {
      "metadata": {
        "id": "fNZdMZoVJT0X",
        "colab_type": "text"
      },
      "cell_type": "markdown",
      "source": [
        "# Computational Graph Definition"
      ]
    },
    {
      "metadata": {
        "id": "djyTAm2V1FjJ",
        "colab_type": "code",
        "colab": {}
      },
      "cell_type": "code",
      "source": [
        "n_species : int = m_A.shape[0]\n",
        "mini_batch_size : int =32\n",
        "\n",
        "noise_dim : int = 10\n",
        "\n",
        "# Computation Graph Definition\n",
        "my_generator = Generator(noise_dim, n_species)\n",
        "my_discriminator = Discriminator(n_species)\n",
        "\n",
        "real_sample = tf.placeholder(tf.float32, shape=[None, n_species])\n",
        "noise_sample = tf.placeholder(tf.float32, shape=[None, noise_dim])\n",
        "\n",
        "D_real, D_logit_real = my_discriminator.train_probability_and_logit(real_sample)\n",
        "\n",
        "\n",
        "\n",
        "# Train Graph\n",
        "generator_sample_train = my_generator.train_draw_samples(noise_sample)\n",
        "D_fake_train, D_logit_fake_train = my_discriminator.train_probability_and_logit(generator_sample_train)\n",
        "\n",
        "D_cost_train =  wasserstein_discriminator_cost(D_logit_real, D_logit_fake_train)\n",
        "G_cost_train = wasserstein_generator_cost( D_logit_fake_train)\n",
        "\n",
        "D_solver_train = my_discriminator.optimize_step(D_cost_train)\n",
        "G_solver_train = my_generator.optimize_step(G_cost_train)\n",
        "\n",
        "# Inference Graph\n",
        "generator_sample_inference = my_generator.inference_draw_samples(noise_sample)\n",
        "D_fake_inference, D_logit_fake_inference = my_discriminator.inference_probability_and_logit(generator_sample_inference)\n",
        "\n",
        "\n",
        "D_cost_inference =  wasserstein_discriminator_cost(D_logit_real, D_logit_fake_inference)\n",
        "G_cost_inference = wasserstein_generator_cost( D_logit_fake_inference)\n",
        "\n",
        "D_solver_inference = my_discriminator.optimize_step(D_cost_inference)\n",
        "G_solver_inference = my_generator.optimize_step(G_cost_inference)\n",
        "\n",
        "# Others\n",
        "clip_D = my_discriminator.clip_parameters(0.01)\n"
      ],
      "execution_count": 0,
      "outputs": []
    },
    {
      "metadata": {
        "id": "Ihlo7X_fFzCB",
        "colab_type": "code",
        "colab": {}
      },
      "cell_type": "code",
      "source": [
        "# Initialize the network graph\n",
        "# sess = tf.InteractiveSession() # tf.Session()\n",
        "# sess.run(tf.global_variables_initializer())"
      ],
      "execution_count": 0,
      "outputs": []
    },
    {
      "metadata": {
        "id": "mROsD_yXR52e",
        "colab_type": "code",
        "colab": {}
      },
      "cell_type": "code",
      "source": [
        " "
      ],
      "execution_count": 0,
      "outputs": []
    },
    {
      "metadata": {
        "id": "7tDdnS5lFOIf",
        "colab_type": "text"
      },
      "cell_type": "markdown",
      "source": [
        "#Train Loop\n"
      ]
    },
    {
      "metadata": {
        "id": "QD8OUEGc1Cza",
        "colab_type": "code",
        "outputId": "7d636d8b-70dc-4897-ba9f-fa0634b5eb65",
        "colab": {
          "base_uri": "https://localhost:8080/",
          "height": 1251
        }
      },
      "cell_type": "code",
      "source": [
        "\n",
        "number_of_fig_per_plot :int = 16\n",
        "#Training Loop\n",
        "counter = 0\n",
        "d_iter_ratio: int = 5\n",
        "\n",
        "train_epochs = 20\n",
        "\n",
        "iters_per_epoch = train_set.shape[0]//mini_batch_size\n",
        "\n",
        "\n",
        "numero_de_iteraciones =   train_epochs*iters_per_epoch\n",
        "# Since the discriminator is trained 5 times more, de divide the number of iterations\n",
        "numero_de_iteraciones = int(np.ceil(numero_de_iteraciones/d_iter_ratio))\n",
        "\n",
        "start = timer()\n",
        "\n",
        "train_g_cost_record = []\n",
        "train_d_cost_record = []\n",
        "iter_record_g = []\n",
        "iter_record_d = []\n",
        "\n",
        "epoch_record_g = []\n",
        "epoch = []\n",
        "\n",
        "g_train_epoch_cost = []\n",
        "d_train_epoch_cost =[]\n",
        " \n",
        "\n",
        "initial_epochs = microbiota_train_set._epochs_completed    \n",
        "\n",
        "little_record = [ ]\n",
        "\n",
        "#### Sess 1\n",
        "with tf.Session() as sess:\n",
        "    sess.run(tf.global_variables_initializer())\n",
        "\n",
        "\n",
        "    it = 0\n",
        "\n",
        "\n",
        "    while microbiota_train_set._epochs_completed - initial_epochs <   train_epochs:\n",
        "\n",
        "        it += 1\n",
        "        \n",
        "        if microbiota_train_set._epochs_completed ==2:\n",
        "            little_record.append(sess.run(my_generator.G_W1))\n",
        "\n",
        "        # Train more the discrimantor    \n",
        "        for k in range(d_iter_ratio):      \n",
        "\n",
        "\n",
        "            #f k%5 == 0 and k != 0:\n",
        "                #pass\n",
        "            previous_epoch = microbiota_train_set._epochs_completed        \n",
        "            real_sample_mini_batch = microbiota_train_set.next_batch(mini_batch_size)\n",
        "            current_epoch = microbiota_train_set._epochs_completed\n",
        "\n",
        "\n",
        "            dis_var_dict = {real_sample: real_sample_mini_batch, noise_sample: input_noise_sample(mini_batch_size, noise_dim)}\n",
        "            _, D_current_cost, _ = sess.run([D_solver_train, D_cost_train, clip_D], feed_dict=dis_var_dict)\n",
        "            train_d_cost_record.append(D_current_cost)\n",
        "            iter_record_d.append(it+1+k)\n",
        "\n",
        "\n",
        "\n",
        "            if current_epoch > previous_epoch :\n",
        "                d_train_epoch_cost.append(D_current_cost)\n",
        "                g_train_epoch_cost.append(G_current_cost)    \n",
        "\n",
        "        # End For\n",
        "\n",
        "\n",
        "\n",
        "        # Apply the optimization algorithm and update both newtwork parameters\n",
        "        gen_var_dict = {noise_sample: input_noise_sample(mini_batch_size, noise_dim)}\n",
        "        _, G_current_cost = sess.run([G_solver_train, G_cost_train], feed_dict=gen_var_dict)    \n",
        "        train_g_cost_record.append(G_current_cost)\n",
        "\n",
        "        iter_record_g.append(it)\n",
        "        \"\"\"\n",
        "        if it%iters_per_epoch == 0 and (k !=0):\n",
        "        g_train_epoch_cost.append(G_current_cost)    \n",
        "        \"\"\"\n",
        "\n",
        "\n",
        "        if it % (numero_de_iteraciones//10) == 0 or it==0:\n",
        "            end = timer()\n",
        "            print(\"Progreso :\"+str(100*it/(1.0*numero_de_iteraciones))+\" %\")\n",
        "            print(str(end - start)+\" s\")\n",
        "\n",
        "            print(\"Epochs completed so far \"+str(microbiota_train_set._epochs_completed))\n",
        "\n",
        "            print('\\t Iter: {}'.format(it))\n",
        "            print('\\t D loss: {:.4}'.format(D_current_cost))\n",
        "            print('\\t G_loss: {:.4}'.format(G_current_cost))\n",
        "\n",
        "\n",
        "    saver = tf.train.Saver()\n",
        "    saver.save(sess, '/content/trained_gan.ckpt')\n",
        "    little_record.append(sess.run(my_generator.G_W1))"
      ],
      "execution_count": 0,
      "outputs": [
        {
          "output_type": "stream",
          "text": [
            "Progreso :9.992887624466572 %\n",
            "12.109637417997874 s\n",
            "Epochs completed so far 1\n",
            "\t Iter: 1124\n",
            "\t D loss: 0.0\n",
            "\t G_loss: -1.0\n",
            "Progreso :19.985775248933145 %\n",
            "23.594597446997795 s\n",
            "Epochs completed so far 3\n",
            "\t Iter: 2248\n",
            "\t D loss: 0.0\n",
            "\t G_loss: -1.0\n",
            "Progreso :29.978662873399717 %\n",
            "35.6303519159992 s\n",
            "Epochs completed so far 5\n",
            "\t Iter: 3372\n",
            "\t D loss: 0.0\n",
            "\t G_loss: -1.0\n"
          ],
          "name": "stdout"
        },
        {
          "output_type": "error",
          "ename": "KeyboardInterrupt",
          "evalue": "ignored",
          "traceback": [
            "\u001b[0;31m---------------------------------------------------------------------------\u001b[0m",
            "\u001b[0;31mKeyboardInterrupt\u001b[0m                         Traceback (most recent call last)",
            "\u001b[0;32m<ipython-input-14-45a34a1a78ea>\u001b[0m in \u001b[0;36m<module>\u001b[0;34m()\u001b[0m\n\u001b[1;32m     59\u001b[0m \u001b[0;34m\u001b[0m\u001b[0m\n\u001b[1;32m     60\u001b[0m             \u001b[0mdis_var_dict\u001b[0m \u001b[0;34m=\u001b[0m \u001b[0;34m{\u001b[0m\u001b[0mreal_sample\u001b[0m\u001b[0;34m:\u001b[0m \u001b[0mreal_sample_mini_batch\u001b[0m\u001b[0;34m,\u001b[0m \u001b[0mnoise_sample\u001b[0m\u001b[0;34m:\u001b[0m \u001b[0minput_noise_sample\u001b[0m\u001b[0;34m(\u001b[0m\u001b[0mmini_batch_size\u001b[0m\u001b[0;34m,\u001b[0m \u001b[0mnoise_dim\u001b[0m\u001b[0;34m)\u001b[0m\u001b[0;34m}\u001b[0m\u001b[0;34m\u001b[0m\u001b[0;34m\u001b[0m\u001b[0m\n\u001b[0;32m---> 61\u001b[0;31m             \u001b[0m_\u001b[0m\u001b[0;34m,\u001b[0m \u001b[0mD_current_cost\u001b[0m\u001b[0;34m,\u001b[0m \u001b[0m_\u001b[0m \u001b[0;34m=\u001b[0m \u001b[0msess\u001b[0m\u001b[0;34m.\u001b[0m\u001b[0mrun\u001b[0m\u001b[0;34m(\u001b[0m\u001b[0;34m[\u001b[0m\u001b[0mD_solver_train\u001b[0m\u001b[0;34m,\u001b[0m \u001b[0mD_cost_train\u001b[0m\u001b[0;34m,\u001b[0m \u001b[0mclip_D\u001b[0m\u001b[0;34m]\u001b[0m\u001b[0;34m,\u001b[0m \u001b[0mfeed_dict\u001b[0m\u001b[0;34m=\u001b[0m\u001b[0mdis_var_dict\u001b[0m\u001b[0;34m)\u001b[0m\u001b[0;34m\u001b[0m\u001b[0;34m\u001b[0m\u001b[0m\n\u001b[0m\u001b[1;32m     62\u001b[0m             \u001b[0mtrain_d_cost_record\u001b[0m\u001b[0;34m.\u001b[0m\u001b[0mappend\u001b[0m\u001b[0;34m(\u001b[0m\u001b[0mD_current_cost\u001b[0m\u001b[0;34m)\u001b[0m\u001b[0;34m\u001b[0m\u001b[0;34m\u001b[0m\u001b[0m\n\u001b[1;32m     63\u001b[0m             \u001b[0miter_record_d\u001b[0m\u001b[0;34m.\u001b[0m\u001b[0mappend\u001b[0m\u001b[0;34m(\u001b[0m\u001b[0mit\u001b[0m\u001b[0;34m+\u001b[0m\u001b[0;36m1\u001b[0m\u001b[0;34m+\u001b[0m\u001b[0mk\u001b[0m\u001b[0;34m)\u001b[0m\u001b[0;34m\u001b[0m\u001b[0;34m\u001b[0m\u001b[0m\n",
            "\u001b[0;32m/usr/local/lib/python3.6/dist-packages/tensorflow/python/client/session.py\u001b[0m in \u001b[0;36mrun\u001b[0;34m(self, fetches, feed_dict, options, run_metadata)\u001b[0m\n\u001b[1;32m    927\u001b[0m     \u001b[0;32mtry\u001b[0m\u001b[0;34m:\u001b[0m\u001b[0;34m\u001b[0m\u001b[0;34m\u001b[0m\u001b[0m\n\u001b[1;32m    928\u001b[0m       result = self._run(None, fetches, feed_dict, options_ptr,\n\u001b[0;32m--> 929\u001b[0;31m                          run_metadata_ptr)\n\u001b[0m\u001b[1;32m    930\u001b[0m       \u001b[0;32mif\u001b[0m \u001b[0mrun_metadata\u001b[0m\u001b[0;34m:\u001b[0m\u001b[0;34m\u001b[0m\u001b[0;34m\u001b[0m\u001b[0m\n\u001b[1;32m    931\u001b[0m         \u001b[0mproto_data\u001b[0m \u001b[0;34m=\u001b[0m \u001b[0mtf_session\u001b[0m\u001b[0;34m.\u001b[0m\u001b[0mTF_GetBuffer\u001b[0m\u001b[0;34m(\u001b[0m\u001b[0mrun_metadata_ptr\u001b[0m\u001b[0;34m)\u001b[0m\u001b[0;34m\u001b[0m\u001b[0;34m\u001b[0m\u001b[0m\n",
            "\u001b[0;32m/usr/local/lib/python3.6/dist-packages/tensorflow/python/client/session.py\u001b[0m in \u001b[0;36m_run\u001b[0;34m(self, handle, fetches, feed_dict, options, run_metadata)\u001b[0m\n\u001b[1;32m   1150\u001b[0m     \u001b[0;32mif\u001b[0m \u001b[0mfinal_fetches\u001b[0m \u001b[0;32mor\u001b[0m \u001b[0mfinal_targets\u001b[0m \u001b[0;32mor\u001b[0m \u001b[0;34m(\u001b[0m\u001b[0mhandle\u001b[0m \u001b[0;32mand\u001b[0m \u001b[0mfeed_dict_tensor\u001b[0m\u001b[0;34m)\u001b[0m\u001b[0;34m:\u001b[0m\u001b[0;34m\u001b[0m\u001b[0;34m\u001b[0m\u001b[0m\n\u001b[1;32m   1151\u001b[0m       results = self._do_run(handle, final_targets, final_fetches,\n\u001b[0;32m-> 1152\u001b[0;31m                              feed_dict_tensor, options, run_metadata)\n\u001b[0m\u001b[1;32m   1153\u001b[0m     \u001b[0;32melse\u001b[0m\u001b[0;34m:\u001b[0m\u001b[0;34m\u001b[0m\u001b[0;34m\u001b[0m\u001b[0m\n\u001b[1;32m   1154\u001b[0m       \u001b[0mresults\u001b[0m \u001b[0;34m=\u001b[0m \u001b[0;34m[\u001b[0m\u001b[0;34m]\u001b[0m\u001b[0;34m\u001b[0m\u001b[0;34m\u001b[0m\u001b[0m\n",
            "\u001b[0;32m/usr/local/lib/python3.6/dist-packages/tensorflow/python/client/session.py\u001b[0m in \u001b[0;36m_do_run\u001b[0;34m(self, handle, target_list, fetch_list, feed_dict, options, run_metadata)\u001b[0m\n\u001b[1;32m   1326\u001b[0m     \u001b[0;32mif\u001b[0m \u001b[0mhandle\u001b[0m \u001b[0;32mis\u001b[0m \u001b[0;32mNone\u001b[0m\u001b[0;34m:\u001b[0m\u001b[0;34m\u001b[0m\u001b[0;34m\u001b[0m\u001b[0m\n\u001b[1;32m   1327\u001b[0m       return self._do_call(_run_fn, feeds, fetches, targets, options,\n\u001b[0;32m-> 1328\u001b[0;31m                            run_metadata)\n\u001b[0m\u001b[1;32m   1329\u001b[0m     \u001b[0;32melse\u001b[0m\u001b[0;34m:\u001b[0m\u001b[0;34m\u001b[0m\u001b[0;34m\u001b[0m\u001b[0m\n\u001b[1;32m   1330\u001b[0m       \u001b[0;32mreturn\u001b[0m \u001b[0mself\u001b[0m\u001b[0;34m.\u001b[0m\u001b[0m_do_call\u001b[0m\u001b[0;34m(\u001b[0m\u001b[0m_prun_fn\u001b[0m\u001b[0;34m,\u001b[0m \u001b[0mhandle\u001b[0m\u001b[0;34m,\u001b[0m \u001b[0mfeeds\u001b[0m\u001b[0;34m,\u001b[0m \u001b[0mfetches\u001b[0m\u001b[0;34m)\u001b[0m\u001b[0;34m\u001b[0m\u001b[0;34m\u001b[0m\u001b[0m\n",
            "\u001b[0;32m/usr/local/lib/python3.6/dist-packages/tensorflow/python/client/session.py\u001b[0m in \u001b[0;36m_do_call\u001b[0;34m(self, fn, *args)\u001b[0m\n\u001b[1;32m   1332\u001b[0m   \u001b[0;32mdef\u001b[0m \u001b[0m_do_call\u001b[0m\u001b[0;34m(\u001b[0m\u001b[0mself\u001b[0m\u001b[0;34m,\u001b[0m \u001b[0mfn\u001b[0m\u001b[0;34m,\u001b[0m \u001b[0;34m*\u001b[0m\u001b[0margs\u001b[0m\u001b[0;34m)\u001b[0m\u001b[0;34m:\u001b[0m\u001b[0;34m\u001b[0m\u001b[0;34m\u001b[0m\u001b[0m\n\u001b[1;32m   1333\u001b[0m     \u001b[0;32mtry\u001b[0m\u001b[0;34m:\u001b[0m\u001b[0;34m\u001b[0m\u001b[0;34m\u001b[0m\u001b[0m\n\u001b[0;32m-> 1334\u001b[0;31m       \u001b[0;32mreturn\u001b[0m \u001b[0mfn\u001b[0m\u001b[0;34m(\u001b[0m\u001b[0;34m*\u001b[0m\u001b[0margs\u001b[0m\u001b[0;34m)\u001b[0m\u001b[0;34m\u001b[0m\u001b[0;34m\u001b[0m\u001b[0m\n\u001b[0m\u001b[1;32m   1335\u001b[0m     \u001b[0;32mexcept\u001b[0m \u001b[0merrors\u001b[0m\u001b[0;34m.\u001b[0m\u001b[0mOpError\u001b[0m \u001b[0;32mas\u001b[0m \u001b[0me\u001b[0m\u001b[0;34m:\u001b[0m\u001b[0;34m\u001b[0m\u001b[0;34m\u001b[0m\u001b[0m\n\u001b[1;32m   1336\u001b[0m       \u001b[0mmessage\u001b[0m \u001b[0;34m=\u001b[0m \u001b[0mcompat\u001b[0m\u001b[0;34m.\u001b[0m\u001b[0mas_text\u001b[0m\u001b[0;34m(\u001b[0m\u001b[0me\u001b[0m\u001b[0;34m.\u001b[0m\u001b[0mmessage\u001b[0m\u001b[0;34m)\u001b[0m\u001b[0;34m\u001b[0m\u001b[0;34m\u001b[0m\u001b[0m\n",
            "\u001b[0;32m/usr/local/lib/python3.6/dist-packages/tensorflow/python/client/session.py\u001b[0m in \u001b[0;36m_run_fn\u001b[0;34m(feed_dict, fetch_list, target_list, options, run_metadata)\u001b[0m\n\u001b[1;32m   1317\u001b[0m       \u001b[0mself\u001b[0m\u001b[0;34m.\u001b[0m\u001b[0m_extend_graph\u001b[0m\u001b[0;34m(\u001b[0m\u001b[0;34m)\u001b[0m\u001b[0;34m\u001b[0m\u001b[0;34m\u001b[0m\u001b[0m\n\u001b[1;32m   1318\u001b[0m       return self._call_tf_sessionrun(\n\u001b[0;32m-> 1319\u001b[0;31m           options, feed_dict, fetch_list, target_list, run_metadata)\n\u001b[0m\u001b[1;32m   1320\u001b[0m \u001b[0;34m\u001b[0m\u001b[0m\n\u001b[1;32m   1321\u001b[0m     \u001b[0;32mdef\u001b[0m \u001b[0m_prun_fn\u001b[0m\u001b[0;34m(\u001b[0m\u001b[0mhandle\u001b[0m\u001b[0;34m,\u001b[0m \u001b[0mfeed_dict\u001b[0m\u001b[0;34m,\u001b[0m \u001b[0mfetch_list\u001b[0m\u001b[0;34m)\u001b[0m\u001b[0;34m:\u001b[0m\u001b[0;34m\u001b[0m\u001b[0;34m\u001b[0m\u001b[0m\n",
            "\u001b[0;32m/usr/local/lib/python3.6/dist-packages/tensorflow/python/client/session.py\u001b[0m in \u001b[0;36m_call_tf_sessionrun\u001b[0;34m(self, options, feed_dict, fetch_list, target_list, run_metadata)\u001b[0m\n\u001b[1;32m   1405\u001b[0m     return tf_session.TF_SessionRun_wrapper(\n\u001b[1;32m   1406\u001b[0m         \u001b[0mself\u001b[0m\u001b[0;34m.\u001b[0m\u001b[0m_session\u001b[0m\u001b[0;34m,\u001b[0m \u001b[0moptions\u001b[0m\u001b[0;34m,\u001b[0m \u001b[0mfeed_dict\u001b[0m\u001b[0;34m,\u001b[0m \u001b[0mfetch_list\u001b[0m\u001b[0;34m,\u001b[0m \u001b[0mtarget_list\u001b[0m\u001b[0;34m,\u001b[0m\u001b[0;34m\u001b[0m\u001b[0;34m\u001b[0m\u001b[0m\n\u001b[0;32m-> 1407\u001b[0;31m         run_metadata)\n\u001b[0m\u001b[1;32m   1408\u001b[0m \u001b[0;34m\u001b[0m\u001b[0m\n\u001b[1;32m   1409\u001b[0m   \u001b[0;32mdef\u001b[0m \u001b[0m_call_tf_sessionprun\u001b[0m\u001b[0;34m(\u001b[0m\u001b[0mself\u001b[0m\u001b[0;34m,\u001b[0m \u001b[0mhandle\u001b[0m\u001b[0;34m,\u001b[0m \u001b[0mfeed_dict\u001b[0m\u001b[0;34m,\u001b[0m \u001b[0mfetch_list\u001b[0m\u001b[0;34m)\u001b[0m\u001b[0;34m:\u001b[0m\u001b[0;34m\u001b[0m\u001b[0;34m\u001b[0m\u001b[0m\n",
            "\u001b[0;31mKeyboardInterrupt\u001b[0m: "
          ]
        }
      ]
    },
    {
      "metadata": {
        "id": "-FS2ZQ6BDulY",
        "colab_type": "code",
        "colab": {}
      },
      "cell_type": "code",
      "source": [
        "print(np.sum(little_record[0]))\n",
        "print(np.sum(little_record[1]))"
      ],
      "execution_count": 0,
      "outputs": []
    },
    {
      "metadata": {
        "id": "Ex11-IW5BaLT",
        "colab_type": "code",
        "colab": {}
      },
      "cell_type": "code",
      "source": [
        "#plt.plot(iter_record_g, g_cost_record)"
      ],
      "execution_count": 0,
      "outputs": []
    },
    {
      "metadata": {
        "id": "ZpFLGjN7K-fD",
        "colab_type": "code",
        "colab": {}
      },
      "cell_type": "code",
      "source": [
        "#plt.plot(iter_record_d, d_cost_record)"
      ],
      "execution_count": 0,
      "outputs": []
    },
    {
      "metadata": {
        "id": "I3mXPqcE1AOf",
        "colab_type": "code",
        "colab": {}
      },
      "cell_type": "code",
      "source": [
        ""
      ],
      "execution_count": 0,
      "outputs": []
    },
    {
      "metadata": {
        "id": "8JboHGAWFLPP",
        "colab_type": "text"
      },
      "cell_type": "markdown",
      "source": [
        "# Test loop\n"
      ]
    },
    {
      "metadata": {
        "id": "aqVHrCytXo3Y",
        "colab_type": "code",
        "outputId": "892e7c47-13aa-4b79-d22b-c14b67a42f19",
        "colab": {
          "base_uri": "https://localhost:8080/",
          "height": 3634
        }
      },
      "cell_type": "code",
      "source": [
        "   \n",
        "\n",
        "number_of_fig_per_plot :int = 16\n",
        "#Training Loop\n",
        "counter = 0\n",
        "\n",
        "test_epochs = train_epochs\n",
        "\n",
        "iters_per_epoch = test_set.shape[0]//mini_batch_size\n",
        "\n",
        "test_iter =   test_epochs*iters_per_epoch\n",
        "\n",
        "\n",
        "\n",
        "#test_iter =  (numero_de_iteraciones*test_set.shape[0])//train_set.shape[0]\n",
        "\n",
        "start = timer()\n",
        "\n",
        "test_g_cost_record = []\n",
        "test_d_cost_record = []\n",
        "iter_test_record_g = []\n",
        "iter_test_record_d = []\n",
        "\n",
        " \n",
        "g_test_epoch_cost = []\n",
        "d_test_epoch_cost =[]\n",
        " \n",
        "\n",
        "epoch_record_g = []\n",
        "epoch = []\n",
        "\n",
        "d_iter_ratio: int = 5\n",
        "    \n",
        "print(iters_per_epoch)\n",
        "print(test_iter)\n",
        "print(test_set.shape[0])\n",
        "\n",
        "\n",
        "with tf.Session() as sess:\n",
        "    sess.run(tf.global_variables_initializer())\n",
        "    saver.restore(sess, '/content/trained_gan.ckpt')\n",
        "\n",
        "    for it in range(test_iter):\n",
        "\n",
        "        # Train more the discrimantor    \n",
        "        for k in range(d_iter_ratio):      \n",
        "\n",
        "            #f k%5 == 0 and k != 0:\n",
        "                #pass\n",
        "\n",
        "            real_sample_mini_batch = microbiota_test_set.next_batch(mini_batch_size)\n",
        "            dis_var_dict = {real_sample: real_sample_mini_batch, noise_sample: input_noise_sample(mini_batch_size, noise_dim)}\n",
        "            D_current_test_cost, _ = sess.run([ D_cost_inference, clip_D], feed_dict=dis_var_dict)\n",
        "            test_d_cost_record.append(D_current_test_cost)\n",
        "            iter_test_record_d.append(it+1+k)\n",
        "\n",
        "\n",
        "\n",
        "\n",
        "\n",
        "        # End For\n",
        "\n",
        "\n",
        "\n",
        "        # Apply the optimization algorithm and update both newtwork parameters\n",
        "        gen_var_dict = {noise_sample: input_noise_sample(mini_batch_size, noise_dim)}\n",
        "        temp_g_cost = sess.run([ G_cost_inference], feed_dict=gen_var_dict)\n",
        "        #Since is the single fetch\n",
        "        G_current_test_cost = temp_g_cost[0]\n",
        "\n",
        "        test_g_cost_record.append(G_current_test_cost)\n",
        "\n",
        "        iter_test_record_g.append(it)\n",
        "\n",
        "        if it%iters_per_epoch == 0 and (k !=0):\n",
        "            d_test_epoch_cost.append(D_current_test_cost)\n",
        "            g_test_epoch_cost.append(G_current_test_cost)\n",
        "\n",
        "        if it % (test_iter//10) == 0:\n",
        "            end = timer()\n",
        "            print(\"Progreso :\"+str(100*it/(1.0*test_iter))+\" %\")\n",
        "            print(str(end - start)+\" s\")\n",
        "\n",
        "            print(\"epochs completed \"+str(microbiota_test_set._epochs_completed))\n",
        "            print(it/(iters_per_epoch/5))\n",
        "\n",
        "\n",
        "            print('\\t Iter: {}'.format(it))\n",
        "            print('\\t D loss: {:.4}'.format(D_current_test_cost))\n",
        "            print('\\t G_loss: {:.4}'.format(G_current_test_cost))\n"
      ],
      "execution_count": 0,
      "outputs": [
        {
          "output_type": "stream",
          "text": [
            "312\n",
            "31200\n",
            "10000\n",
            "INFO:tensorflow:Restoring parameters from /content/trained_gan.ckpt\n",
            "Progreso :0.0 %\n",
            "0.2757586240004457 s\n",
            "epochs completed 0\n",
            "0.0\n",
            "\t Iter: 0\n",
            "\t D loss: 0.0\n",
            "\t G_loss: -1.0\n",
            "Progreso :10.0 %\n",
            "17.34831228999974 s\n",
            "epochs completed 49\n",
            "50.0\n",
            "\t Iter: 3120\n",
            "\t D loss: 0.0\n",
            "\t G_loss: -1.0\n",
            "Progreso :20.0 %\n",
            "34.32246119100091 s\n",
            "epochs completed 99\n",
            "100.0\n",
            "\t Iter: 6240\n",
            "\t D loss: 0.0\n",
            "\t G_loss: -1.0\n",
            "Progreso :30.0 %\n",
            "52.18804214999909 s\n",
            "epochs completed 149\n",
            "150.0\n",
            "\t Iter: 9360\n",
            "\t D loss: 0.0\n",
            "\t G_loss: -1.0\n",
            "Progreso :40.0 %\n",
            "69.23512645400115 s\n",
            "epochs completed 199\n",
            "200.0\n",
            "\t Iter: 12480\n",
            "\t D loss: 0.0\n",
            "\t G_loss: -1.0\n",
            "Progreso :50.0 %\n",
            "86.18912314300178 s\n",
            "epochs completed 249\n",
            "250.0\n",
            "\t Iter: 15600\n",
            "\t D loss: 0.0\n",
            "\t G_loss: -1.0\n",
            "Progreso :60.0 %\n",
            "103.12789797300138 s\n",
            "epochs completed 299\n",
            "300.0\n",
            "\t Iter: 18720\n",
            "\t D loss: 0.0\n",
            "\t G_loss: -1.0\n",
            "Progreso :70.0 %\n",
            "121.55896478000068 s\n",
            "epochs completed 349\n",
            "350.0\n",
            "\t Iter: 21840\n",
            "\t D loss: 0.0\n",
            "\t G_loss: -1.0\n",
            "Progreso :80.0 %\n",
            "138.56637119199877 s\n",
            "epochs completed 399\n",
            "400.0\n",
            "\t Iter: 24960\n",
            "\t D loss: 0.0\n",
            "\t G_loss: -1.0\n",
            "Progreso :90.0 %\n",
            "155.5403657800016 s\n",
            "epochs completed 449\n",
            "450.0\n",
            "\t Iter: 28080\n",
            "\t D loss: 0.0\n",
            "\t G_loss: -1.0\n"
          ],
          "name": "stdout"
        },
        {
          "output_type": "error",
          "ename": "FailedPreconditionError",
          "evalue": "ignored",
          "traceback": [
            "\u001b[0;31m---------------------------------------------------------------------------\u001b[0m",
            "\u001b[0;31mFailedPreconditionError\u001b[0m                   Traceback (most recent call last)",
            "\u001b[0;32m/usr/local/lib/python3.6/dist-packages/tensorflow/python/client/session.py\u001b[0m in \u001b[0;36m_do_call\u001b[0;34m(self, fn, *args)\u001b[0m\n\u001b[1;32m   1333\u001b[0m     \u001b[0;32mtry\u001b[0m\u001b[0;34m:\u001b[0m\u001b[0;34m\u001b[0m\u001b[0;34m\u001b[0m\u001b[0m\n\u001b[0;32m-> 1334\u001b[0;31m       \u001b[0;32mreturn\u001b[0m \u001b[0mfn\u001b[0m\u001b[0;34m(\u001b[0m\u001b[0;34m*\u001b[0m\u001b[0margs\u001b[0m\u001b[0;34m)\u001b[0m\u001b[0;34m\u001b[0m\u001b[0;34m\u001b[0m\u001b[0m\n\u001b[0m\u001b[1;32m   1335\u001b[0m     \u001b[0;32mexcept\u001b[0m \u001b[0merrors\u001b[0m\u001b[0;34m.\u001b[0m\u001b[0mOpError\u001b[0m \u001b[0;32mas\u001b[0m \u001b[0me\u001b[0m\u001b[0;34m:\u001b[0m\u001b[0;34m\u001b[0m\u001b[0;34m\u001b[0m\u001b[0m\n",
            "\u001b[0;32m/usr/local/lib/python3.6/dist-packages/tensorflow/python/client/session.py\u001b[0m in \u001b[0;36m_run_fn\u001b[0;34m(feed_dict, fetch_list, target_list, options, run_metadata)\u001b[0m\n\u001b[1;32m   1318\u001b[0m       return self._call_tf_sessionrun(\n\u001b[0;32m-> 1319\u001b[0;31m           options, feed_dict, fetch_list, target_list, run_metadata)\n\u001b[0m\u001b[1;32m   1320\u001b[0m \u001b[0;34m\u001b[0m\u001b[0m\n",
            "\u001b[0;32m/usr/local/lib/python3.6/dist-packages/tensorflow/python/client/session.py\u001b[0m in \u001b[0;36m_call_tf_sessionrun\u001b[0;34m(self, options, feed_dict, fetch_list, target_list, run_metadata)\u001b[0m\n\u001b[1;32m   1406\u001b[0m         \u001b[0mself\u001b[0m\u001b[0;34m.\u001b[0m\u001b[0m_session\u001b[0m\u001b[0;34m,\u001b[0m \u001b[0moptions\u001b[0m\u001b[0;34m,\u001b[0m \u001b[0mfeed_dict\u001b[0m\u001b[0;34m,\u001b[0m \u001b[0mfetch_list\u001b[0m\u001b[0;34m,\u001b[0m \u001b[0mtarget_list\u001b[0m\u001b[0;34m,\u001b[0m\u001b[0;34m\u001b[0m\u001b[0;34m\u001b[0m\u001b[0m\n\u001b[0;32m-> 1407\u001b[0;31m         run_metadata)\n\u001b[0m\u001b[1;32m   1408\u001b[0m \u001b[0;34m\u001b[0m\u001b[0m\n",
            "\u001b[0;31mFailedPreconditionError\u001b[0m: Attempting to use uninitialized value Variable_31\n\t [[{{node Variable_31/read}} = Identity[T=DT_FLOAT, _device=\"/job:localhost/replica:0/task:0/device:CPU:0\"](Variable_31)]]",
            "\nDuring handling of the above exception, another exception occurred:\n",
            "\u001b[0;31mFailedPreconditionError\u001b[0m                   Traceback (most recent call last)",
            "\u001b[0;32m<ipython-input-17-8e2ed610202e>\u001b[0m in \u001b[0;36m<module>\u001b[0;34m()\u001b[0m\n\u001b[1;32m     91\u001b[0m \u001b[0;34m\u001b[0m\u001b[0m\n\u001b[1;32m     92\u001b[0m  \u001b[0ms_noise\u001b[0m \u001b[0;34m=\u001b[0m \u001b[0minput_noise_sample\u001b[0m\u001b[0;34m(\u001b[0m\u001b[0;36m1\u001b[0m\u001b[0;34m,\u001b[0m\u001b[0;36m10\u001b[0m\u001b[0;34m)\u001b[0m\u001b[0;34m\u001b[0m\u001b[0;34m\u001b[0m\u001b[0m\n\u001b[0;32m---> 93\u001b[0;31m  \u001b[0mf_sam\u001b[0m \u001b[0;34m=\u001b[0m \u001b[0msess\u001b[0m\u001b[0;34m.\u001b[0m\u001b[0mrun\u001b[0m\u001b[0;34m(\u001b[0m\u001b[0mmy_generator\u001b[0m\u001b[0;34m.\u001b[0m\u001b[0minference_draw_samples\u001b[0m\u001b[0;34m(\u001b[0m\u001b[0ms_noise\u001b[0m\u001b[0;34m)\u001b[0m\u001b[0;34m)\u001b[0m\u001b[0;34m\u001b[0m\u001b[0;34m\u001b[0m\u001b[0m\n\u001b[0m",
            "\u001b[0;32m/usr/local/lib/python3.6/dist-packages/tensorflow/python/client/session.py\u001b[0m in \u001b[0;36mrun\u001b[0;34m(self, fetches, feed_dict, options, run_metadata)\u001b[0m\n\u001b[1;32m    927\u001b[0m     \u001b[0;32mtry\u001b[0m\u001b[0;34m:\u001b[0m\u001b[0;34m\u001b[0m\u001b[0;34m\u001b[0m\u001b[0m\n\u001b[1;32m    928\u001b[0m       result = self._run(None, fetches, feed_dict, options_ptr,\n\u001b[0;32m--> 929\u001b[0;31m                          run_metadata_ptr)\n\u001b[0m\u001b[1;32m    930\u001b[0m       \u001b[0;32mif\u001b[0m \u001b[0mrun_metadata\u001b[0m\u001b[0;34m:\u001b[0m\u001b[0;34m\u001b[0m\u001b[0;34m\u001b[0m\u001b[0m\n\u001b[1;32m    931\u001b[0m         \u001b[0mproto_data\u001b[0m \u001b[0;34m=\u001b[0m \u001b[0mtf_session\u001b[0m\u001b[0;34m.\u001b[0m\u001b[0mTF_GetBuffer\u001b[0m\u001b[0;34m(\u001b[0m\u001b[0mrun_metadata_ptr\u001b[0m\u001b[0;34m)\u001b[0m\u001b[0;34m\u001b[0m\u001b[0;34m\u001b[0m\u001b[0m\n",
            "\u001b[0;32m/usr/local/lib/python3.6/dist-packages/tensorflow/python/client/session.py\u001b[0m in \u001b[0;36m_run\u001b[0;34m(self, handle, fetches, feed_dict, options, run_metadata)\u001b[0m\n\u001b[1;32m   1150\u001b[0m     \u001b[0;32mif\u001b[0m \u001b[0mfinal_fetches\u001b[0m \u001b[0;32mor\u001b[0m \u001b[0mfinal_targets\u001b[0m \u001b[0;32mor\u001b[0m \u001b[0;34m(\u001b[0m\u001b[0mhandle\u001b[0m \u001b[0;32mand\u001b[0m \u001b[0mfeed_dict_tensor\u001b[0m\u001b[0;34m)\u001b[0m\u001b[0;34m:\u001b[0m\u001b[0;34m\u001b[0m\u001b[0;34m\u001b[0m\u001b[0m\n\u001b[1;32m   1151\u001b[0m       results = self._do_run(handle, final_targets, final_fetches,\n\u001b[0;32m-> 1152\u001b[0;31m                              feed_dict_tensor, options, run_metadata)\n\u001b[0m\u001b[1;32m   1153\u001b[0m     \u001b[0;32melse\u001b[0m\u001b[0;34m:\u001b[0m\u001b[0;34m\u001b[0m\u001b[0;34m\u001b[0m\u001b[0m\n\u001b[1;32m   1154\u001b[0m       \u001b[0mresults\u001b[0m \u001b[0;34m=\u001b[0m \u001b[0;34m[\u001b[0m\u001b[0;34m]\u001b[0m\u001b[0;34m\u001b[0m\u001b[0;34m\u001b[0m\u001b[0m\n",
            "\u001b[0;32m/usr/local/lib/python3.6/dist-packages/tensorflow/python/client/session.py\u001b[0m in \u001b[0;36m_do_run\u001b[0;34m(self, handle, target_list, fetch_list, feed_dict, options, run_metadata)\u001b[0m\n\u001b[1;32m   1326\u001b[0m     \u001b[0;32mif\u001b[0m \u001b[0mhandle\u001b[0m \u001b[0;32mis\u001b[0m \u001b[0;32mNone\u001b[0m\u001b[0;34m:\u001b[0m\u001b[0;34m\u001b[0m\u001b[0;34m\u001b[0m\u001b[0m\n\u001b[1;32m   1327\u001b[0m       return self._do_call(_run_fn, feeds, fetches, targets, options,\n\u001b[0;32m-> 1328\u001b[0;31m                            run_metadata)\n\u001b[0m\u001b[1;32m   1329\u001b[0m     \u001b[0;32melse\u001b[0m\u001b[0;34m:\u001b[0m\u001b[0;34m\u001b[0m\u001b[0;34m\u001b[0m\u001b[0m\n\u001b[1;32m   1330\u001b[0m       \u001b[0;32mreturn\u001b[0m \u001b[0mself\u001b[0m\u001b[0;34m.\u001b[0m\u001b[0m_do_call\u001b[0m\u001b[0;34m(\u001b[0m\u001b[0m_prun_fn\u001b[0m\u001b[0;34m,\u001b[0m \u001b[0mhandle\u001b[0m\u001b[0;34m,\u001b[0m \u001b[0mfeeds\u001b[0m\u001b[0;34m,\u001b[0m \u001b[0mfetches\u001b[0m\u001b[0;34m)\u001b[0m\u001b[0;34m\u001b[0m\u001b[0;34m\u001b[0m\u001b[0m\n",
            "\u001b[0;32m/usr/local/lib/python3.6/dist-packages/tensorflow/python/client/session.py\u001b[0m in \u001b[0;36m_do_call\u001b[0;34m(self, fn, *args)\u001b[0m\n\u001b[1;32m   1346\u001b[0m           \u001b[0;32mpass\u001b[0m\u001b[0;34m\u001b[0m\u001b[0;34m\u001b[0m\u001b[0m\n\u001b[1;32m   1347\u001b[0m       \u001b[0mmessage\u001b[0m \u001b[0;34m=\u001b[0m \u001b[0merror_interpolation\u001b[0m\u001b[0;34m.\u001b[0m\u001b[0minterpolate\u001b[0m\u001b[0;34m(\u001b[0m\u001b[0mmessage\u001b[0m\u001b[0;34m,\u001b[0m \u001b[0mself\u001b[0m\u001b[0;34m.\u001b[0m\u001b[0m_graph\u001b[0m\u001b[0;34m)\u001b[0m\u001b[0;34m\u001b[0m\u001b[0;34m\u001b[0m\u001b[0m\n\u001b[0;32m-> 1348\u001b[0;31m       \u001b[0;32mraise\u001b[0m \u001b[0mtype\u001b[0m\u001b[0;34m(\u001b[0m\u001b[0me\u001b[0m\u001b[0;34m)\u001b[0m\u001b[0;34m(\u001b[0m\u001b[0mnode_def\u001b[0m\u001b[0;34m,\u001b[0m \u001b[0mop\u001b[0m\u001b[0;34m,\u001b[0m \u001b[0mmessage\u001b[0m\u001b[0;34m)\u001b[0m\u001b[0;34m\u001b[0m\u001b[0;34m\u001b[0m\u001b[0m\n\u001b[0m\u001b[1;32m   1349\u001b[0m \u001b[0;34m\u001b[0m\u001b[0m\n\u001b[1;32m   1350\u001b[0m   \u001b[0;32mdef\u001b[0m \u001b[0m_extend_graph\u001b[0m\u001b[0;34m(\u001b[0m\u001b[0mself\u001b[0m\u001b[0;34m)\u001b[0m\u001b[0;34m:\u001b[0m\u001b[0;34m\u001b[0m\u001b[0;34m\u001b[0m\u001b[0m\n",
            "\u001b[0;31mFailedPreconditionError\u001b[0m: Attempting to use uninitialized value Variable_31\n\t [[node Variable_31/read (defined at /content/MicrobiotaGAN/generator.py:85)  = Identity[T=DT_FLOAT, _device=\"/job:localhost/replica:0/task:0/device:CPU:0\"](Variable_31)]]\n\nCaused by op 'Variable_31/read', defined at:\n  File \"/usr/lib/python3.6/runpy.py\", line 193, in _run_module_as_main\n    \"__main__\", mod_spec)\n  File \"/usr/lib/python3.6/runpy.py\", line 85, in _run_code\n    exec(code, run_globals)\n  File \"/usr/local/lib/python3.6/dist-packages/ipykernel_launcher.py\", line 16, in <module>\n    app.launch_new_instance()\n  File \"/usr/local/lib/python3.6/dist-packages/traitlets/config/application.py\", line 658, in launch_instance\n    app.start()\n  File \"/usr/local/lib/python3.6/dist-packages/ipykernel/kernelapp.py\", line 477, in start\n    ioloop.IOLoop.instance().start()\n  File \"/usr/local/lib/python3.6/dist-packages/tornado/ioloop.py\", line 832, in start\n    self._run_callback(self._callbacks.popleft())\n  File \"/usr/local/lib/python3.6/dist-packages/tornado/ioloop.py\", line 605, in _run_callback\n    ret = callback()\n  File \"/usr/local/lib/python3.6/dist-packages/tornado/stack_context.py\", line 277, in null_wrapper\n    return fn(*args, **kwargs)\n  File \"/usr/local/lib/python3.6/dist-packages/zmq/eventloop/zmqstream.py\", line 536, in <lambda>\n    self.io_loop.add_callback(lambda : self._handle_events(self.socket, 0))\n  File \"/usr/local/lib/python3.6/dist-packages/zmq/eventloop/zmqstream.py\", line 450, in _handle_events\n    self._handle_recv()\n  File \"/usr/local/lib/python3.6/dist-packages/zmq/eventloop/zmqstream.py\", line 480, in _handle_recv\n    self._run_callback(callback, msg)\n  File \"/usr/local/lib/python3.6/dist-packages/zmq/eventloop/zmqstream.py\", line 432, in _run_callback\n    callback(*args, **kwargs)\n  File \"/usr/local/lib/python3.6/dist-packages/tornado/stack_context.py\", line 277, in null_wrapper\n    return fn(*args, **kwargs)\n  File \"/usr/local/lib/python3.6/dist-packages/ipykernel/kernelbase.py\", line 283, in dispatcher\n    return self.dispatch_shell(stream, msg)\n  File \"/usr/local/lib/python3.6/dist-packages/ipykernel/kernelbase.py\", line 235, in dispatch_shell\n    handler(stream, idents, msg)\n  File \"/usr/local/lib/python3.6/dist-packages/ipykernel/kernelbase.py\", line 399, in execute_request\n    user_expressions, allow_stdin)\n  File \"/usr/local/lib/python3.6/dist-packages/ipykernel/ipkernel.py\", line 196, in do_execute\n    res = shell.run_cell(code, store_history=store_history, silent=silent)\n  File \"/usr/local/lib/python3.6/dist-packages/ipykernel/zmqshell.py\", line 533, in run_cell\n    return super(ZMQInteractiveShell, self).run_cell(*args, **kwargs)\n  File \"/usr/local/lib/python3.6/dist-packages/IPython/core/interactiveshell.py\", line 2718, in run_cell\n    interactivity=interactivity, compiler=compiler, result=result)\n  File \"/usr/local/lib/python3.6/dist-packages/IPython/core/interactiveshell.py\", line 2822, in run_ast_nodes\n    if self.run_code(code, result):\n  File \"/usr/local/lib/python3.6/dist-packages/IPython/core/interactiveshell.py\", line 2882, in run_code\n    exec(code_obj, self.user_global_ns, self.user_ns)\n  File \"<ipython-input-17-8e2ed610202e>\", line 93, in <module>\n    f_sam = sess.run(my_generator.inference_draw_samples(s_noise))\n  File \"/content/MicrobiotaGAN/generator.py\", line 85, in inference_draw_samples\n    pop_var2 = tf.Variable(tf.ones([g_log_prob.get_shape()[-1]]), trainable=False)\n  File \"/usr/local/lib/python3.6/dist-packages/tensorflow/python/ops/variables.py\", line 183, in __call__\n    return cls._variable_v1_call(*args, **kwargs)\n  File \"/usr/local/lib/python3.6/dist-packages/tensorflow/python/ops/variables.py\", line 146, in _variable_v1_call\n    aggregation=aggregation)\n  File \"/usr/local/lib/python3.6/dist-packages/tensorflow/python/ops/variables.py\", line 125, in <lambda>\n    previous_getter = lambda **kwargs: default_variable_creator(None, **kwargs)\n  File \"/usr/local/lib/python3.6/dist-packages/tensorflow/python/ops/variable_scope.py\", line 2444, in default_variable_creator\n    expected_shape=expected_shape, import_scope=import_scope)\n  File \"/usr/local/lib/python3.6/dist-packages/tensorflow/python/ops/variables.py\", line 187, in __call__\n    return super(VariableMetaclass, cls).__call__(*args, **kwargs)\n  File \"/usr/local/lib/python3.6/dist-packages/tensorflow/python/ops/variables.py\", line 1329, in __init__\n    constraint=constraint)\n  File \"/usr/local/lib/python3.6/dist-packages/tensorflow/python/ops/variables.py\", line 1491, in _init_from_args\n    self._snapshot = array_ops.identity(self._variable, name=\"read\")\n  File \"/usr/local/lib/python3.6/dist-packages/tensorflow/python/ops/array_ops.py\", line 81, in identity\n    return gen_array_ops.identity(input, name=name)\n  File \"/usr/local/lib/python3.6/dist-packages/tensorflow/python/ops/gen_array_ops.py\", line 3454, in identity\n    \"Identity\", input=input, name=name)\n  File \"/usr/local/lib/python3.6/dist-packages/tensorflow/python/framework/op_def_library.py\", line 787, in _apply_op_helper\n    op_def=op_def)\n  File \"/usr/local/lib/python3.6/dist-packages/tensorflow/python/util/deprecation.py\", line 488, in new_func\n    return func(*args, **kwargs)\n  File \"/usr/local/lib/python3.6/dist-packages/tensorflow/python/framework/ops.py\", line 3274, in create_op\n    op_def=op_def)\n  File \"/usr/local/lib/python3.6/dist-packages/tensorflow/python/framework/ops.py\", line 1770, in __init__\n    self._traceback = tf_stack.extract_stack()\n\nFailedPreconditionError (see above for traceback): Attempting to use uninitialized value Variable_31\n\t [[node Variable_31/read (defined at /content/MicrobiotaGAN/generator.py:85)  = Identity[T=DT_FLOAT, _device=\"/job:localhost/replica:0/task:0/device:CPU:0\"](Variable_31)]]\n"
          ]
        }
      ]
    },
    {
      "metadata": {
        "id": "49_9DZMcIbgv",
        "colab_type": "text"
      },
      "cell_type": "markdown",
      "source": [
        "# Generator Loss Graph"
      ]
    },
    {
      "metadata": {
        "id": "k_oc7LTVDul4",
        "colab_type": "code",
        "colab": {}
      },
      "cell_type": "code",
      "source": [
        "iter_line = list(range(len(train_g_cost_record)))\n",
        "test_iter_line = list(range(len(test_g_cost_record)))\n",
        "\n",
        "epochs_list = list(range(len(g_test_epoch_cost)))\n",
        "\n",
        "\n",
        "#plt.plot(iter_line, train_g_cost_record )\n",
        "#plt.plot(test_iter_line, test_g_cost_record)\n",
        "\n",
        "plt.plot(epochs_list, g_train_epoch_cost)\n",
        "\n",
        "plt.plot(epochs_list, g_test_epoch_cost)\n",
        "\n",
        "plt.legend(['train set', 'test set'], loc='upper right')\n",
        "plt.title(\"Generator Loss\")\n",
        "\n",
        "plt.xlabel(\"epochs\")\n",
        "plt.ylabel(\"Loss\")\n",
        "\n",
        "#train_g_cost_record"
      ],
      "execution_count": 0,
      "outputs": []
    },
    {
      "metadata": {
        "id": "Ay6vrmOKmy49",
        "colab_type": "code",
        "colab": {}
      },
      "cell_type": "code",
      "source": [
        "plt.plot(epochs_list, d_train_epoch_cost)\n",
        "\n",
        "plt.plot(epochs_list, d_test_epoch_cost)"
      ],
      "execution_count": 0,
      "outputs": []
    },
    {
      "metadata": {
        "id": "5q0l-xBFIirH",
        "colab_type": "text"
      },
      "cell_type": "markdown",
      "source": [
        "## Closer look on the interval [0,100]"
      ]
    },
    {
      "metadata": {
        "id": "sjq7YAS8Dul9",
        "colab_type": "code",
        "colab": {}
      },
      "cell_type": "code",
      "source": [
        "plt.title(\"Generator loss on test set\")\n",
        "plt.xlabel(\"Iterations\")\n",
        "plt.ylabel(\"Loss\")\n",
        "plt.plot(iter_line[0:100],test_g_cost_record[0:100])\n"
      ],
      "execution_count": 0,
      "outputs": []
    },
    {
      "metadata": {
        "id": "X4-96NYrIpAp",
        "colab_type": "text"
      },
      "cell_type": "markdown",
      "source": [
        "# Discriminator Loss Graph"
      ]
    },
    {
      "metadata": {
        "id": "EuaNXSOFJDpd",
        "colab_type": "code",
        "colab": {}
      },
      "cell_type": "code",
      "source": [
        "iter_line_d = list(range(len(train_d_cost_record)))\n",
        "\n",
        "#plt.plot(iter_line_d,train_d_cost_record )\n",
        "#plt.plot(iter_line_d,test_d_cost_record)\n",
        "\n",
        "\n",
        "plt.plot(epochs_list, d_train_epoch_cost)\n",
        "\n",
        "plt.plot(epochs_list, d_test_epoch_cost)\n",
        "\n",
        "\n",
        "plt.legend(['train set', 'test set'], loc='upper right')\n",
        "plt.title(\"Discriminator Loss\")\n",
        "\n",
        "plt.xlabel(\"Iterations\")\n",
        "plt.ylabel(\"Loss\")\n",
        "\n",
        "#train_g_cost_record"
      ],
      "execution_count": 0,
      "outputs": []
    },
    {
      "metadata": {
        "id": "VRGMp249IuN8",
        "colab_type": "text"
      },
      "cell_type": "markdown",
      "source": [
        "## Closer look on the interval [0,100]"
      ]
    },
    {
      "metadata": {
        "id": "7nP7zkua_Ef0",
        "colab_type": "code",
        "colab": {}
      },
      "cell_type": "code",
      "source": [
        "plt.title(\"Discriminator loss on test set\")\n",
        "plt.xlabel(\"Iterations\")\n",
        "plt.ylabel(\"Loss\")\n",
        "plt.plot(iter_line_d[0:100],test_d_cost_record[0:100])\n"
      ],
      "execution_count": 0,
      "outputs": []
    },
    {
      "metadata": {
        "id": "8nR0N42uI08m",
        "colab_type": "text"
      },
      "cell_type": "markdown",
      "source": [
        "# Saving the model and othe file management"
      ]
    },
    {
      "metadata": {
        "id": "I4J354qa-4Yn",
        "colab_type": "code",
        "colab": {}
      },
      "cell_type": "code",
      "source": [
        ""
      ],
      "execution_count": 0,
      "outputs": []
    },
    {
      "metadata": {
        "id": "KTW2G1O4EWpr",
        "colab_type": "code",
        "colab": {}
      },
      "cell_type": "code",
      "source": [
        "\n",
        "#Comprimimos todos los archivos que se regenraron al guardar el moelo y despues lo descargamos\n",
        "!zip  bio_gan.zip bio_gan.*\n",
        "\n",
        "files.download(\"bio_gan.zip\")"
      ],
      "execution_count": 0,
      "outputs": []
    },
    {
      "metadata": {
        "id": "D1INUu5SOn0T",
        "colab_type": "code",
        "colab": {}
      },
      "cell_type": "code",
      "source": [
        "!ls"
      ],
      "execution_count": 0,
      "outputs": []
    },
    {
      "metadata": {
        "id": "Shj51eukUQtF",
        "colab_type": "code",
        "colab": {}
      },
      "cell_type": "code",
      "source": [
        "\n",
        "with tf.Session() as sess:\n",
        "    sess.run(tf.global_variables_initializer())\n",
        "    saver.restore(sess, '/content/trained_gan.ckpt')\n",
        "    \n",
        "    w1 = sess.run(my_generator.G_W1)\n",
        "    b1 = sess.run(my_generator.G_b1)\n",
        "\n",
        "    w2= sess.run(my_generator.G_W2)\n",
        "    b2 = sess.run(my_generator.G_b2)\n",
        "\n",
        "\n",
        "\n",
        "gen_weights_and_bias = [w1, b1, w2, b2]\n",
        "\n",
        "print(w1)"
      ],
      "execution_count": 0,
      "outputs": []
    },
    {
      "metadata": {
        "id": "PwbbsHUkXGvV",
        "colab_type": "code",
        "colab": {}
      },
      "cell_type": "code",
      "source": [
        "#import pickle"
      ],
      "execution_count": 0,
      "outputs": []
    },
    {
      "metadata": {
        "id": "goUEpGQ2X192",
        "colab_type": "code",
        "colab": {}
      },
      "cell_type": "code",
      "source": [
        "with open('gen_param.pkl', 'wb') as f:\n",
        "  pickle.dump(gen_weights_and_bias, f)"
      ],
      "execution_count": 0,
      "outputs": []
    },
    {
      "metadata": {
        "id": "Xw-sbXW-I8JH",
        "colab_type": "text"
      },
      "cell_type": "markdown",
      "source": [
        "# Using the Generator to create some samples"
      ]
    },
    {
      "metadata": {
        "id": "njm8PHdMTfWD",
        "colab_type": "code",
        "outputId": "74ae8f1e-f6f5-4979-d9d9-deea7794fb52",
        "colab": {
          "base_uri": "https://localhost:8080/",
          "height": 399
        }
      },
      "cell_type": "code",
      "source": [
        "# generator_sample_inference = my_generator.inference_draw_samples(noise_sample)\n",
        "\n",
        "noise_sample = tf.placeholder(tf.float32, shape=[None, noise_dim])\n",
        "sample_nara = my_generator.inference_draw_samples(noise_sample)\n",
        "\n",
        "    \n",
        "n_samples = 10\n",
        "samples_table = []\n",
        "\n",
        "with tf.Session() as sess:\n",
        "    sess.run(tf.global_variables_initializer())\n",
        "    \n",
        "    saver.restore(sess, '/content/trained_gan.ckpt')\n",
        "\n",
        "    for k in range(n_samples):\n",
        "        \n",
        "        magico = input_noise_sample(1, 10)\n",
        "        print(np.sum(magico))\n",
        "\n",
        "        \n",
        "        f_sam = sess.run(sample_nara, feed_dict={noise_sample :magico})\n",
        "        samples_table.append(f_sam[0] )\n",
        "        done_per =(k/(1.0*n_samples))*100\n",
        "        #print(str(round(done_per,2))+\"% has samples have been created\")\n",
        "        #print(k)\n",
        "        if k%(n_samples//10)==0:\n",
        "            print(str(done_per)+\"% has samples have been created\")\n",
        "\n",
        "samples_table = np.array(samples_table)"
      ],
      "execution_count": 0,
      "outputs": [
        {
          "output_type": "stream",
          "text": [
            "INFO:tensorflow:Restoring parameters from /content/trained_gan.ckpt\n",
            "1.9858812\n",
            "0.0% has samples have been created\n",
            "1.0832623\n",
            "10.0% has samples have been created\n",
            "0.2595018\n",
            "20.0% has samples have been created\n",
            "-1.08285\n",
            "30.0% has samples have been created\n",
            "-0.43566033\n",
            "40.0% has samples have been created\n",
            "-1.0620242\n",
            "50.0% has samples have been created\n",
            "1.1318662\n",
            "60.0% has samples have been created\n",
            "-3.734453\n",
            "70.0% has samples have been created\n",
            "-0.046339855\n",
            "80.0% has samples have been created\n",
            "-0.4751354\n",
            "90.0% has samples have been created\n"
          ],
          "name": "stdout"
        }
      ]
    },
    {
      "metadata": {
        "id": "bSARemagVTjZ",
        "colab_type": "code",
        "outputId": "58678351-1582-433e-f69d-155caade7b79",
        "colab": {
          "base_uri": "https://localhost:8080/",
          "height": 72
        }
      },
      "cell_type": "code",
      "source": [
        "sumatorias = [ np.sum(samples_table[k,:]) for k in range(samples_table.shape[0])]\n",
        "\n",
        "prome = [ np.mean(samples_table[k,:]) for k in range(samples_table.shape[0])]\n",
        "print(sumatorias[0:5])\n",
        "print(prome[0:5])\n",
        "print(len(prome))"
      ],
      "execution_count": 0,
      "outputs": [
        {
          "output_type": "stream",
          "text": [
            "[36.552933, 36.552933, 36.552933, 36.552933, 36.552933]\n",
            "[0.73105866, 0.73105866, 0.73105866, 0.73105866, 0.73105866]\n",
            "10\n"
          ],
          "name": "stdout"
        }
      ]
    },
    {
      "metadata": {
        "id": "sUQPh5Oz3ELb",
        "colab_type": "code",
        "colab": {}
      },
      "cell_type": "code",
      "source": [
        "samples_table = np.array(samples_table) \n",
        "    \n",
        "    \n",
        "ts_min = []\n",
        "for row in range(samples_table.shape[0]):\n",
        "    ts_min.append(np.min(samples_table[row,:]))\n",
        "    \n",
        "ts_max = []\n",
        "for row in range(samples_table.shape[0]):\n",
        "    ts_max.append(np.max(samples_table[row,:]))\n",
        "    \n",
        "ts_max = np.array(ts_max)\n",
        "ts_min = np.array(ts_min)\n",
        "    \n",
        "new_samples_table =  []\n",
        "for row in range(samples_table.shape[0]):\n",
        "\n",
        "    _ = samples_table[row,:]*(ts_max[row]-ts_min[row])+ts_min[row]\n",
        "    new_samples_table.append(_)\n",
        "      \n",
        "new_samples_table = np.array(new_samples_table)\n",
        "\n",
        " \n",
        "\n",
        "glv_gen_errors = []\n",
        "for k in range(samples_table.shape[0]):\n",
        "    error = np.sum( GLV_Model(samples_table[k,:], m_A, m_r ))\n",
        "    #print(error)\n",
        "    glv_gen_errors.append(error)\n",
        "    \n",
        "glv_gen_errors = np.array(glv_gen_errors)\n",
        "\n",
        " "
      ],
      "execution_count": 0,
      "outputs": []
    },
    {
      "metadata": {
        "id": "I78sINCl4IaI",
        "colab_type": "code",
        "outputId": "47218032-2ae7-4784-ff6c-26504b684559",
        "colab": {
          "base_uri": "https://localhost:8080/",
          "height": 68
        }
      },
      "cell_type": "code",
      "source": [
        "print(\"GAN Samples: \"+str(samples_table.shape[0]))\n",
        "print(\"GAN mean GLV error : \"+str(np.mean(glv_gen_errors)))\n",
        "print(\"GAN GLV error std : \"+str(np.std(glv_gen_errors)))"
      ],
      "execution_count": 0,
      "outputs": [
        {
          "output_type": "stream",
          "text": [
            "GAN Samples: 10\n",
            "GAN mean GLV error : 27.05333153046494\n",
            "GAN GLV error std : 0.0\n"
          ],
          "name": "stdout"
        }
      ]
    },
    {
      "metadata": {
        "id": "1fjXDx22yjuA",
        "colab_type": "code",
        "colab": {}
      },
      "cell_type": "code",
      "source": [
        "sub = DataSetManager(train_set)"
      ],
      "execution_count": 0,
      "outputs": []
    },
    {
      "metadata": {
        "id": "umLiU5doK38o",
        "colab_type": "code",
        "outputId": "789db967-e1c3-46f1-9909-97b93b5e0b3c",
        "colab": {
          "base_uri": "https://localhost:8080/",
          "height": 68
        }
      },
      "cell_type": "code",
      "source": [
        "sub_train_set = sub.next_batch(samples_table.shape[0]) #train_set[0:n_samples,:]\n",
        "\n",
        "glv_train_errors = []\n",
        "for k in range(sub_train_set.shape[0]):\n",
        "    error = np.sum( GLV_Model(sub_train_set[k,:], m_A, m_r ))\n",
        "    #print(error)\n",
        "    glv_train_errors.append(error)\n",
        "    \n",
        "glv_train_errors = np.array(glv_train_errors)\n",
        "\n",
        "glv_mean_e = np.round(np.mean(glv_train_errors),4)\n",
        "glv_e_std = np.round(np.std(glv_train_errors),4)\n",
        "\n",
        "\n",
        "print(\"Training Samples <Normalized>: \"+str(samples_table.shape[0]))\n",
        "print(\"Sub Train Set mean GLV error : \"+str(glv_mean_e))\n",
        "print(\"Sub Train Set error std : \"+str(glv_e_std))"
      ],
      "execution_count": 0,
      "outputs": [
        {
          "output_type": "stream",
          "text": [
            "Training Samples <Normalized>: 10\n",
            "Sub Train Set mean GLV error : 0.0001\n",
            "Sub Train Set error std : 0.0002\n"
          ],
          "name": "stdout"
        }
      ]
    },
    {
      "metadata": {
        "id": "b58KIIKSr2HU",
        "colab_type": "code",
        "outputId": "f3629e94-fe2f-4a62-984a-dabdecd0d175",
        "colab": {
          "base_uri": "https://localhost:8080/",
          "height": 108
        }
      },
      "cell_type": "code",
      "source": [
        "diff_e = np.mean(glv_gen_errors)  - glv_mean_e \n",
        "diff_std = np.std(glv_gen_errors) - glv_e_std\n",
        "\n",
        "print(\"Samples: \"+str(samples_table.shape[0]))\n",
        "\n",
        "print(\"GAN-Train mean GLV error : \"+str(diff_e))\n",
        "print(\"GAN-Train GLV error std : \"+str(diff_std))\n",
        "\n",
        "print(\"% GAN-Train mean GLV error : \"+str(100*diff_e/glv_mean_e))\n",
        "print(\"% GAN-Train GLV error std : \"+str(100*diff_std/glv_e_std))\n"
      ],
      "execution_count": 0,
      "outputs": [
        {
          "output_type": "stream",
          "text": [
            "Samples: 10\n",
            "GAN-Train mean GLV error : 27.05323153046494\n",
            "GAN-Train GLV error std : -0.0002\n",
            "% GAN-Train mean GLV error : 27053231.53046494\n",
            "% GAN-Train GLV error std : -100.0\n"
          ],
          "name": "stdout"
        }
      ]
    },
    {
      "metadata": {
        "id": "PoEucmecGbC7",
        "colab_type": "code",
        "outputId": "1f6a554c-5ebb-4e1a-c483-e2c9cb3988b1",
        "colab": {
          "base_uri": "https://localhost:8080/",
          "height": 35
        }
      },
      "cell_type": "code",
      "source": [
        "np.sum(samples_table < 0)"
      ],
      "execution_count": 0,
      "outputs": [
        {
          "output_type": "execute_result",
          "data": {
            "text/plain": [
              "0"
            ]
          },
          "metadata": {
            "tags": []
          },
          "execution_count": 43
        }
      ]
    },
    {
      "metadata": {
        "id": "_Jj1pa0S876y",
        "colab_type": "code",
        "outputId": "23713a29-57c9-4b91-a7ff-e213b08e1fc4",
        "colab": {
          "base_uri": "https://localhost:8080/",
          "height": 72
        }
      },
      "cell_type": "code",
      "source": [
        "import pandas as pd\n",
        "\n",
        "df = pd.DataFrame(samples_table)\n",
        "with open('unormed.csv', 'a') as f:\n",
        "    df.to_csv(f, header=False, index=False)\n",
        "    \n",
        "    \n",
        "\n",
        "df = pd.DataFrame(new_samples_table)\n",
        "with open('normalized.csv', 'a') as f:\n",
        "    df.to_csv(f, header=False, index=False)    \n",
        "    \n",
        "!zip gan_samples.zip *.csv\n",
        "\n",
        "files.download(\"gan_samples.zip\")"
      ],
      "execution_count": 0,
      "outputs": [
        {
          "output_type": "stream",
          "text": [
            "  adding: abundances.csv (deflated 69%)\n",
            "  adding: normalized.csv (deflated 99%)\n",
            "  adding: unormed.csv (deflated 99%)\n"
          ],
          "name": "stdout"
        }
      ]
    },
    {
      "metadata": {
        "id": "JPVK_CpdJ3PG",
        "colab_type": "text"
      },
      "cell_type": "markdown",
      "source": [
        "## Asessing the GLV error"
      ]
    },
    {
      "metadata": {
        "id": "QC0KpZVuJ6U_",
        "colab_type": "code",
        "outputId": "a471b65c-6363-4799-bc01-c799d489cb70",
        "colab": {
          "base_uri": "https://localhost:8080/",
          "height": 671
        }
      },
      "cell_type": "code",
      "source": [
        "d = {'GAN': glv_gen_errors, 'Training': glv_train_errors }\n",
        "df = pd.DataFrame(data=d)\n",
        "\n",
        "ax = sns.boxplot( data=df)\n",
        "\n",
        "plt.title(\"GLV Error, \"+str(train_epochs)+\" epochs , \"+str(n_samples)+\" samples draw\")\n",
        "\n",
        "\n",
        "fig = plt.gcf()\n",
        "fig.set_size_inches(18.5, 10.5)\n",
        "\n",
        "plt.savefig(\"glv_barplot.png\")\n"
      ],
      "execution_count": 0,
      "outputs": [
        {
          "output_type": "stream",
          "text": [
            "/usr/local/lib/python3.6/dist-packages/seaborn/categorical.py:454: FutureWarning: remove_na is deprecated and is a private function. Do not use.\n",
            "  box_data = remove_na(group_data)\n"
          ],
          "name": "stderr"
        },
        {
          "output_type": "display_data",
          "data": {
            "image/png": "[encoded data removed]",
            "text/plain": [
              "<matplotlib.figure.Figure at 0x7f4c35970cf8>"
            ]
          },
          "metadata": {
            "tags": []
          }
        }
      ]
    },
    {
      "metadata": {
        "id": "37FZvm3nVi9b",
        "colab_type": "code",
        "colab": {}
      },
      "cell_type": "code",
      "source": [
        "# !rm *.png\n",
        "files.download(\"glv_barplot.png\")"
      ],
      "execution_count": 0,
      "outputs": []
    },
    {
      "metadata": {
        "id": "WWAaB-TVJeqk",
        "colab_type": "text"
      },
      "cell_type": "markdown",
      "source": [
        "# Misc"
      ]
    },
    {
      "metadata": {
        "id": "HR6j1leRseLR",
        "colab_type": "code",
        "colab": {}
      },
      "cell_type": "code",
      "source": [
        "sns.barplot(x = list(range(1,51)) ,y= np.sum(normalize_ds(samples_table), axis=0))\n",
        "plt.title(\"GAN-Dataset Community Normalized Species Abundance\")\n",
        "plt.xlabel(\"Species\")\n",
        "plt.ylabel(\"Abundance\")\n",
        "plt.savefig(\"fake.svg\")"
      ],
      "execution_count": 0,
      "outputs": []
    },
    {
      "metadata": {
        "id": "QIDA0nB9DyJ1",
        "colab_type": "code",
        "colab": {}
      },
      "cell_type": "code",
      "source": [
        "\n",
        "rnd_index = np.random.randint(low=1, high=140000,size=100)\n",
        "sub_ds = normalize_ds(microbiota_table)[rnd_index]\n",
        "\n",
        "sns.barplot(x = list(range(1,29)) ,y= np.sum(sub_ds, axis=0))\n",
        "plt.title(\"Dataset Community Normalized Species Abundance\")\n",
        "plt.xlabel(\"Species\")\n",
        "plt.ylabel(\"Abundance\")\n",
        "plt.savefig(\"real.svg\")\n",
        " "
      ],
      "execution_count": 0,
      "outputs": []
    },
    {
      "metadata": {
        "id": "k2hauKEGE7BE",
        "colab_type": "code",
        "colab": {}
      },
      "cell_type": "code",
      "source": [
        "files.download(\"real.svg\")\n",
        "files.download(\"fake.svg\")"
      ],
      "execution_count": 0,
      "outputs": []
    },
    {
      "metadata": {
        "id": "uk7ifX9CFTcr",
        "colab_type": "code",
        "colab": {}
      },
      "cell_type": "code",
      "source": [
        "a_t = normalize_ds(samples_table)"
      ],
      "execution_count": 0,
      "outputs": []
    },
    {
      "metadata": {
        "id": "RFWi05ZcG1Wb",
        "colab_type": "code",
        "colab": {}
      },
      "cell_type": "code",
      "source": [
        "show_rounded_array(a_t[8,:],2)"
      ],
      "execution_count": 0,
      "outputs": []
    },
    {
      "metadata": {
        "id": "qcuBXB2AIhaM",
        "colab_type": "code",
        "colab": {}
      },
      "cell_type": "code",
      "source": [
        "!zip  pics.zip *.svg\n",
        "files.download(\"pics.zip\")"
      ],
      "execution_count": 0,
      "outputs": []
    },
    {
      "metadata": {
        "id": "ZoON-tMqImcJ",
        "colab_type": "code",
        "colab": {}
      },
      "cell_type": "code",
      "source": [
        "!head -n 20 MicrobiotaGAN/generator.py"
      ],
      "execution_count": 0,
      "outputs": []
    },
    {
      "metadata": {
        "id": "1ENcgkJGVAmK",
        "colab_type": "code",
        "colab": {}
      },
      "cell_type": "code",
      "source": [
        "bool(1)"
      ],
      "execution_count": 0,
      "outputs": []
    },
    {
      "metadata": {
        "id": "lRaScDq2XOso",
        "colab_type": "code",
        "colab": {}
      },
      "cell_type": "code",
      "source": [
        "dir(my_generator)"
      ],
      "execution_count": 0,
      "outputs": []
    },
    {
      "metadata": {
        "id": "1dzoenDufTKZ",
        "colab_type": "code",
        "colab": {}
      },
      "cell_type": "code",
      "source": [
        "def Diagonal_Matrix(input_vector):\n",
        "     return np.multiply(np.identity(input_vector.shape[0]),input_vector)\n"
      ],
      "execution_count": 0,
      "outputs": []
    },
    {
      "metadata": {
        "id": "d6CjTaa9emxm",
        "colab_type": "code",
        "colab": {}
      },
      "cell_type": "code",
      "source": [
        "s_0 = normalize_ds(microbiota_table)[0]\n",
        "\n",
        "res = np.multiply(Diagonal_Matrix(s_0), np.matmul(m_A,s_0)+m_rho)\n",
        "\n",
        "print(res[0,:])\n",
        "\n",
        "plt.imshow(res, cmap=\"gray\")\n",
        "\n",
        "\n",
        "\"\"\"\n",
        "print(m_A.shape)\n",
        "print(s_0.shape)\n",
        "print(s_0)\n",
        "\"\"\"\n"
      ],
      "execution_count": 0,
      "outputs": []
    },
    {
      "metadata": {
        "id": "q85vkt2KBQwG",
        "colab_type": "code",
        "colab": {}
      },
      "cell_type": "code",
      "source": [
        "!head -n 25 MicrobiotaGAN/glv_loss.py"
      ],
      "execution_count": 0,
      "outputs": []
    },
    {
      "metadata": {
        "id": "UWb-8xsCKf__",
        "colab_type": "code",
        "colab": {}
      },
      "cell_type": "code",
      "source": [
        ""
      ],
      "execution_count": 0,
      "outputs": []
    }
  ]
}