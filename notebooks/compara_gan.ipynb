{
 "cells": [
  {
   "cell_type": "code",
   "execution_count": 1,
   "metadata": {},
   "outputs": [
    {
     "name": "stderr",
     "output_type": "stream",
     "text": [
      "/home/acevedo/anaconda3/lib/python3.6/importlib/_bootstrap.py:219: RuntimeWarning: numpy.ufunc size changed, may indicate binary incompatibility. Expected 216, got 192\n",
      "  return f(*args, **kwds)\n"
     ]
    }
   ],
   "source": [
    "%load_ext autoreload\n",
    "%autoreload 2\n",
    "\n",
    "import pandas as pd\n",
    "from plot_utils import  *\n",
    "import numpy as np\n",
    "\n",
    "%matplotlib widget\n",
    "import matplotlib.pyplot as plt\n",
    "\n",
    "import seaborn as sns\n",
    "sns.set()\n",
    "from scipy.spatial.distance import jensenshannon as JSD \n"
   ]
  },
  {
   "cell_type": "code",
   "execution_count": null,
   "metadata": {},
   "outputs": [],
   "source": [
    "\n",
    " \n",
    "train_set = pd.read_csv('../data/experiment_march_21/train_set.csv', header=None) .values\n",
    "test_set = pd.read_csv('../data/experiment_march_21/test_set.csv', header=None) .values\n",
    "\n",
    "train_set.shape"
   ]
  },
  {
   "cell_type": "code",
   "execution_count": null,
   "metadata": {},
   "outputs": [],
   "source": [
    "original_gan_path =  '../data/plot4'"
   ]
  },
  {
   "cell_type": "code",
   "execution_count": null,
   "metadata": {},
   "outputs": [],
   "source": []
  },
  {
   "cell_type": "markdown",
   "metadata": {},
   "source": [
    "# Tablas de JSD por subdataset y Graficas\n",
    "\n",
    "## JSD Score\n",
    "\n",
    "\n",
    "$$S = e^{\\frac{1}{N} \\sum_{n=0}^{N}  x}$$\n",
    "Donde\n",
    "\n",
    "$$\\vec x = {JSD(GAN_k, Testset_k)}$$"
   ]
  },
  {
   "cell_type": "code",
   "execution_count": null,
   "metadata": {},
   "outputs": [],
   "source": [
    "gan_path =  '../data/test_speed/original'\n",
    "gan_path2 =  '../data/test_speed/faster'"
   ]
  },
  {
   "cell_type": "code",
   "execution_count": null,
   "metadata": {},
   "outputs": [],
   "source": [
    "tabla_test = build_table2(gan_path, test_set)\n"
   ]
  },
  {
   "cell_type": "code",
   "execution_count": null,
   "metadata": {},
   "outputs": [],
   "source": [
    "tabla_test2 = build_table2(gan_path2, test_set)"
   ]
  },
  {
   "cell_type": "code",
   "execution_count": null,
   "metadata": {},
   "outputs": [],
   "source": [
    "gan_5l = build_table2( '../data/5L_both_gan', test_set)"
   ]
  },
  {
   "cell_type": "code",
   "execution_count": null,
   "metadata": {},
   "outputs": [],
   "source": [
    "gan_6l = build_table2( '../data/6L_both_gan', test_set)\n",
    "#os.chdir('/home/acevedo/Desktop/Current_GAN/MicrobiotaGAN/data')"
   ]
  },
  {
   "cell_type": "code",
   "execution_count": null,
   "metadata": {},
   "outputs": [],
   "source": [
    "gan_2N = build_table2( '../data/2N_faster_gan', test_set)\n"
   ]
  },
  {
   "cell_type": "code",
   "execution_count": null,
   "metadata": {},
   "outputs": [],
   "source": [
    "gan_3N = build_table2( '../data/3N_faster_gan', test_set)\n"
   ]
  },
  {
   "cell_type": "code",
   "execution_count": null,
   "metadata": {},
   "outputs": [],
   "source": [
    "def save_df_to_dsk(data_df, name:str):\n",
    "    with open(name+'.csv', 'a') as f:\n",
    "        data_df.to_csv(f)"
   ]
  },
  {
   "cell_type": "code",
   "execution_count": null,
   "metadata": {},
   "outputs": [],
   "source": [
    "save_df_to_dsk(gan_3N, \"3N\")\n"
   ]
  },
  {
   "cell_type": "code",
   "execution_count": null,
   "metadata": {},
   "outputs": [],
   "source": [
    "!pwd"
   ]
  },
  {
   "cell_type": "raw",
   "metadata": {},
   "source": [
    "save_df_to_dsk(tabla_test, \"original\")\n",
    "save_df_to_dsk(tabla_test2, \"faster\")\n",
    "save_df_to_dsk(gan_5l, \"5L\")\n",
    "save_df_to_dsk(gan_6l, \"6L\")\n",
    "save_df_to_dsk(gan_2N, \"2N Faster\")"
   ]
  },
  {
   "cell_type": "code",
   "execution_count": null,
   "metadata": {},
   "outputs": [],
   "source": [
    "plot_gan_curve(tabla_test, \"original\", debug_flag=True)\n",
    "plot_gan_curve(tabla_test2, \"faster\", debug_flag=True)\n",
    "plot_gan_curve(gan_5l, \"5L\", debug_flag=True)\n",
    "plot_gan_curve(gan_6l, \"6L\", debug_flag=True)\n",
    "plot_gan_curve(gan_2N, \"2N Faster\", debug_flag=True)\n",
    "plot_gan_curve(gan_3N, \"3N Faster\", debug_flag=True)\n",
    "\n",
    "\n",
    "plt.ylabel(\"JSD(GAN,Test)\",fontsize=40)\n",
    "plt.xlabel(\"#Samples used to train\",fontsize=40)\n",
    "plt.title(\"GAN JSD - Samples\",fontsize=40)\n",
    "\n",
    "fig = plt.gcf()\n",
    "fig.set_size_inches(18.5, 10.5)\n",
    "\n",
    "#plt.xlim(3000,10000)\n",
    "#plt.xlim(5000,18000)"
   ]
  },
  {
   "cell_type": "code",
   "execution_count": null,
   "metadata": {},
   "outputs": [],
   "source": []
  },
  {
   "cell_type": "code",
   "execution_count": null,
   "metadata": {},
   "outputs": [],
   "source": []
  },
  {
   "cell_type": "code",
   "execution_count": null,
   "metadata": {},
   "outputs": [],
   "source": [
    "plot_gan_curve(original_tabla_test, \"Original\")\n",
    "plot_gan_curve(depeer_tabla_test, \"Double Nodes (2nd, 3rd layer)\")\n",
    "plot_gan_curve(sparse_tabla_test, \"Sparsemax \")\n",
    "\n",
    "plot_gan_curve(pre_ribbon_tabla_test, \"Ribbon GAN (preliminary)\")\n",
    "\n",
    "plt.ylabel(\"JSD(GAN,Test)\",fontsize=40)\n",
    "plt.xlabel(\"#Samples used to train\",fontsize=40)\n",
    "plt.title(\"GAN JSD - Samples\",fontsize=40)\n",
    "\n",
    "fig = plt.gcf()\n",
    "fig.set_size_inches(18.5, 10.5)\n",
    "\n",
    "plt.savefig(\"dos.png\", dpi=300)"
   ]
  },
  {
   "cell_type": "code",
   "execution_count": null,
   "metadata": {},
   "outputs": [],
   "source": []
  },
  {
   "cell_type": "code",
   "execution_count": null,
   "metadata": {},
   "outputs": [],
   "source": [
    "tabla_train  = build_table(data_path, train_set)\n"
   ]
  },
  {
   "cell_type": "code",
   "execution_count": null,
   "metadata": {},
   "outputs": [],
   "source": []
  },
  {
   "cell_type": "code",
   "execution_count": null,
   "metadata": {},
   "outputs": [],
   "source": [
    "print(train_set.shape)"
   ]
  },
  {
   "cell_type": "code",
   "execution_count": null,
   "metadata": {},
   "outputs": [],
   "source": [
    "print(test_set.shape)"
   ]
  },
  {
   "cell_type": "code",
   "execution_count": null,
   "metadata": {},
   "outputs": [],
   "source": [
    "plot_gan_curve(tabla_test, debug_flag= True)\n",
    "plt.ylabel(\"JSD(GAN,Test)\",fontsize=40)\n",
    "plt.xlabel(\"#Samples used to train\",fontsize=40)\n",
    "plt.title(\"JSD(GAN,Test) - Samples\",fontsize=40)\n",
    "\n",
    "fig = plt.gcf()\n",
    "fig.set_size_inches(18.5, 10.5)\n",
    "\n",
    "# plt.savefig(\"curve.png\", dpi=300)"
   ]
  },
  {
   "cell_type": "code",
   "execution_count": null,
   "metadata": {},
   "outputs": [],
   "source": [
    "plot_gan_curve(tabla_train, debug_flag=True)\n",
    "plt.ylabel(\"JSD(GAN,Training)\",fontsize=40)\n",
    "plt.xlabel(\"#Samples used to train\",fontsize=40)\n",
    "plt.title(\"JSD(GAN,Training) - Samples\",fontsize=40)\n",
    "\n",
    "fig = plt.gcf()\n",
    "fig.set_size_inches(18.5, 10.5)\n"
   ]
  },
  {
   "cell_type": "code",
   "execution_count": null,
   "metadata": {},
   "outputs": [],
   "source": []
  },
  {
   "cell_type": "code",
   "execution_count": null,
   "metadata": {},
   "outputs": [],
   "source": []
  },
  {
   "cell_type": "code",
   "execution_count": null,
   "metadata": {},
   "outputs": [],
   "source": []
  },
  {
   "cell_type": "code",
   "execution_count": null,
   "metadata": {},
   "outputs": [],
   "source": []
  }
 ],
 "metadata": {
  "kernelspec": {
   "display_name": "Python 3",
   "language": "python",
   "name": "python3"
  },
  "language_info": {
   "codemirror_mode": {
    "name": "ipython",
    "version": 3
   },
   "file_extension": ".py",
   "mimetype": "text/x-python",
   "name": "python",
   "nbconvert_exporter": "python",
   "pygments_lexer": "ipython3",
   "version": "3.6.6"
  }
 },
 "nbformat": 4,
 "nbformat_minor": 2
}
