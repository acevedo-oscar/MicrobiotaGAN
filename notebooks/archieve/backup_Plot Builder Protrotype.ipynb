{
 "cells": [
  {
   "cell_type": "code",
   "execution_count": 1,
   "metadata": {},
   "outputs": [
    {
     "name": "stderr",
     "output_type": "stream",
     "text": [
      "/home/acevedo/anaconda3/lib/python3.6/importlib/_bootstrap.py:219: RuntimeWarning: numpy.ufunc size changed, may indicate binary incompatibility. Expected 216, got 192\n",
      "  return f(*args, **kwds)\n"
     ]
    }
   ],
   "source": [
    "import numpy as np\n",
    "import matplotlib.pyplot as plt\n",
    "%matplotlib inline\n",
    "import pandas as pd\n",
    "import copy \n",
    "\n",
    "import seaborn as sns\n",
    "sns.set(color_codes=True)\n",
    "import os\n",
    "\n",
    "from scipy.stats import entropy as DKL\n",
    "\n"
   ]
  },
  {
   "cell_type": "code",
   "execution_count": 2,
   "metadata": {},
   "outputs": [],
   "source": [
    "train_set = pd.read_csv('../data/experiment_march_21/train_set.csv', header=None) .values"
   ]
  },
  {
   "cell_type": "code",
   "execution_count": 3,
   "metadata": {},
   "outputs": [],
   "source": [
    "def gan_error(gan_ds, training_ds):\n",
    "    assert gan_ds.shape == training_ds.shape\n",
    "    a = gan_ds.mean(axis=0)\n",
    "    b = training_ds.mean(axis=0)\n",
    "    return DKL(a,b)"
   ]
  },
  {
   "cell_type": "code",
   "execution_count": 4,
   "metadata": {},
   "outputs": [],
   "source": [
    "def build_table(data_path, train_ds):\n",
    "\n",
    "    old_path = os.getcwd()\n",
    "    os.chdir(data_path)\n",
    "    cwd = os.getcwd()\n",
    "\n",
    "    print([x[0].replace(cwd,'') for x in os.walk(cwd)])\n",
    "    \n",
    "    directory_list=[x[0].replace(cwd,'').replace('/','') for x in os.walk(cwd,topdown=True)]\n",
    "    directory_list= directory_list[1:]\n",
    "    \n",
    "    # directory_list = sorted(directory_list)\n",
    "    \n",
    "    #print(\"\\n\")\n",
    "    #print(sorted(directory_list))\n",
    "    #print(directory_list)\n",
    "\n",
    "\n",
    "    \n",
    "    dkl_record = []\n",
    "    \n",
    "    id_sample_N = []\n",
    "    id_repetition = []\n",
    "    \n",
    "    # print(len(directory_list))\n",
    "    # For loop goes here\n",
    "    for dir_k in range(len(directory_list)):\n",
    "\n",
    "        numbers_list =(directory_list[dir_k].replace('_data','').replace('_',' ').replace('/',' ')).split(' ')\n",
    "\n",
    "\n",
    "        os.chdir(directory_list[dir_k])\n",
    "        ids = [int(numbers_list[k]) for k in range(len(numbers_list))]\n",
    "\n",
    "        samples_file = 'gan_samples_'+numbers_list[0]+'_'+numbers_list[1] + '.csv'\n",
    "\n",
    "        fake_samples = pd.read_csv(samples_file,header=None) .values\n",
    "        indices =  (pd.read_csv('training_indices.csv', header=None) .values).flatten() \n",
    "        val = gan_error(fake_samples, train_ds[indices])\n",
    "        \n",
    "        dkl_record.append(val)\n",
    "        id_sample_N.append(ids[0])\n",
    "        id_repetition.append(ids[1])\n",
    "        \n",
    "        os.chdir(cwd)\n",
    "        \n",
    "        ## \n",
    "\n",
    "    os.chdir(old_path)\n",
    "    \n",
    "    plot_table = pd.DataFrame(\n",
    "    {'DKL': dkl_record,\n",
    "     'id_sample_N': id_sample_N,\n",
    "     'id_repetition': id_repetition\n",
    "    })\n",
    "    \n",
    "    return plot_table"
   ]
  },
  {
   "cell_type": "code",
   "execution_count": 5,
   "metadata": {},
   "outputs": [
    {
     "name": "stdout",
     "output_type": "stream",
     "text": [
      "['', '/300_1_data', '/400_0_data', '/700_1_data', '/400_1_data', '/500_0_data', '/700_0_data', '/300_0_data', '/500_1_data']\n"
     ]
    },
    {
     "data": {
      "text/html": [
       "<div>\n",
       "<style scoped>\n",
       "    .dataframe tbody tr th:only-of-type {\n",
       "        vertical-align: middle;\n",
       "    }\n",
       "\n",
       "    .dataframe tbody tr th {\n",
       "        vertical-align: top;\n",
       "    }\n",
       "\n",
       "    .dataframe thead th {\n",
       "        text-align: right;\n",
       "    }\n",
       "</style>\n",
       "<table border=\"1\" class=\"dataframe\">\n",
       "  <thead>\n",
       "    <tr style=\"text-align: right;\">\n",
       "      <th></th>\n",
       "      <th>DKL</th>\n",
       "      <th>id_sample_N</th>\n",
       "      <th>id_repetition</th>\n",
       "    </tr>\n",
       "  </thead>\n",
       "  <tbody>\n",
       "    <tr>\n",
       "      <th>0</th>\n",
       "      <td>0.005324</td>\n",
       "      <td>300</td>\n",
       "      <td>1</td>\n",
       "    </tr>\n",
       "    <tr>\n",
       "      <th>1</th>\n",
       "      <td>0.004088</td>\n",
       "      <td>400</td>\n",
       "      <td>0</td>\n",
       "    </tr>\n",
       "    <tr>\n",
       "      <th>2</th>\n",
       "      <td>0.001945</td>\n",
       "      <td>700</td>\n",
       "      <td>1</td>\n",
       "    </tr>\n",
       "    <tr>\n",
       "      <th>3</th>\n",
       "      <td>0.003329</td>\n",
       "      <td>400</td>\n",
       "      <td>1</td>\n",
       "    </tr>\n",
       "    <tr>\n",
       "      <th>4</th>\n",
       "      <td>0.003300</td>\n",
       "      <td>500</td>\n",
       "      <td>0</td>\n",
       "    </tr>\n",
       "    <tr>\n",
       "      <th>5</th>\n",
       "      <td>0.002339</td>\n",
       "      <td>700</td>\n",
       "      <td>0</td>\n",
       "    </tr>\n",
       "    <tr>\n",
       "      <th>6</th>\n",
       "      <td>0.006286</td>\n",
       "      <td>300</td>\n",
       "      <td>0</td>\n",
       "    </tr>\n",
       "    <tr>\n",
       "      <th>7</th>\n",
       "      <td>0.002804</td>\n",
       "      <td>500</td>\n",
       "      <td>1</td>\n",
       "    </tr>\n",
       "  </tbody>\n",
       "</table>\n",
       "</div>"
      ],
      "text/plain": [
       "        DKL  id_sample_N  id_repetition\n",
       "0  0.005324          300              1\n",
       "1  0.004088          400              0\n",
       "2  0.001945          700              1\n",
       "3  0.003329          400              1\n",
       "4  0.003300          500              0\n",
       "5  0.002339          700              0\n",
       "6  0.006286          300              0\n",
       "7  0.002804          500              1"
      ]
     },
     "execution_count": 5,
     "metadata": {},
     "output_type": "execute_result"
    }
   ],
   "source": [
    "x = build_table('../data/plot2', train_set)\n",
    "x"
   ]
  },
  {
   "cell_type": "code",
   "execution_count": null,
   "metadata": {},
   "outputs": [],
   "source": []
  }
 ],
 "metadata": {
  "kernelspec": {
   "display_name": "Python 3",
   "language": "python",
   "name": "python3"
  },
  "language_info": {
   "codemirror_mode": {
    "name": "ipython",
    "version": 3
   },
   "file_extension": ".py",
   "mimetype": "text/x-python",
   "name": "python",
   "nbconvert_exporter": "python",
   "pygments_lexer": "ipython3",
   "version": "3.6.6"
  }
 },
 "nbformat": 4,
 "nbformat_minor": 2
}
