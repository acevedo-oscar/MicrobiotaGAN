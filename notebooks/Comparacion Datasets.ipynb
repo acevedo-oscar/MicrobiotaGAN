{
 "cells": [
  {
   "cell_type": "code",
   "execution_count": 1,
   "metadata": {},
   "outputs": [
    {
     "name": "stderr",
     "output_type": "stream",
     "text": [
      "/home/acevedo/anaconda3/lib/python3.6/importlib/_bootstrap.py:219: RuntimeWarning: numpy.ufunc size changed, may indicate binary incompatibility. Expected 216, got 192\n",
      "  return f(*args, **kwds)\n"
     ]
    }
   ],
   "source": [
    "import numpy as np\n",
    "import matplotlib.pyplot as plt\n",
    "%matplotlib inline\n",
    "import pandas as pd\n",
    "import copy \n",
    "\n",
    "import seaborn as sns\n",
    "sns.set(color_codes=True)\n",
    "\n",
    "from copy import copy\n",
    "from scipy.spatial.distance import jensenshannon as JSD \n",
    "\n",
    "from scipy.stats import entropy as DKL"
   ]
  },
  {
   "cell_type": "code",
   "execution_count": 2,
   "metadata": {},
   "outputs": [],
   "source": [
    "ds_training = pd.read_csv('resources/dataset_training.csv', header=None) .values\n",
    "ds_gan = pd.read_csv('resources/dataset_gan.csv', header=None) .values\n",
    "ds_malo = pd.read_csv('resources/dataset_deformado.csv', header=None) .values\n"
   ]
  },
  {
   "cell_type": "code",
   "execution_count": 3,
   "metadata": {},
   "outputs": [
    {
     "data": {
      "text/plain": [
       "(10000, 100)"
      ]
     },
     "execution_count": 3,
     "metadata": {},
     "output_type": "execute_result"
    }
   ],
   "source": [
    "species_k = ds_gan[:,5]\n",
    "ds_gan.shape"
   ]
  },
  {
   "cell_type": "code",
   "execution_count": 4,
   "metadata": {},
   "outputs": [],
   "source": [
    "def data_probs(ds):\n",
    "    hist, bin_edges = np.histogram(ds, density=True)\n",
    "\n",
    "    probs = hist * np.diff(bin_edges)\n",
    "    return probs"
   ]
  },
  {
   "cell_type": "code",
   "execution_count": 5,
   "metadata": {},
   "outputs": [
    {
     "name": "stdout",
     "output_type": "stream",
     "text": [
      "0.027216472328301843\n",
      "0.8262911978380284\n"
     ]
    }
   ],
   "source": [
    "k = 8 \n",
    "\n",
    "a = data_probs(ds_gan[:,k])\n",
    "b = data_probs(ds_malo[:,k])\n",
    "c = data_probs(ds_training[:,k])\n",
    "\n",
    "print(DKL(a,c))\n",
    "print(DKL(b,c))"
   ]
  },
  {
   "cell_type": "code",
   "execution_count": 10,
   "metadata": {},
   "outputs": [
    {
     "name": "stdout",
     "output_type": "stream",
     "text": [
      "10\n",
      "11\n"
     ]
    },
    {
     "data": {
      "text/plain": [
       "[<matplotlib.lines.Line2D at 0x7f658a161b38>]"
      ]
     },
     "execution_count": 10,
     "metadata": {},
     "output_type": "execute_result"
    },
    {
     "data": {
      "image/png": "[encoded data removed]",
      "text/plain": [
       "<Figure size 432x288 with 1 Axes>"
      ]
     },
     "metadata": {
      "needs_background": "light"
     },
     "output_type": "display_data"
    }
   ],
   "source": [
    "hist, bin_edges = np.histogram(ds_training[:,k], density=True)\n",
    "print(len(hist))\n",
    "print(len(bin_edges))\n",
    "plt.plot(bin_edges[0:-1], hist)"
   ]
  },
  {
   "cell_type": "code",
   "execution_count": 12,
   "metadata": {},
   "outputs": [
    {
     "data": {
      "text/plain": [
       "0.62535"
      ]
     },
     "execution_count": 12,
     "metadata": {},
     "output_type": "execute_result"
    }
   ],
   "source": [
    "np.trapz(hist, x= bin_edges[0:-1])"
   ]
  },
  {
   "cell_type": "code",
   "execution_count": 19,
   "metadata": {},
   "outputs": [
    {
     "data": {
      "text/plain": [
       "<matplotlib.axes._subplots.AxesSubplot at 0x7f6589439dd8>"
      ]
     },
     "execution_count": 19,
     "metadata": {},
     "output_type": "execute_result"
    },
    {
     "data": {
      "image/png": "[encoded data removed]",
      "text/plain": [
       "<Figure size 432x288 with 1 Axes>"
      ]
     },
     "metadata": {
      "needs_background": "light"
     },
     "output_type": "display_data"
    }
   ],
   "source": [
    "sns.distplot(ds_training[:,k],kde=False ,bins = 100)"
   ]
  },
  {
   "cell_type": "code",
   "execution_count": null,
   "metadata": {},
   "outputs": [],
   "source": []
  },
  {
   "cell_type": "markdown",
   "metadata": {},
   "source": [
    "# Visualizamos Histograms Especies\n",
    "\n",
    "# GAN y Training"
   ]
  },
  {
   "cell_type": "code",
   "execution_count": null,
   "metadata": {},
   "outputs": [],
   "source": [
    "# Sugerencia, usar especie 8\n",
    "k_esp = 8# np.random.randint(0,100)\n",
    "\n",
    "\n",
    "sns.distplot(ds_training[:,k_esp], kde=False,label='Real') \n",
    "sns.distplot(ds_gan[:,k_esp],kde=False, label='GAN') \n",
    "plt.title(\"Especie \"+str(k_esp))\n",
    "plt.legend()\n",
    "\n",
    "a1 = DKL(ds_gan[:,k_esp],ds_training[:,k_esp])\n",
    "a2 = DKL(ds_malo[:,k_esp],ds_training[:,k_esp])\n",
    "print(\"DKL(GAN, Training)= \"+str(a1)+\" para especie: \"+str(k_esp)) \n",
    "\n",
    "fig = plt.gcf()\n",
    "fig.set_size_inches(18.5, 10.5)\n"
   ]
  },
  {
   "cell_type": "markdown",
   "metadata": {},
   "source": [
    "# Training y Dataset Deformado"
   ]
  },
  {
   "cell_type": "code",
   "execution_count": null,
   "metadata": {},
   "outputs": [],
   "source": [
    " \n",
    "sns.distplot(ds_training[:,k_esp],kde=False, label='Real') \n",
    "sns.distplot(ds_malo[:,k_esp],kde=False, label='Dataset Deformado') \n",
    "plt.title(\"Especie \"+str(k_esp))\n",
    "plt.legend()\n",
    "\n",
    "a2 = DKL(ds_malo[:,k_esp],ds_training[:,k_esp])\n",
    "\n",
    "print(\"DKL(Dataset Deformado, Training)=\"+str(a2)+\" para especie: \"+str(k_esp))\n",
    "\n",
    "\n",
    "fig = plt.gcf()\n",
    "fig.set_size_inches(18.5, 10.5)\n"
   ]
  },
  {
   "cell_type": "markdown",
   "metadata": {},
   "source": [
    "# GAN, Training y Dataset Deformado"
   ]
  },
  {
   "cell_type": "code",
   "execution_count": null,
   "metadata": {},
   "outputs": [],
   "source": [
    "\n",
    "sns.distplot(ds_training[:,k_esp],kde=False,  label='Real') \n",
    "sns.distplot(ds_gan[:,k_esp],kde=False,label='GAN') \n",
    "sns.distplot(ds_malo[:,k_esp],kde=False,  label='Dataset Deformado') \n",
    "plt.title(\"Especie \"+str(k_esp))\n",
    "plt.legend()\n",
    "\n",
    "a1 = DKL(ds_gan[:,k_esp],ds_training[:,k_esp])\n",
    "a2 = DKL(ds_malo[:,k_esp],ds_training[:,k_esp])\n",
    "print(\"DKL(GAN, Training)=\"+str(a1)+\" para especie: \"+str(k_esp))\n",
    "print(\"DKL(Dataset Deformado, Training)=\"+str(a2)+\" para especie: \"+str(k_esp))\n",
    "print(\"DKL(GAN, Training) < JSD(Dataset Deformado, Training) :\"+str(a1 <a2))\n",
    "\n",
    "fig = plt.gcf()\n",
    "fig.set_size_inches(18.5, 10.5)\n"
   ]
  },
  {
   "cell_type": "code",
   "execution_count": null,
   "metadata": {},
   "outputs": [],
   "source": [
    "bool_arr1 = DKL(ds_gan, ds_training) < DKL(ds_malo, ds_training)\n",
    "bool_arr2 = JSD(ds_gan, ds_training) < JSD(ds_malo, ds_training)\n",
    "\n",
    "print(bool_arr1.sum())\n",
    "print(bool_arr2.sum())\n"
   ]
  },
  {
   "cell_type": "markdown",
   "metadata": {},
   "source": [
    "# Buscar en que indices DKL  para un especie es infinito"
   ]
  },
  {
   "cell_type": "code",
   "execution_count": null,
   "metadata": {},
   "outputs": [],
   "source": [
    "temp = DKL(ds_gan, ds_training) #  > 1e8\n",
    "n_inf = np.sum(temp == np.inf)\n",
    "print(\"Hay \"+str(n_inf)+\" infinitos en el vector DKL de las especies\") # Vemos \n",
    "record = []\n",
    "\n",
    "for k in range(len(temp)):\n",
    "    if temp[k] >1e8:\n",
    "        record.append(k)\n",
    "print(\"Indices \"+str(record))\n",
    "\n",
    "#el problema es probablemente un cero\n",
    "for k in range(len(record)):\n",
    "    print(\"\\n\")\n",
    "    print(\"Valor miminimo (GAN )para la especie \"+str(record[k])+\" =>\"+str(ds_gan[:,k].min()))\n",
    "    print(\"Valor miminimo (Training) para la especie \"+str(record[k])+\"=> \"+str(ds_training[:,k].min()))"
   ]
  },
  {
   "cell_type": "markdown",
   "metadata": {},
   "source": [
    "## Probamos JSD en esos indices problematicos"
   ]
  },
  {
   "cell_type": "code",
   "execution_count": null,
   "metadata": {},
   "outputs": [],
   "source": [
    "for k in range(len(record)):\n",
    "\n",
    "    print(JSD(ds_gan[:,record[k]], ds_training[:,record[k]]))"
   ]
  },
  {
   "cell_type": "markdown",
   "metadata": {},
   "source": [
    "Por lo que utilizaremos JSD en lugar de DKL, ya que no tiene problemas para valores cercanos a cero"
   ]
  },
  {
   "cell_type": "code",
   "execution_count": null,
   "metadata": {},
   "outputs": [],
   "source": []
  }
 ],
 "metadata": {
  "kernelspec": {
   "display_name": "Python 3",
   "language": "python",
   "name": "python3"
  },
  "language_info": {
   "codemirror_mode": {
    "name": "ipython",
    "version": 3
   },
   "file_extension": ".py",
   "mimetype": "text/x-python",
   "name": "python",
   "nbconvert_exporter": "python",
   "pygments_lexer": "ipython3",
   "version": "3.6.6"
  }
 },
 "nbformat": 4,
 "nbformat_minor": 2
}
