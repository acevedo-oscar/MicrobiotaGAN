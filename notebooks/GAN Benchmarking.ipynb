{
 "cells": [
  {
   "cell_type": "code",
   "execution_count": 1,
   "metadata": {},
   "outputs": [],
   "source": [
    "import numpy as np\n",
    "import matplotlib.pyplot as plt\n",
    "%matplotlib inline\n",
    "import pandas as pd\n",
    "import copy \n",
    "\n",
    "import seaborn as sns\n",
    "sns.set(color_codes=True)"
   ]
  },
  {
   "cell_type": "code",
   "execution_count": 2,
   "metadata": {},
   "outputs": [],
   "source": [
    "from sklearn.model_selection import train_test_split\n",
    "\n",
    "def split_dataset(data, n:float, seed=0):\n",
    "    dummy_labels = np.ones(data.shape[0])\n",
    "    X_train, X_test, y_train, y_test = train_test_split(data, dummy_labels, test_size=n, random_state=seed)\n",
    "    return [X_train, X_test]\n"
   ]
  },
  {
   "cell_type": "code",
   "execution_count": 3,
   "metadata": {},
   "outputs": [],
   "source": [
    "my_data = pd.read_csv('../data/DS_1.csv', header=None) .values"
   ]
  },
  {
   "cell_type": "code",
   "execution_count": 4,
   "metadata": {},
   "outputs": [],
   "source": [
    "gan_data = pd.read_csv('../data/gan_dirichlet_1.csv', header=None) .values"
   ]
  },
  {
   "cell_type": "code",
   "execution_count": 5,
   "metadata": {},
   "outputs": [],
   "source": [
    "train_set, test_set = split_dataset(my_data, n=0.2)"
   ]
  },
  {
   "cell_type": "markdown",
   "metadata": {},
   "source": [
    "# Error de Validacion\n",
    "\n",
    "En esta parte hay que definir un error para nuestra GAN.\n",
    "\n",
    "## Clasificacion \n",
    "+ Para problemas de **clasificacion** una medida del error puede ser **clasificaciones correctas/numero total de clasificacones**\n",
    "+ Para problemas de clasificacion multi clase existe una perdida logaritmica definida como: $$\\frac{-1}{N} \\mathop{\\sum_{i=1}^{N}\\sum_{j=1}^{M}} y_{ij}*log(p_{ij})$$\n",
    "\n",
    "Donde:\n",
    "+ $y_{ij}$ indica si la muestra i pertenece a la clase j\n",
    "+ $p_{ij}$  es la probabiliad de que la muestra i pertenezca a la calse j \n",
    "\n",
    "+ **F1 Score** : $$2 \\times \\frac{1}{ \\frac{1}{precision} + \\frac{1}{recall}}$$. Precision y recall se definen en terminos de TruePositives, FalsePositives y FalseNegatives\n",
    "\n",
    "## Regresion\n",
    "\n",
    "+ Mean Absolute Error\n",
    "+ Mean Squared Error\n",
    "\n",
    "## Medidas para las GANS\n",
    "\n",
    "En el caso de las GANs, la funcion objetivo o de perdida mide que tan bien el generador engaña al discriminador. Entonces, esta no nos dice mucho acerca de que tan reaslaticas o diversas son las muestras generadas por la GAN.\n",
    "\n",
    "Para el caso de **GAN de imagenes**, hay dos medidas del rendimiento de una gan, el Inception Score y el Frechet Inception Distance. (https://medium.com/@jonathan_hui/gan-how-to-measure-gan-performance-64b988c47732)\n",
    "\n",
    "**Una buena GAN es una que genera muestras diversas y realistas**. En el caso de las imagenes, no es trivial hacer que una computadora te diga que tan realistas es una imagen."
   ]
  },
  {
   "cell_type": "markdown",
   "metadata": {},
   "source": [
    "# Adapted Inception Score"
   ]
  },
  {
   "cell_type": "code",
   "execution_count": 6,
   "metadata": {},
   "outputs": [],
   "source": [
    "def DKL(pk, qk):\n",
    "    return scipy.stats.entropy(pk,qk)      "
   ]
  },
  {
   "cell_type": "code",
   "execution_count": null,
   "metadata": {},
   "outputs": [],
   "source": []
  }
 ],
 "metadata": {
  "kernelspec": {
   "display_name": "Python 3",
   "language": "python",
   "name": "python3"
  },
  "language_info": {
   "codemirror_mode": {
    "name": "ipython",
    "version": 3
   },
   "file_extension": ".py",
   "mimetype": "text/x-python",
   "name": "python",
   "nbconvert_exporter": "python",
   "pygments_lexer": "ipython3",
   "version": "3.6.6"
  }
 },
 "nbformat": 4,
 "nbformat_minor": 2
}
