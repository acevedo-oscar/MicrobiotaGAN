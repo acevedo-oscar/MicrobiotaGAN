{
 "cells": [
  {
   "cell_type": "code",
   "execution_count": 1,
   "metadata": {},
   "outputs": [
    {
     "name": "stderr",
     "output_type": "stream",
     "text": [
      "/home/acevedo/anaconda3/lib/python3.6/importlib/_bootstrap.py:219: RuntimeWarning: numpy.ufunc size changed, may indicate binary incompatibility. Expected 216, got 192\n",
      "  return f(*args, **kwds)\n"
     ]
    }
   ],
   "source": [
    "import pandas as pd\n",
    "from plot_utils import  *\n",
    "import numpy as np\n",
    "\n",
    "%matplotlib widget\n",
    "import matplotlib.pyplot as plt\n",
    "\n",
    "import seaborn as sns\n",
    "sns.set()\n",
    "from scipy.spatial.distance import jensenshannon as JSD \n"
   ]
  },
  {
   "cell_type": "code",
   "execution_count": 2,
   "metadata": {},
   "outputs": [
    {
     "data": {
      "text/plain": [
       "(70000, 100)"
      ]
     },
     "execution_count": 2,
     "metadata": {},
     "output_type": "execute_result"
    }
   ],
   "source": [
    "\n",
    " \n",
    "train_set = pd.read_csv('../data/experiment_march_21/train_set.csv', header=None) .values\n",
    "test_set = pd.read_csv('../data/experiment_march_21/test_set.csv', header=None) .values\n",
    "\n",
    "train_set.shape"
   ]
  },
  {
   "cell_type": "code",
   "execution_count": 3,
   "metadata": {},
   "outputs": [],
   "source": [
    "data_path =  '../data/plot4'"
   ]
  },
  {
   "cell_type": "markdown",
   "metadata": {},
   "source": [
    "# Histogramas de Especies\n",
    "\n",
    "## Primero cargamos un dataset de GAN"
   ]
  },
  {
   "cell_type": "code",
   "execution_count": 4,
   "metadata": {},
   "outputs": [],
   "source": [
    "early_gan_set = pd.read_csv('../data/plot4/3363_0_data/gan_samples_3363_0.csv', header=None) .values\n",
    "\n",
    "later_gan_set = pd.read_csv('../data/plot4/64226_3_data/gan_samples_64226_3.csv', header=None) .values\n"
   ]
  },
  {
   "cell_type": "markdown",
   "metadata": {},
   "source": [
    "## Histograma GAN (Early)-Test Set"
   ]
  },
  {
   "cell_type": "code",
   "execution_count": 12,
   "metadata": {},
   "outputs": [
    {
     "name": "stdout",
     "output_type": "stream",
     "text": [
      "Los datasets del histograma tienen 3363 muestras\n",
      "JSD(GAN, Test Set) = 0.20889353774797775\n"
     ]
    },
    {
     "data": {
      "text/plain": [
       "(0, 1000)"
      ]
     },
     "execution_count": 12,
     "metadata": {},
     "output_type": "execute_result"
    },
    {
     "data": {
      "image/png": "[encoded data removed]",
      "text/plain": [
       "<Figure size 1332x756 with 1 Axes>"
      ]
     },
     "metadata": {
      "needs_background": "light"
     },
     "output_type": "display_data"
    }
   ],
   "source": [
    "esp = 5\n",
    "plot_abundance_histogram(early_gan_set[:,esp],test_set[:,esp], esp)\n",
    "\n",
    "m = str(early_gan_set.shape[0])\n",
    "plt.title(\"Histograma GAN (#\"+m+\")- Test Set para la especie #\"+str(esp),fontsize=25)\n",
    "print(\"Los datasets del histograma tienen \"+str(early_gan_set.shape[0])+\" muestras\")\n",
    "print(\"JSD(GAN, Test Set) = \"+str(gan_error(early_gan_set[:,esp],test_set, \"DKL\")))\n",
    "\n",
    "plt.xlim(0,0.04)\n",
    "plt.ylim(0,1000)"
   ]
  },
  {
   "cell_type": "markdown",
   "metadata": {},
   "source": [
    "## Histograma GAN (Later)-Test Set"
   ]
  },
  {
   "cell_type": "code",
   "execution_count": null,
   "metadata": {},
   "outputs": [],
   "source": [
    "esp = 5\n",
    "\n",
    "a,b = balancer(later_gan_set[:,esp],test_set[:,esp] )\n",
    "\n",
    "sns.distplot(a, label='GAN')\n",
    "sns.distplot(b, label ='Test Set')\n",
    "plt.legend()\n",
    "\n",
    "fig = plt.gcf()\n",
    "fig.set_size_inches(18.5, 10.5)\n",
    "\n",
    "m = str(later_gan_set.shape[0])\n",
    "plt.title(\"Histograma GAN (#\"+m+\")- Test Set para la especie #\"+str(esp),fontsize=25)\n",
    "assert a.shape == b.shape\n",
    "print(\"Los datasets del histograma tienen \"+str(a.shape[0])+\" muestras\")\n",
    "print(\"JSD(GAN, Test Set) = \"+str(JSD(a,b)))\n",
    "\n",
    "\n",
    "plt.xlim(0,0.04)\n",
    "plt.ylim(0,50)"
   ]
  },
  {
   "cell_type": "markdown",
   "metadata": {},
   "source": [
    "## Histograma Trainset-Test Set"
   ]
  },
  {
   "cell_type": "code",
   "execution_count": null,
   "metadata": {},
   "outputs": [],
   "source": [
    "esp = 5\n",
    "\n",
    "\n",
    "a,b = balancer(test_set[:,esp],train_set[:,esp] )\n",
    "\n",
    "sns.distplot(a, label='Test Set')\n",
    "sns.distplot(b, label ='Train Set')\n",
    "plt.legend()\n",
    "\n",
    "\n",
    "fig = plt.gcf()\n",
    "fig.set_size_inches(18.5, 10.5)\n",
    "\n",
    "plt.title(\"Histograma Train Set - Test Set para la especie #\"+str(esp),fontsize=25)\n",
    "\n",
    "\n",
    "assert a.shape == b.shape\n",
    "print(\"Los datasets del histograma tienen \"+str(a.shape[0])+\" muestras\")\n",
    "print(\"JSD(Train Set, Test Set) = \"+str(JSD(a,b)))\n",
    "\n",
    "# lims\n",
    "plt.xlim(0,0.04)\n",
    "plt.ylim(0,50)\n"
   ]
  },
  {
   "cell_type": "code",
   "execution_count": null,
   "metadata": {},
   "outputs": [],
   "source": []
  },
  {
   "cell_type": "markdown",
   "metadata": {},
   "source": [
    "# Tablas de JSD por subdataset y Graficas\n",
    "\n",
    "## JSD Score\n",
    "\n",
    "\n",
    "$$S = e^{\\frac{1}{N} \\sum_{n=0}^{N}  x}$$\n",
    "Donde\n",
    "\n",
    "$$\\vec x = {JSD(GAN_k, Testset_k)}$$"
   ]
  },
  {
   "cell_type": "code",
   "execution_count": null,
   "metadata": {},
   "outputs": [],
   "source": [
    "tabla_train  = build_table(data_path, train_set)\n"
   ]
  },
  {
   "cell_type": "code",
   "execution_count": null,
   "metadata": {},
   "outputs": [],
   "source": [
    "tabla_test = build_table2(data_path, test_set)\n"
   ]
  },
  {
   "cell_type": "code",
   "execution_count": null,
   "metadata": {},
   "outputs": [],
   "source": [
    "print(train_set.shape)\n",
    "tabla_train"
   ]
  },
  {
   "cell_type": "code",
   "execution_count": null,
   "metadata": {},
   "outputs": [],
   "source": [
    "print(test_set.shape)\n",
    "tabla_test"
   ]
  },
  {
   "cell_type": "code",
   "execution_count": null,
   "metadata": {},
   "outputs": [],
   "source": [
    "plot_gan_curve(tabla_test, debug_flag= True)\n",
    "plt.ylabel(\"JSD(GAN,Test)\",fontsize=40)\n",
    "plt.xlabel(\"#Samples used to train\",fontsize=40)\n",
    "plt.title(\"JSD(GAN,Test) - Samples\",fontsize=40)\n",
    "\n",
    "fig = plt.gcf()\n",
    "fig.set_size_inches(18.5, 10.5)\n"
   ]
  },
  {
   "cell_type": "code",
   "execution_count": null,
   "metadata": {},
   "outputs": [],
   "source": [
    "plot_gan_curve(tabla_train, debug_flag=True)\n",
    "plt.ylabel(\"JSD(GAN,Training)\",fontsize=40)\n",
    "plt.xlabel(\"#Samples used to train\",fontsize=40)\n",
    "plt.title(\"JSD(GAN,Training) - Samples\",fontsize=40)\n",
    "\n",
    "fig = plt.gcf()\n",
    "fig.set_size_inches(18.5, 10.5)\n"
   ]
  },
  {
   "cell_type": "code",
   "execution_count": null,
   "metadata": {},
   "outputs": [],
   "source": []
  },
  {
   "cell_type": "code",
   "execution_count": null,
   "metadata": {},
   "outputs": [],
   "source": []
  },
  {
   "cell_type": "code",
   "execution_count": null,
   "metadata": {},
   "outputs": [],
   "source": []
  },
  {
   "cell_type": "code",
   "execution_count": null,
   "metadata": {},
   "outputs": [],
   "source": []
  }
 ],
 "metadata": {
  "kernelspec": {
   "display_name": "Python 3",
   "language": "python",
   "name": "python3"
  },
  "language_info": {
   "codemirror_mode": {
    "name": "ipython",
    "version": 3
   },
   "file_extension": ".py",
   "mimetype": "text/x-python",
   "name": "python",
   "nbconvert_exporter": "python",
   "pygments_lexer": "ipython3",
   "version": "3.6.6"
  }
 },
 "nbformat": 4,
 "nbformat_minor": 2
}
