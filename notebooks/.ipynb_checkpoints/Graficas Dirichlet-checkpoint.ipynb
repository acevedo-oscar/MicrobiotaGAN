{
 "cells": [
  {
   "cell_type": "code",
   "execution_count": 1,
   "metadata": {},
   "outputs": [],
   "source": [
    "import pandas as pd\n",
    "from plot_utils import  *\n",
    "import numpy as np\n",
    "\n",
    "%matplotlib inline\n",
    "import matplotlib.pyplot as plt"
   ]
  },
  {
   "cell_type": "code",
   "execution_count": 2,
   "metadata": {},
   "outputs": [],
   "source": [
    "k2_gan = pd.read_csv('gans_jsd_record/k2_2000_epochs.csv')\n",
    "k3_gan = pd.read_csv('gans_jsd_record/k3_2000_epochs.csv')\n",
    "k4_gan = pd.read_csv('gans_jsd_record/k4_2000_epochs.csv')"
   ]
  },
  {
   "cell_type": "code",
   "execution_count": 3,
   "metadata": {},
   "outputs": [],
   "source": [
    "k3_gan_3k = pd.read_csv('gans_jsd_record/k3_3000_epochs.csv')\n"
   ]
  },
  {
   "cell_type": "code",
   "execution_count": null,
   "metadata": {},
   "outputs": [],
   "source": [
    "plot_gan_curve(k3_gan_3k, \"K3 3000 epochs\")\n",
    "plot_gan_curve(k3_gan, \"K3 2000 epochs\")"
   ]
  },
  {
   "cell_type": "code",
   "execution_count": null,
   "metadata": {},
   "outputs": [],
   "source": [
    "#plot_gan_curve(orignial_gan, \"K1\")\n",
    "\n",
    "plot_gan_curve(k2_gan, \"K2\")\n",
    "plot_gan_curve(k3_gan, \"K3\")\n",
    "plot_gan_curve(k4_gan, \"K4\")\n",
    "\n",
    "#plot_gan_curve(pre_k2_gan, \"under K2\")\n",
    "#plot_gan_curve(pre_k3_gan, \"under K3\")\n",
    "\n",
    "plt.ylabel(\"JSD(GAN,Test)\",fontsize=40)\n",
    "plt.xlabel(\"#Samples used to train\",fontsize=40)\n",
    "plt.title(\"GAN JSD - Samples\",fontsize=40)\n",
    "\n",
    "fig = plt.gcf()\n",
    "fig.set_size_inches(18.5, 10.5)\n",
    "\n",
    "#plt.xlim(4000,10000)\n",
    "# plt.xlim(15200,15400)\n",
    "\n",
    "#plt.savefig(\"nuevas combined dirichlets.png\", dpi=300)\n"
   ]
  },
  {
   "cell_type": "code",
   "execution_count": null,
   "metadata": {},
   "outputs": [],
   "source": []
  }
 ],
 "metadata": {
  "kernelspec": {
   "display_name": "Python 3",
   "language": "python",
   "name": "python3"
  },
  "language_info": {
   "codemirror_mode": {
    "name": "ipython",
    "version": 3
   },
   "file_extension": ".py",
   "mimetype": "text/x-python",
   "name": "python",
   "nbconvert_exporter": "python",
   "pygments_lexer": "ipython3",
   "version": "3.7.3"
  }
 },
 "nbformat": 4,
 "nbformat_minor": 2
}
