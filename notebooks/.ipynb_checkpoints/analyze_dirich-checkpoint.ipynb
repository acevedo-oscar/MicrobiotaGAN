{
 "cells": [
  {
   "cell_type": "code",
   "execution_count": 1,
   "metadata": {},
   "outputs": [],
   "source": [
    "import numpy as np\n",
    "import matplotlib.pyplot as plt\n",
    "%matplotlib inline\n",
    "import pandas as pd\n",
    "import copy \n",
    "\n",
    "import seaborn as sns\n",
    "sns.set(color_codes=True)"
   ]
  },
  {
   "cell_type": "code",
   "execution_count": 2,
   "metadata": {},
   "outputs": [],
   "source": [
    "def species_mean(vec, n=3):\n",
    "    return np.round(np.mean(vec,axis=0),n)"
   ]
  },
  {
   "cell_type": "code",
   "execution_count": 3,
   "metadata": {},
   "outputs": [],
   "source": [
    "def euclidean_distance(a,b, n=3):\n",
    "    return np.round(np.linalg.norm(a-b),n)"
   ]
  },
  {
   "cell_type": "code",
   "execution_count": 4,
   "metadata": {},
   "outputs": [],
   "source": [
    "def species_histogram(gan_point, training_point, n_bins = 20):\n",
    "\n",
    "    sns.distplot(training_point,bins=n_bins, kde=False, label=\"Training\")\n",
    "    sns.distplot(gan_point,bins=n_bins, kde=False, label=\"GAN\")\n",
    "\n",
    "    plt.legend()\n",
    "    plt.title(\"Hisotograma para el de un punto\")\n",
    "\n",
    "    fig = plt.gcf()\n",
    "    fig.set_size_inches(18.5, 10.5)"
   ]
  },
  {
   "cell_type": "code",
   "execution_count": 5,
   "metadata": {},
   "outputs": [],
   "source": [
    "set_n = 7"
   ]
  },
  {
   "cell_type": "code",
   "execution_count": 6,
   "metadata": {},
   "outputs": [],
   "source": [
    "ic = pd.read_csv('ic_dirichlet.csv', header=None) .values"
   ]
  },
  {
   "cell_type": "code",
   "execution_count": 7,
   "metadata": {},
   "outputs": [
    {
     "name": "stdout",
     "output_type": "stream",
     "text": [
      "(10, 100)\n"
     ]
    }
   ],
   "source": [
    "n = ic.shape[0]\n",
    "print(ic.shape)\n",
    "#tags = [str(round(np.linalg.norm(ic[k,:], ord=1))) for k in range(n)]"
   ]
  },
  {
   "cell_type": "code",
   "execution_count": 8,
   "metadata": {},
   "outputs": [],
   "source": [
    "\n",
    "filepath_gan= '../data/gan_dirichlet_'+str(set_n)+'.csv'\n",
    "# filepath_train= '../data/DS_'+str(set_n)+'.csv'\n",
    "\n",
    "  \n",
    "debug_ds = pd.read_csv('../data/test1.csv', header=None) .values"
   ]
  },
  {
   "cell_type": "code",
   "execution_count": 9,
   "metadata": {},
   "outputs": [],
   "source": [
    "gan_data = pd.read_csv(filepath_gan, header=None) .values"
   ]
  },
  {
   "cell_type": "code",
   "execution_count": 10,
   "metadata": {},
   "outputs": [],
   "source": [
    "\n",
    "train_ds = pd.read_csv('../data/DS_'+str(set_n)+'.csv', header=None) .values"
   ]
  },
  {
   "cell_type": "code",
   "execution_count": 11,
   "metadata": {},
   "outputs": [
    {
     "data": {
      "text/plain": [
       "(60000, 100)"
      ]
     },
     "execution_count": 11,
     "metadata": {},
     "output_type": "execute_result"
    }
   ],
   "source": [
    "train_ds.shape"
   ]
  },
  {
   "cell_type": "code",
   "execution_count": 12,
   "metadata": {},
   "outputs": [
    {
     "data": {
      "text/plain": [
       "(10496, 100)"
      ]
     },
     "execution_count": 12,
     "metadata": {},
     "output_type": "execute_result"
    }
   ],
   "source": [
    "gan_data.shape"
   ]
  },
  {
   "cell_type": "markdown",
   "metadata": {},
   "source": [
    "# Checamos condicion del Simplex"
   ]
  },
  {
   "cell_type": "code",
   "execution_count": 13,
   "metadata": {},
   "outputs": [
    {
     "data": {
      "text/plain": [
       "array([1., 1., 1., ..., 1., 1., 1.])"
      ]
     },
     "execution_count": 13,
     "metadata": {},
     "output_type": "execute_result"
    }
   ],
   "source": [
    "np.sum(train_ds, axis =1)"
   ]
  },
  {
   "cell_type": "code",
   "execution_count": 14,
   "metadata": {},
   "outputs": [
    {
     "data": {
      "text/plain": [
       "array([1.        , 1.00000002, 1.00000002, ..., 1.        , 1.00000004,\n",
       "       0.99999996])"
      ]
     },
     "execution_count": 14,
     "metadata": {},
     "output_type": "execute_result"
    }
   ],
   "source": [
    "np.sum(gan_data, axis=1)"
   ]
  },
  {
   "cell_type": "markdown",
   "metadata": {},
   "source": [
    "# Checamos el vector K con el que se crearon los datos de entrenamiento\n",
    "\n",
    "Tambien, lo normalizamos con norma L1"
   ]
  },
  {
   "cell_type": "code",
   "execution_count": 15,
   "metadata": {},
   "outputs": [
    {
     "name": "stdout",
     "output_type": "stream",
     "text": [
      "50.01269637051839\n",
      "[0.015 0.015 0.007 0.008 0.016 0.01  0.017 0.007 0.006 0.018 0.015 0.007\n",
      " 0.019 0.019 0.    0.007 0.012 0.007 0.016 0.007 0.003 0.016 0.01  0.004\n",
      " 0.014 0.005 0.018 0.006 0.01  0.019 0.015 0.001 0.003 0.017 0.008 0.015\n",
      " 0.006 0.011 0.015 0.007 0.016 0.013 0.002 0.003 0.004 0.006 0.002 0.004\n",
      " 0.007 0.016 0.007 0.013 0.006 0.012 0.011 0.01  0.009 0.012 0.002 0.017\n",
      " 0.019 0.013 0.008 0.006 0.01  0.017 0.004 0.007 0.008 0.015 0.003 0.009\n",
      " 0.007 0.002 0.009 0.013 0.018 0.016 0.012 0.002 0.016 0.003 0.019 0.017\n",
      " 0.003 0.017 0.016 0.001 0.004 0.006 0.004 0.006 0.011 0.013 0.018 0.006\n",
      " 0.006 0.019 0.01  0.006]\n"
     ]
    }
   ],
   "source": [
    "n = set_n -1\n",
    "k_vector = ic[n,:]\n",
    "k_norm = np.linalg.norm(k_vector, ord=1)\n",
    "a1 = np.round(k_vector/ k_norm,3)\n",
    "print(k_norm)\n",
    "print(a1)"
   ]
  },
  {
   "cell_type": "markdown",
   "metadata": {},
   "source": [
    "# Checamos el vector promedio sobre todos los puntos\n",
    "\n",
    "Tanto para datos de entrenamiento como GAN"
   ]
  },
  {
   "cell_type": "code",
   "execution_count": 16,
   "metadata": {},
   "outputs": [
    {
     "name": "stdout",
     "output_type": "stream",
     "text": [
      "[0.015 0.015 0.007 0.008 0.016 0.01  0.018 0.007 0.006 0.018 0.015 0.007\n",
      " 0.019 0.019 0.    0.007 0.012 0.008 0.016 0.007 0.003 0.017 0.01  0.004\n",
      " 0.014 0.005 0.018 0.006 0.01  0.019 0.015 0.001 0.003 0.017 0.008 0.015\n",
      " 0.005 0.011 0.015 0.007 0.016 0.013 0.002 0.003 0.004 0.006 0.002 0.004\n",
      " 0.007 0.016 0.007 0.013 0.006 0.012 0.011 0.01  0.009 0.012 0.002 0.017\n",
      " 0.019 0.013 0.008 0.006 0.01  0.017 0.004 0.007 0.008 0.015 0.003 0.009\n",
      " 0.007 0.002 0.009 0.013 0.017 0.016 0.012 0.002 0.016 0.003 0.019 0.017\n",
      " 0.003 0.017 0.016 0.001 0.004 0.006 0.004 0.006 0.011 0.013 0.018 0.006\n",
      " 0.006 0.019 0.01  0.006]\n"
     ]
    }
   ],
   "source": [
    "train_alpha = species_mean(train_ds)\n",
    "print(train_alpha)"
   ]
  },
  {
   "cell_type": "code",
   "execution_count": 17,
   "metadata": {},
   "outputs": [
    {
     "name": "stdout",
     "output_type": "stream",
     "text": [
      "[0.014 0.014 0.006 0.01  0.02  0.011 0.014 0.008 0.007 0.018 0.012 0.008\n",
      " 0.019 0.019 0.    0.01  0.013 0.009 0.014 0.006 0.003 0.014 0.007 0.004\n",
      " 0.015 0.006 0.017 0.005 0.01  0.017 0.019 0.002 0.002 0.012 0.01  0.02\n",
      " 0.006 0.009 0.012 0.005 0.023 0.015 0.002 0.002 0.003 0.006 0.002 0.005\n",
      " 0.008 0.013 0.008 0.017 0.004 0.014 0.011 0.01  0.006 0.009 0.002 0.015\n",
      " 0.027 0.014 0.005 0.005 0.008 0.019 0.004 0.006 0.009 0.017 0.002 0.01\n",
      " 0.007 0.003 0.009 0.018 0.018 0.015 0.015 0.002 0.013 0.002 0.018 0.015\n",
      " 0.004 0.02  0.011 0.    0.004 0.005 0.004 0.005 0.011 0.011 0.016 0.006\n",
      " 0.004 0.017 0.012 0.007]\n"
     ]
    }
   ],
   "source": [
    "gan_alpha = species_mean(gan_data)\n",
    "print(gan_alpha)"
   ]
  },
  {
   "cell_type": "code",
   "execution_count": 18,
   "metadata": {},
   "outputs": [
    {
     "data": {
      "text/plain": [
       "0.022"
      ]
     },
     "execution_count": 18,
     "metadata": {},
     "output_type": "execute_result"
    }
   ],
   "source": [
    "euclidean_distance(train_alpha, gan_alpha)"
   ]
  },
  {
   "cell_type": "code",
   "execution_count": 19,
   "metadata": {},
   "outputs": [
    {
     "data": {
      "text/plain": [
       "0.002"
      ]
     },
     "execution_count": 19,
     "metadata": {},
     "output_type": "execute_result"
    }
   ],
   "source": [
    "euclidean_distance(a1,train_alpha)"
   ]
  },
  {
   "cell_type": "code",
   "execution_count": 20,
   "metadata": {},
   "outputs": [
    {
     "data": {
      "text/plain": [
       "0.022"
      ]
     },
     "execution_count": 20,
     "metadata": {},
     "output_type": "execute_result"
    }
   ],
   "source": [
    "euclidean_distance(a1, gan_alpha)"
   ]
  },
  {
   "cell_type": "markdown",
   "metadata": {},
   "source": [
    "# Comparacion con del vector media de entrenamiento contra ruido"
   ]
  },
  {
   "cell_type": "code",
   "execution_count": 21,
   "metadata": {},
   "outputs": [],
   "source": [
    "dim = 100\n",
    "mean_vec = np.zeros(dim)\n",
    "std = 0.25\n",
    "cov_matrix = np.multiply(std**2, np.identity(dim))"
   ]
  },
  {
   "cell_type": "code",
   "execution_count": 22,
   "metadata": {},
   "outputs": [
    {
     "name": "stdout",
     "output_type": "stream",
     "text": [
      "(100,)\n",
      "\n",
      "Mean: 0.023160236247240798\n",
      "STD: 0.25792331586892153\n"
     ]
    }
   ],
   "source": [
    "noise = np.random.multivariate_normal(mean_vec, cov_matrix) #np.random.normal(0,1,100) \n",
    "print(noise.shape)\n",
    "print(\"\\nMean: \"+str(np.mean(noise)))\n",
    "print(\"STD: \"+str(np.std(noise)))"
   ]
  },
  {
   "cell_type": "code",
   "execution_count": 23,
   "metadata": {},
   "outputs": [
    {
     "data": {
      "text/plain": [
       "2.565"
      ]
     },
     "execution_count": 23,
     "metadata": {},
     "output_type": "execute_result"
    }
   ],
   "source": [
    "euclidean_distance(train_alpha,noise)"
   ]
  },
  {
   "cell_type": "markdown",
   "metadata": {},
   "source": [
    "# Histogramas\n",
    "\n",
    "## Tomando un renglon o una observacion"
   ]
  },
  {
   "cell_type": "code",
   "execution_count": 27,
   "metadata": {},
   "outputs": [
    {
     "name": "stdout",
     "output_type": "stream",
     "text": [
      "Sample number: 68\n"
     ]
    },
    {
     "data": {
      "image/png": "[encoded data removed]",
      "text/plain": [
       "<Figure size 1332x756 with 1 Axes>"
      ]
     },
     "metadata": {},
     "output_type": "display_data"
    }
   ],
   "source": [
    "k = np.random.randint(gan_data.shape[0])\n",
    "print(\"Sample number: \"+str(k))\n",
    "\n",
    "gan_point = gan_data[k,:]\n",
    "training_point = train_ds[k,:]\n",
    "\n",
    "species_histogram(gan_point, training_point)\n",
    "plt.savefig(\"histo_k_\", dpi=300)"
   ]
  },
  {
   "cell_type": "code",
   "execution_count": null,
   "metadata": {},
   "outputs": [],
   "source": []
  },
  {
   "cell_type": "code",
   "execution_count": null,
   "metadata": {},
   "outputs": [],
   "source": [
    "k2 = np.random.randint(100)\n",
    "print(\"Species Number: \"+str(k))\n",
    "\n",
    "gan_point2 = gan_data[:,]\n",
    "training_point2 = train_ds[k,:]\n",
    "\n",
    "species_histogram(gan_point2, training_point2)\n",
    "plt.savefig(\"histo_k_\", dpi=300)"
   ]
  }
 ],
 "metadata": {
  "kernelspec": {
   "display_name": "Python 3",
   "language": "python",
   "name": "python3"
  },
  "language_info": {
   "codemirror_mode": {
    "name": "ipython",
    "version": 3
   },
   "file_extension": ".py",
   "mimetype": "text/x-python",
   "name": "python",
   "nbconvert_exporter": "python",
   "pygments_lexer": "ipython3",
   "version": "3.6.6"
  }
 },
 "nbformat": 4,
 "nbformat_minor": 2
}
