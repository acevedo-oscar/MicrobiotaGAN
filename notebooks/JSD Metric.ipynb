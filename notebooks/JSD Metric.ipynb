{
 "cells": [
  {
   "cell_type": "code",
   "execution_count": 1,
   "metadata": {},
   "outputs": [
    {
     "name": "stderr",
     "output_type": "stream",
     "text": [
      "/home/acevedo/anaconda3/lib/python3.6/importlib/_bootstrap.py:219: RuntimeWarning: numpy.ufunc size changed, may indicate binary incompatibility. Expected 216, got 192\n",
      "  return f(*args, **kwds)\n"
     ]
    }
   ],
   "source": [
    "import numpy as np\n",
    "import matplotlib.pyplot as plt\n",
    "%matplotlib inline\n",
    "import pandas as pd\n",
    "import copy \n",
    "\n",
    "import seaborn as sns\n",
    "sns.set(color_codes=True)\n",
    "\n",
    "from copy import copy\n",
    "from scipy.spatial.distance import jensenshannon as JSD \n",
    "\n",
    "from scipy.stats import entropy as DKL"
   ]
  },
  {
   "cell_type": "code",
   "execution_count": 2,
   "metadata": {},
   "outputs": [],
   "source": [
    "from sklearn.model_selection import train_test_split\n",
    "\n",
    "def split_dataset(data, n:float, seed=0):\n",
    "    dummy_labels = np.ones(data.shape[0])\n",
    "    X_train, X_test, y_train, y_test = train_test_split(data, dummy_labels, test_size=n, random_state=seed)\n",
    "    return [X_train, X_test]\n"
   ]
  },
  {
   "cell_type": "code",
   "execution_count": 3,
   "metadata": {},
   "outputs": [],
   "source": [
    "def my_score(data):\n",
    "    r = np.exp(data)\n",
    "    return np.mean(r)"
   ]
  },
  {
   "cell_type": "code",
   "execution_count": 4,
   "metadata": {},
   "outputs": [],
   "source": [
    "def DKL_plus(pk_, qk_, epsilon = 0.01):\n",
    "    \n",
    "    \"\"\"   \n",
    "    n = pk.shape[0]    \n",
    "    normed_pk = normalize(pk.reshape(1,n),  norm='l1')\n",
    "    normed_qk = normalize(qk.reshape(1,n), norm='l1')\n",
    "    print(normed_pk)  \n",
    "    \"\"\"\n",
    "    pk = copy(pk_)\n",
    "    qk = copy(qk_)\n",
    "    \n",
    "    #print(pk.shape)\n",
    "    a = np.sum(pk ==0)\n",
    "    b = np.sum(qk ==0)\n",
    "    # assert a ==0 and b ==0\n",
    "    \n",
    "    #if  a !=0 or b !=0:\n",
    "        #print(\"Padding Zeroes\")\n",
    "\n",
    "    # Beware  zeros\n",
    "    pk[pk==0] = epsilon\n",
    "    qk[qk==0] = epsilon\n",
    "\n",
    "    \n",
    "    return DKL(pk,qk) "
   ]
  },
  {
   "cell_type": "code",
   "execution_count": 5,
   "metadata": {},
   "outputs": [],
   "source": [
    "my_data = pd.read_csv('../data/DS_1.csv', header=None) .values\n",
    "gan_data = pd.read_csv('../data/gan_dirichlet_1.csv', header=None) .values"
   ]
  },
  {
   "cell_type": "code",
   "execution_count": 6,
   "metadata": {},
   "outputs": [],
   "source": [
    "n = 10000\n",
    "ds_gan = copy(gan_data[0:n,:])\n",
    "ds_training = copy(my_data [0:n,:])\n",
    "\n",
    "ds_malo = copy(ds_training) \n",
    "np.random.shuffle(ds_malo)\n",
    "\n",
    "ds_malo +=  np.random.random_sample()\n"
   ]
  },
  {
   "cell_type": "code",
   "execution_count": 7,
   "metadata": {},
   "outputs": [
    {
     "name": "stdout",
     "output_type": "stream",
     "text": [
      "0\n",
      "3775\n"
     ]
    }
   ],
   "source": [
    "print(np.sum(ds_gan ==0))\n",
    "print(np.sum(ds_training ==0))"
   ]
  },
  {
   "cell_type": "code",
   "execution_count": null,
   "metadata": {},
   "outputs": [],
   "source": [
    "def unload_list(data):\n",
    "    r = np.array(data)\n",
    "    return r[r < 1e08]"
   ]
  },
  {
   "cell_type": "markdown",
   "metadata": {},
   "source": [
    "# JSD de datos GAN y Training"
   ]
  },
  {
   "cell_type": "code",
   "execution_count": null,
   "metadata": {},
   "outputs": [],
   "source": [
    "ds_gan[ds_gan ==0] = 0.0001\n",
    "ds_training[ds_training==0]= 0.001\n",
    "\n",
    "entropy2 = [DKL_plus(ds_gan[k,:], ds_training[k,:]) for k in range(5)]\n",
    "distancias_buenas = np.array(entropy2)"
   ]
  },
  {
   "cell_type": "code",
   "execution_count": null,
   "metadata": {},
   "outputs": [],
   "source": [
    "distancias_buenas[distancias_buenas < 1e08]"
   ]
  },
  {
   "cell_type": "code",
   "execution_count": null,
   "metadata": {},
   "outputs": [],
   "source": [
    "sns.distplot(distancias_buenas) "
   ]
  },
  {
   "cell_type": "markdown",
   "metadata": {},
   "source": [
    "# Vovlemos a calcular el histograma de los JSD para el dataset permutrado con ruido"
   ]
  },
  {
   "cell_type": "code",
   "execution_count": null,
   "metadata": {},
   "outputs": [],
   "source": [
    "\n",
    "c = copy(ds_gan)\n",
    "np.random.shuffle(c) # this functions is inplace\n",
    "\n",
    "d = copy(ds_training)  + np.random.random_sample()\n",
    "np.random.shuffle(d)\n"
   ]
  },
  {
   "cell_type": "code",
   "execution_count": null,
   "metadata": {},
   "outputs": [],
   "source": [
    "entropy3 = [DKL_plus(c[k,:], d[k,:]) for k in range(n)]\n",
    "distancias_malas = np.array(entropy3)\n",
    "print(distancias_malas.mean())\n",
    "print(distancias_buenas.mean())\n",
    "# Histograms\n",
    "\n",
    "sns.distplot(unload_list(distancias_buenas))\n",
    "\n",
    "sns.distplot(unload_list(distancias_malas))\n"
   ]
  },
  {
   "cell_type": "markdown",
   "metadata": {},
   "source": [
    "# Otra vez"
   ]
  },
  {
   "cell_type": "code",
   "execution_count": null,
   "metadata": {},
   "outputs": [],
   "source": [
    "\n",
    "g = copy(ds_gan)\n",
    "np.random.shuffle(g) # this functions is inplace\n",
    "\n",
    "h = copy(ds_training)  \n",
    "np.random.shuffle(h)\n",
    "\n",
    "entropy4 = [DKL_plus(g[k,:], h[k,:]) for k in range(n)]\n",
    "distancias_buenas2 = np.array(entropy4)\n",
    "\n",
    "sns.distplot(unload_list(distancias_buenas))\n",
    "\n",
    "sns.distplot(unload_list(distancias_buenas2))\n"
   ]
  },
  {
   "cell_type": "markdown",
   "metadata": {},
   "source": [
    "# Usamos DKL para ver la diferencia entre estas distribuciones"
   ]
  },
  {
   "cell_type": "code",
   "execution_count": null,
   "metadata": {},
   "outputs": [],
   "source": [
    "DKL(distancias_malas, distancias_buenas)"
   ]
  },
  {
   "cell_type": "code",
   "execution_count": null,
   "metadata": {},
   "outputs": [],
   "source": [
    "print(distancias_buenas.mean())\n",
    "print(distancias_malas.mean())\n"
   ]
  },
  {
   "cell_type": "code",
   "execution_count": null,
   "metadata": {},
   "outputs": [],
   "source": [
    "DKL(distancias_buenas2, distancias_buenas)"
   ]
  },
  {
   "cell_type": "markdown",
   "metadata": {},
   "source": [
    "# Resumiendolo el vector de distancias JS"
   ]
  },
  {
   "cell_type": "code",
   "execution_count": null,
   "metadata": {},
   "outputs": [],
   "source": [
    "my_score(distancias_malas)"
   ]
  },
  {
   "cell_type": "code",
   "execution_count": null,
   "metadata": {},
   "outputs": [],
   "source": [
    "my_score(distancias_malas) > my_score(distancias_buenas)"
   ]
  },
  {
   "cell_type": "code",
   "execution_count": null,
   "metadata": {},
   "outputs": [],
   "source": []
  },
  {
   "cell_type": "code",
   "execution_count": null,
   "metadata": {},
   "outputs": [],
   "source": []
  },
  {
   "cell_type": "code",
   "execution_count": null,
   "metadata": {},
   "outputs": [],
   "source": [
    "k = 98 # 78\n",
    "\n",
    "sns.distplot(ds_training[:,k])\n",
    "\n",
    "sns.distplot(ds_gan[:,k])\n",
    "\n",
    "\n",
    "sns.distplot(ds_malo[:,k])\n",
    "\n",
    "# Esto no hace sentido porque le esto es darle el vector de especies k de todos el dataset. JSD \n",
    "# es para para distancias entre vectores de probailidad\n",
    "print(distance.jensenshannon(ds_gan[:,k],ds_training[:,k]))\n",
    "\n",
    "print(distance.jensenshannon(ds_training[:,k],ds_training[:,k]))\n",
    "\n",
    "print(distance.jensenshannon(ds_malo[:,k],ds_training[:,k]))\n"
   ]
  },
  {
   "cell_type": "code",
   "execution_count": null,
   "metadata": {},
   "outputs": [],
   "source": [
    "DKL(ds_gan[:,k],ds_training[:,k])"
   ]
  },
  {
   "cell_type": "markdown",
   "metadata": {},
   "source": [
    "# Last"
   ]
  },
  {
   "cell_type": "code",
   "execution_count": null,
   "metadata": {},
   "outputs": [],
   "source": [
    "a1= JSD(ds_training, ds_gan)\n",
    "\n",
    "a1[a1 < 1e08].mean()"
   ]
  },
  {
   "cell_type": "code",
   "execution_count": null,
   "metadata": {},
   "outputs": [],
   "source": [
    "a2 =JSD(ds_training, ds_gan + np.random.random_sample())\n",
    "\n",
    "a2[a2 < 1e08].mean()"
   ]
  },
  {
   "cell_type": "code",
   "execution_count": null,
   "metadata": {},
   "outputs": [],
   "source": [
    "ds_roto = np.random.rand(10000,100)\n",
    "\n",
    "\"\"\"\n",
    "\n",
    "\n",
    "for k in range(10000):\n",
    "    ds_roto[k,:] = ds_gan[k,:] + np.random.random_sample()\n",
    "\"\"\""
   ]
  },
  {
   "cell_type": "code",
   "execution_count": null,
   "metadata": {},
   "outputs": [],
   "source": [
    "bueno = JSD(ds_training, ds_gan)"
   ]
  },
  {
   "cell_type": "code",
   "execution_count": null,
   "metadata": {},
   "outputs": [],
   "source": [
    "malo = JSD(ds_training,ds_roto )"
   ]
  },
  {
   "cell_type": "code",
   "execution_count": null,
   "metadata": {},
   "outputs": [],
   "source": [
    "ds_roto.mean()"
   ]
  },
  {
   "cell_type": "code",
   "execution_count": null,
   "metadata": {},
   "outputs": [],
   "source": [
    "ds_gan.std()"
   ]
  },
  {
   "cell_type": "code",
   "execution_count": null,
   "metadata": {},
   "outputs": [],
   "source": [
    "ds_training.std()"
   ]
  },
  {
   "cell_type": "code",
   "execution_count": null,
   "metadata": {},
   "outputs": [],
   "source": [
    "bueno < malo"
   ]
  },
  {
   "cell_type": "markdown",
   "metadata": {},
   "source": [
    "# Second round"
   ]
  },
  {
   "cell_type": "code",
   "execution_count": 8,
   "metadata": {},
   "outputs": [
    {
     "name": "stdout",
     "output_type": "stream",
     "text": [
      "1.0\n",
      "1.000000000316062\n",
      "7.178391404395601\n"
     ]
    }
   ],
   "source": [
    "print(ds_training.mean(axis=0).sum())\n",
    "print(ds_gan.mean(axis=0).sum())\n",
    "print(ds_malo.mean(axis=0).sum())"
   ]
  },
  {
   "cell_type": "code",
   "execution_count": 9,
   "metadata": {},
   "outputs": [
    {
     "data": {
      "text/plain": [
       "<matplotlib.axes._subplots.AxesSubplot at 0x7fe21b72a5f8>"
      ]
     },
     "execution_count": 9,
     "metadata": {},
     "output_type": "execute_result"
    },
    {
     "data": {
      "image/png": "[encoded data removed]",
      "text/plain": [
       "<Figure size 432x288 with 1 Axes>"
      ]
     },
     "metadata": {},
     "output_type": "display_data"
    }
   ],
   "source": [
    "sns.distplot(ds_training.mean(axis=0))\n",
    "\n",
    "sns.distplot(ds_gan.mean(axis=0))\n",
    "\n",
    "\n",
    "#sns.distplot(ds_malo.mean(axis=0))\n"
   ]
  },
  {
   "cell_type": "code",
   "execution_count": 10,
   "metadata": {},
   "outputs": [
    {
     "data": {
      "text/plain": [
       "0.014635214980626745"
      ]
     },
     "execution_count": 10,
     "metadata": {},
     "output_type": "execute_result"
    }
   ],
   "source": [
    "DKL(ds_gan.mean(axis=0), ds_training.mean(axis=0))"
   ]
  },
  {
   "cell_type": "code",
   "execution_count": 11,
   "metadata": {},
   "outputs": [
    {
     "data": {
      "text/plain": [
       "0.33047330453604273"
      ]
     },
     "execution_count": 11,
     "metadata": {},
     "output_type": "execute_result"
    }
   ],
   "source": [
    "DKL(ds_malo.mean(axis=0), ds_training.mean(axis=0))"
   ]
  },
  {
   "cell_type": "code",
   "execution_count": 12,
   "metadata": {},
   "outputs": [
    {
     "data": {
      "text/plain": [
       "(10000, 100)"
      ]
     },
     "execution_count": 12,
     "metadata": {},
     "output_type": "execute_result"
    }
   ],
   "source": [
    "ds_gan.shape"
   ]
  },
  {
   "cell_type": "code",
   "execution_count": null,
   "metadata": {},
   "outputs": [],
   "source": []
  }
 ],
 "metadata": {
  "kernelspec": {
   "display_name": "Python 3",
   "language": "python",
   "name": "python3"
  },
  "language_info": {
   "codemirror_mode": {
    "name": "ipython",
    "version": 3
   },
   "file_extension": ".py",
   "mimetype": "text/x-python",
   "name": "python",
   "nbconvert_exporter": "python",
   "pygments_lexer": "ipython3",
   "version": "3.6.6"
  }
 },
 "nbformat": 4,
 "nbformat_minor": 2
}
