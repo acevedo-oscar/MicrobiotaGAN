{
 "cells": [
  {
   "cell_type": "code",
   "execution_count": 1,
   "metadata": {},
   "outputs": [
    {
     "name": "stderr",
     "output_type": "stream",
     "text": [
      "/home/acevedo/anaconda3/lib/python3.6/importlib/_bootstrap.py:219: RuntimeWarning: numpy.ufunc size changed, may indicate binary incompatibility. Expected 216, got 192\n",
      "  return f(*args, **kwds)\n"
     ]
    }
   ],
   "source": [
    "import numpy as np\n",
    "import matplotlib.pyplot as plt\n",
    "%matplotlib inline\n",
    "import pandas as pd\n",
    "import copy \n",
    "\n",
    "import seaborn as sns\n",
    "sns.set(color_codes=True)\n",
    "import os\n",
    "\n",
    "from scipy.stats import entropy as DKL\n",
    "\n"
   ]
  },
  {
   "cell_type": "code",
   "execution_count": 2,
   "metadata": {},
   "outputs": [],
   "source": [
    "train_set = pd.read_csv('../data/experiment_march_21/train_set.csv', header=None) .values"
   ]
  },
  {
   "cell_type": "code",
   "execution_count": 3,
   "metadata": {},
   "outputs": [],
   "source": [
    "def gan_error(gan_ds, training_ds):\n",
    "    assert gan_ds.shape == training_ds.shape\n",
    "    a = gan_ds.mean(axis=0)\n",
    "    b = training_ds.mean(axis=0)\n",
    "    return DKL(a,b)"
   ]
  },
  {
   "cell_type": "code",
   "execution_count": 4,
   "metadata": {},
   "outputs": [],
   "source": [
    "def build_table(data_path, train_ds):\n",
    "\n",
    "    old_path = os.getcwd()\n",
    "    os.chdir(data_path)\n",
    "    cwd = os.getcwd()\n",
    "\n",
    "    \n",
    "    directory_list=[x[0].replace(cwd,'').replace('/','') for x in os.walk(cwd,topdown=True)]\n",
    "    directory_list= directory_list[1:]\n",
    "    directory_list = sorted(directory_list)\n",
    "        \n",
    "    dkl_record = []\n",
    "    \n",
    "    id_sample_N = []\n",
    "    id_repetition = []\n",
    "    \n",
    "    # print(len(directory_list))\n",
    "    # For loop goes here\n",
    "    for dir_k in range(len(directory_list)):\n",
    "\n",
    "        numbers_list =(directory_list[dir_k].replace('_data','').replace('_',' ').replace('/',' ')).split(' ')\n",
    "\n",
    "\n",
    "        os.chdir(directory_list[dir_k])\n",
    "        ids = [int(numbers_list[k]) for k in range(len(numbers_list))]\n",
    "\n",
    "        samples_file = 'gan_samples_'+numbers_list[0]+'_'+numbers_list[1] + '.csv'\n",
    "\n",
    "        fake_samples = pd.read_csv(samples_file,header=None) .values\n",
    "        indices =  (pd.read_csv('training_indices.csv', header=None) .values).flatten() \n",
    "        val = gan_error(fake_samples, train_ds[indices])\n",
    "        \n",
    "        dkl_record.append(val)\n",
    "        id_sample_N.append(ids[0])\n",
    "        id_repetition.append(ids[1])\n",
    "        \n",
    "        os.chdir(cwd)\n",
    "        \n",
    "        ## \n",
    "\n",
    "    os.chdir(old_path)\n",
    "    \n",
    "    plot_table = pd.DataFrame(\n",
    "    {'DKL': dkl_record,\n",
    "     'id_sample_N': id_sample_N,\n",
    "     'id_repetition': id_repetition\n",
    "    })\n",
    "    \n",
    "    return plot_table"
   ]
  },
  {
   "cell_type": "code",
   "execution_count": 5,
   "metadata": {},
   "outputs": [],
   "source": [
    "x = build_table('../data/plot2', train_set)\n"
   ]
  },
  {
   "cell_type": "code",
   "execution_count": 6,
   "metadata": {},
   "outputs": [
    {
     "name": "stdout",
     "output_type": "stream",
     "text": [
      "        DKL  id_sample_N  id_repetition\n",
      "0  0.006286          300              0\n",
      "1  0.005324          300              1\n",
      "2  0.004088          400              0\n",
      "3  0.003329          400              1\n",
      "4  0.003300          500              0\n",
      "5  0.002804          500              1\n",
      "6  0.002339          700              0\n",
      "7  0.001945          700              1\n"
     ]
    }
   ],
   "source": [
    "print(x)"
   ]
  },
  {
   "cell_type": "code",
   "execution_count": 7,
   "metadata": {},
   "outputs": [
    {
     "data": {
      "text/plain": [
       "0    300\n",
       "1    300\n",
       "Name: id_sample_N, dtype: int64"
      ]
     },
     "execution_count": 7,
     "metadata": {},
     "output_type": "execute_result"
    }
   ],
   "source": [
    "r = x[x.id_sample_N == 300]\n",
    "r.id_sample_N"
   ]
  },
  {
   "cell_type": "code",
   "execution_count": 8,
   "metadata": {},
   "outputs": [],
   "source": [
    "def errorbar(x, y, low, high, order, color, **kws):\n",
    "    xnum = [order.index(x_i) for x_i in x]\n",
    "    plt.errorbar(xnum, y, (y - low, high - y), color=color)"
   ]
  },
  {
   "cell_type": "code",
   "execution_count": 9,
   "metadata": {},
   "outputs": [],
   "source": [
    "\n",
    "def plot_gan_curve(my_dataframe):\n",
    "    mean_y = []\n",
    "    std_mean = []\n",
    "\n",
    "    samples_n= np.unique(my_dataframe.id_sample_N.values)\n",
    "\n",
    "    # Compute mean of observationsß\n",
    "    for k in range(len(samples_n)):\n",
    "        a = my_dataframe[my_dataframe.id_sample_N == samples_n[k]]\n",
    "        #print(a.DKL.values.mean())\n",
    "        mean_y.append(a.DKL.values.mean())\n",
    "        \n",
    "    mean_y = np.array(mean_y)\n",
    "        \n",
    "    std_mean = [] # Standard error of the mean\n",
    "\n",
    "    # Compute the STD\n",
    "    for k in range(len(samples_n)):\n",
    "        a = my_dataframe[my_dataframe.id_sample_N == samples_n[k]]\n",
    "        a = a.DKL.values\n",
    "        #print(a)\n",
    "        #print(a.std())\n",
    "        std_mean.append(a.std()/np.sqrt(len(a))) #/ \n",
    "\n",
    "    std_mean =  np.array(std_mean)    \n",
    "\n",
    "    sns.lineplot(samples_n, mean_y, marker = 'o')\n",
    "    plt.errorbar(samples_n, mean_y, yerr= std_mean, fmt='o')\n",
    "    plt.show()"
   ]
  },
  {
   "cell_type": "code",
   "execution_count": 10,
   "metadata": {},
   "outputs": [
    {
     "data": {
      "image/png": "[encoded data removed]",
      "text/plain": [
       "<Figure size 432x288 with 1 Axes>"
      ]
     },
     "metadata": {},
     "output_type": "display_data"
    }
   ],
   "source": [
    "plot_gan_curve(x)"
   ]
  },
  {
   "cell_type": "code",
   "execution_count": null,
   "metadata": {},
   "outputs": [],
   "source": []
  },
  {
   "cell_type": "raw",
   "metadata": {},
   "source": [
    "xx = [1, 2, 3, 4]\n",
    "y = [1, 4, 9, 16]\n",
    "mean_y = [ ]#[0.5, 1.]\n",
    "\n",
    "\n",
    "samples_n= np.unique(x.id_sample_N.values)\n",
    "\n",
    "for k in range(len(samples_n)):\n",
    "    a = x[x.id_sample_N == samples_n[k]]\n",
    "    #print(a.DKL.values.mean())\n",
    "    mean_y.append(a.DKL.values.mean())\n",
    "    \n",
    "mean_y = np.array(mean_y)\n",
    "    \n",
    "std_mean = [] # Standard error of the mean\n",
    "\n",
    "# Compute the STD\n",
    "for k in range(len(samples_n)):\n",
    "    a = x[x.id_sample_N == samples_n[k]]\n",
    "    a = a.DKL.values\n",
    "    #print(a)\n",
    "    #print(a.std())\n",
    "    std_mean.append(a.std()/np.sqrt(len(a))) #/ \n",
    "\n",
    "std_mean =  np.array(std_mean)\n",
    "print(std_mean)\n",
    "    \n",
    "\n",
    "xx = x.id_sample_N.values\n",
    "y = x.DKL.values\n",
    "\n",
    "\n",
    "sns.lineplot(n, mean_y, marker = 'o')\n",
    "plt.errorbar(n, mean_y, yerr= std_mean, fmt='o')\n",
    "plt.show()"
   ]
  },
  {
   "cell_type": "code",
   "execution_count": null,
   "metadata": {},
   "outputs": [],
   "source": [
    " x[x.id_sample_N == 700]\n"
   ]
  },
  {
   "cell_type": "code",
   "execution_count": null,
   "metadata": {},
   "outputs": [],
   "source": [
    "print(n)\n",
    "print(xx.shape)\n",
    "\n",
    "print(mean_y.shape)\n",
    "\n",
    "print(y.shape)\n",
    "# assert e.shape == y.shape\n",
    "print(mean_y)\n",
    "print(std_mean)\n",
    "#plt.errorbar(n, mean_y, yerr=std_mean, fmt='o')"
   ]
  },
  {
   "cell_type": "code",
   "execution_count": null,
   "metadata": {},
   "outputs": [],
   "source": []
  }
 ],
 "metadata": {
  "kernelspec": {
   "display_name": "Python 3",
   "language": "python",
   "name": "python3"
  },
  "language_info": {
   "codemirror_mode": {
    "name": "ipython",
    "version": 3
   },
   "file_extension": ".py",
   "mimetype": "text/x-python",
   "name": "python",
   "nbconvert_exporter": "python",
   "pygments_lexer": "ipython3",
   "version": "3.6.6"
  }
 },
 "nbformat": 4,
 "nbformat_minor": 2
}
