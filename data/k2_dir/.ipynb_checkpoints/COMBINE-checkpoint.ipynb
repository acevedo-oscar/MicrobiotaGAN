{
 "cells": [
  {
   "cell_type": "code",
   "execution_count": 2,
   "metadata": {},
   "outputs": [],
   "source": [
    "import numpy as np\n",
    "import pandas as pd"
   ]
  },
  {
   "cell_type": "markdown",
   "metadata": {},
   "source": [
    "# Nota: normalizar (vector unitario) no es lo mismo que cumpla el Simplex"
   ]
  },
  {
   "cell_type": "code",
   "execution_count": 4,
   "metadata": {},
   "outputs": [],
   "source": [
    "train_set = pd.read_csv('train_set.csv', header=None).values\n",
    "test_set = pd.read_csv('test_set.csv', header=None).values\n",
    "\n",
    "high_noise = pd.read_csv('high_noise.csv', header=None).values\n",
    "low_noise = pd.read_csv('low_noise.csv', header=None).values"
   ]
  },
  {
   "cell_type": "code",
   "execution_count": 72,
   "metadata": {},
   "outputs": [],
   "source": [
    "def noisify(ds,noise):\n",
    "    print(\"This function returns the dataset with the simpelx correction\")\n",
    "    n = ds.shape[0]\n",
    "    a1 = ds+noise[0:n,:]\n",
    "    divisors =  a1.sum(axis=1)\n",
    "    a2 = np.array([ (a1[k,:]/divisors[k]) for k in range(n) ])\n",
    "    assert a2.shape == a1.shape\n",
    "    return a2"
   ]
  },
  {
   "cell_type": "code",
   "execution_count": 77,
   "metadata": {},
   "outputs": [
    {
     "name": "stdout",
     "output_type": "stream",
     "text": [
      "This function returns the dataset with the simpelx correction\n",
      "This function returns the dataset with the simpelx correction\n",
      "This function returns the dataset with the simpelx correction\n",
      "This function returns the dataset with the simpelx correction\n"
     ]
    }
   ],
   "source": [
    "noisy_high_train = noisify(train_set, high_noise)\n",
    "noisy_low_train = noisify(train_set, low_noise)\n",
    "\n",
    "noisy_high_test = noisify(test_set, high_noise)\n",
    "noisy_low_test = noisify(test_set, low_noise)"
   ]
  },
  {
   "cell_type": "code",
   "execution_count": null,
   "metadata": {},
   "outputs": [],
   "source": [
    "df = pd.DataFrame(noisy_high_train)\n",
    "with open('noisy_high_train.csv', 'a') as f:\n",
    "    df.to_csv(f, header=False, index=False)\n",
    "    \n",
    "df = pd.DataFrame(noisy_low_train)\n",
    "with open('noisy_low_train.csv', 'a') as f:\n",
    "    df.to_csv(f, header=False, index=False)\n",
    "    \n",
    "df = pd.DataFrame(noisy_high_test)\n",
    "with open('noisy_high_test.csv', 'a') as f:\n",
    "    df.to_csv(f, header=False, index=False)\n",
    "    \n",
    "df = pd.DataFrame(noisy_low_test)\n",
    "with open('noisy_low_test.csv', 'a') as f:\n",
    "    df.to_csv(f, header=False, index=False)    "
   ]
  }
 ],
 "metadata": {
  "kernelspec": {
   "display_name": "Python 3",
   "language": "python",
   "name": "python3"
  },
  "language_info": {
   "codemirror_mode": {
    "name": "ipython",
    "version": 3
   },
   "file_extension": ".py",
   "mimetype": "text/x-python",
   "name": "python",
   "nbconvert_exporter": "python",
   "pygments_lexer": "ipython3",
   "version": "3.6.6"
  }
 },
 "nbformat": 4,
 "nbformat_minor": 2
}
