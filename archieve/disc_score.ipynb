{
 "cells": [
  {
   "cell_type": "code",
   "execution_count": 1,
   "metadata": {},
   "outputs": [],
   "source": [
    "import tensorflow as tf\n",
    "import numpy as np"
   ]
  },
  {
   "cell_type": "code",
   "execution_count": 2,
   "metadata": {},
   "outputs": [
    {
     "name": "stdout",
     "output_type": "stream",
     "text": [
      "/home/acevedo/Desktop/Gaussian_WGAN_GP/MicrobiotaGAN\n"
     ]
    }
   ],
   "source": [
    "!pwd\n",
    "# model_path = \"model/dir1/my_gan.ckpt.meta\""
   ]
  },
  {
   "cell_type": "code",
   "execution_count": 3,
   "metadata": {},
   "outputs": [
    {
     "name": "stdout",
     "output_type": "stream",
     "text": [
      "(100,)\n"
     ]
    }
   ],
   "source": [
    "cov = np.multiply(0.1, np.identity(100))\n",
    "sample = np.random.multivariate_normal(np.zeros(100), cov)\n",
    "print(sample.shape)"
   ]
  },
  {
   "cell_type": "code",
   "execution_count": 4,
   "metadata": {},
   "outputs": [],
   "source": [
    "#saver = tf.train.import_meta_graph(\"model/dir1/my_gan.ckpt.meta\")\n"
   ]
  },
  {
   "cell_type": "code",
   "execution_count": 5,
   "metadata": {},
   "outputs": [],
   "source": [
    "# print(tf.get_default_graph().as_graph_def())"
   ]
  },
  {
   "cell_type": "code",
   "execution_count": 6,
   "metadata": {},
   "outputs": [],
   "source": [
    "#tf.get_collection(tf.GraphKeys.GLOBAL_VARIABLES, scope='disc')"
   ]
  },
  {
   "cell_type": "code",
   "execution_count": 7,
   "metadata": {},
   "outputs": [],
   "source": [
    "#disc_score = tf.get_default_graph().get_tensor_by_name(\"disc/fc-4/bias/Adam_1:0\")\n",
    "#data_input = tf.get_default_graph().get_operation_by_name(\"Placeholder\")\n"
   ]
  },
  {
   "cell_type": "code",
   "execution_count": 8,
   "metadata": {},
   "outputs": [],
   "source": [
    "import sys\n",
    "sys.path.append(\"src/\") \n",
    "\n",
    "#import tensorflow_utils as tf_utils\n",
    "\n",
    "from src import tensorflow_utils as tf_utils\n",
    "from src import utils as utils\n",
    " "
   ]
  },
  {
   "cell_type": "code",
   "execution_count": 9,
   "metadata": {},
   "outputs": [],
   "source": [
    "\n",
    "def Discriminator(inputs, is_reuse=True, name='disc'):\n",
    "        with tf.variable_scope(name, reuse=is_reuse):\n",
    "                print('is_reuse: {}'.format(is_reuse))\n",
    "                output01 = tf_utils.linear(inputs, DIM, name='fc-1')\n",
    "                output01 = tf_utils.relu(output01, name='relu-1')\n",
    "\n",
    "                output02 = tf_utils.linear(output01, DIM, name='fc-2')\n",
    "                output02 = tf_utils.relu(output02, name='relu-2')\n",
    "\n",
    "                output03 = tf_utils.linear(output02, DIM, name='fc-3')\n",
    "                output03 = tf_utils.relu(output03, name='relu-3')\n",
    "\n",
    "                output04 = tf_utils.linear(output03, DIS_DIM, name='fc-4')\n",
    "                \n",
    "                return output04"
   ]
  },
  {
   "cell_type": "code",
   "execution_count": 10,
   "metadata": {},
   "outputs": [
    {
     "data": {
      "text/plain": [
       "-0.734641237898757"
      ]
     },
     "execution_count": 10,
     "metadata": {},
     "output_type": "execute_result"
    }
   ],
   "source": [
    "real_data = tf.placeholder(tf.float32, shape=[None, 100])\n",
    "sample.sum()"
   ]
  },
  {
   "cell_type": "code",
   "execution_count": 11,
   "metadata": {},
   "outputs": [],
   "source": [
    "DIM = 512  # model dimensionality\n",
    "GEN_DIM = 100  # output dimension of the generator\n",
    "DIS_DIM = 1  # outptu dimension fo the discriminator\n",
    "\n"
   ]
  },
  {
   "cell_type": "code",
   "execution_count": 12,
   "metadata": {},
   "outputs": [
    {
     "name": "stdout",
     "output_type": "stream",
     "text": [
      "is_reuse: False\n",
      "disc/fc-1/add   [None, 512]\n",
      "disc/fc-2/add   [None, 512]\n",
      "disc/fc-3/add   [None, 512]\n",
      "disc/fc-4/add   [None, 1]\n"
     ]
    }
   ],
   "source": [
    "disc_real = Discriminator(real_data, is_reuse=False)\n",
    "saver = tf.train.Saver()"
   ]
  },
  {
   "cell_type": "code",
   "execution_count": 54,
   "metadata": {},
   "outputs": [
    {
     "name": "stdout",
     "output_type": "stream",
     "text": [
      "INFO:tensorflow:Restoring parameters from model/dir1/my_gan.ckpt\n"
     ]
    }
   ],
   "source": [
    "with tf.Session() as sess:\n",
    "    saver.restore(sess, \"model/dir1/my_gan.ckpt\")\n",
    "    \n",
    "\n",
    "    \n",
    "    value = sess.run(disc_real, feed_dict={real_data: sample.reshape(1,100)})"
   ]
  },
  {
   "cell_type": "code",
   "execution_count": 55,
   "metadata": {},
   "outputs": [
    {
     "name": "stdout",
     "output_type": "stream",
     "text": [
      "[[-3.604086]]\n",
      "-3.604086\n"
     ]
    }
   ],
   "source": [
    "print(value)\n",
    "value = value[0][0]\n",
    "print(value)"
   ]
  },
  {
   "cell_type": "code",
   "execution_count": 56,
   "metadata": {},
   "outputs": [
    {
     "data": {
      "text/plain": [
       "0.027212307"
      ]
     },
     "execution_count": 56,
     "metadata": {},
     "output_type": "execute_result"
    }
   ],
   "source": [
    "np.exp(value)"
   ]
  },
  {
   "cell_type": "code",
   "execution_count": 59,
   "metadata": {},
   "outputs": [],
   "source": [
    "import pandas as pd\n",
    "\n",
    "my_data = pd.read_csv('data/DS_1.csv', header=None) .values"
   ]
  },
  {
   "cell_type": "code",
   "execution_count": 87,
   "metadata": {},
   "outputs": [
    {
     "name": "stdout",
     "output_type": "stream",
     "text": [
      "INFO:tensorflow:Restoring parameters from model/dir1/my_gan.ckpt\n"
     ]
    }
   ],
   "source": [
    "sample2 = my_data[78,:].reshape(1,100)\n",
    "\n",
    "with tf.Session() as sess:\n",
    "    saver.restore(sess, \"model/dir1/my_gan.ckpt\")\n",
    "    \n",
    "\n",
    "    \n",
    "    value2 = sess.run(disc_real, feed_dict={real_data: sample2})\n",
    "value2 = value2[0][0]"
   ]
  },
  {
   "cell_type": "code",
   "execution_count": 88,
   "metadata": {},
   "outputs": [
    {
     "name": "stdout",
     "output_type": "stream",
     "text": [
      "-0.10214098\n"
     ]
    },
    {
     "data": {
      "text/plain": [
       "90.29022455215454"
      ]
     },
     "execution_count": 88,
     "metadata": {},
     "output_type": "execute_result"
    }
   ],
   "source": [
    "print(value2)\n",
    "np.exp(value2)*100"
   ]
  },
  {
   "cell_type": "code",
   "execution_count": 68,
   "metadata": {},
   "outputs": [],
   "source": [
    "gan_data = pd.read_csv('data/gan_dirichlet_1.csv', header=None) .values"
   ]
  },
  {
   "cell_type": "code",
   "execution_count": 99,
   "metadata": {},
   "outputs": [
    {
     "name": "stdout",
     "output_type": "stream",
     "text": [
      "INFO:tensorflow:Restoring parameters from model/dir1/my_gan.ckpt\n"
     ]
    }
   ],
   "source": [
    "sample3 = gan_data[1:100,:]#.reshape(1,100)\n",
    "\n",
    "with tf.Session() as sess:\n",
    "    saver.restore(sess, \"model/dir1/my_gan.ckpt\")\n",
    "    \n",
    "\n",
    "    \n",
    "    value3 = sess.run(disc_real, feed_dict={real_data: sample3})\n",
    "#value3 = value3[0][0]"
   ]
  },
  {
   "cell_type": "code",
   "execution_count": 104,
   "metadata": {},
   "outputs": [
    {
     "name": "stdout",
     "output_type": "stream",
     "text": [
      "0.8733672\n"
     ]
    }
   ],
   "source": [
    "ar = np.exp(value3) # *100\n",
    "print(np.min(ar))"
   ]
  },
  {
   "cell_type": "code",
   "execution_count": 96,
   "metadata": {},
   "outputs": [
    {
     "name": "stdout",
     "output_type": "stream",
     "text": [
      "-0.10292811\n"
     ]
    },
    {
     "data": {
      "text/plain": [
       "90.21918177604675"
      ]
     },
     "execution_count": 96,
     "metadata": {},
     "output_type": "execute_result"
    }
   ],
   "source": [
    "print(value3)\n",
    "np.exp(value3)*100"
   ]
  },
  {
   "cell_type": "code",
   "execution_count": null,
   "metadata": {},
   "outputs": [],
   "source": []
  }
 ],
 "metadata": {
  "kernelspec": {
   "display_name": "Python 3",
   "language": "python",
   "name": "python3"
  },
  "language_info": {
   "codemirror_mode": {
    "name": "ipython",
    "version": 3
   },
   "file_extension": ".py",
   "mimetype": "text/x-python",
   "name": "python",
   "nbconvert_exporter": "python",
   "pygments_lexer": "ipython3",
   "version": "3.6.6"
  }
 },
 "nbformat": 4,
 "nbformat_minor": 2
}
